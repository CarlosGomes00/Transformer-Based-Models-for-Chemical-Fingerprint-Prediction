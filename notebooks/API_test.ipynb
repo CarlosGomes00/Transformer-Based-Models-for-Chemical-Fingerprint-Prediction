{
 "cells": [
  {
   "metadata": {},
   "cell_type": "markdown",
   "source": [
    "# API pipeline\n",
    "\n",
    "This notebook is designed to help you understand how to use the API (Transformer class) directly, without relying on pre-made scripts, providing greater flexibility.\n",
    "\n",
    "First, you need to import some modules from the repository:\n"
   ],
   "id": "d2a595fb535a2c77"
  },
  {
   "cell_type": "code",
   "execution_count": null,
   "id": "initial_id",
   "metadata": {
    "collapsed": true
   },
   "source": [
    "from src.utils import path_check\n",
    "from src.utils import calculate_mz_vocabs, calculate_max_num_peaks\n",
    "from src.data.split_prep_tools.data_splitting import preprocess_and_split\n",
    "from src.data.mgf_tools.mgf_get import mgf_get_spectra\n",
    "from src.data.data_loader import data_loader \n",
    "from src.models.Transformer import Transformer"
   ],
   "outputs": []
  },
  {
   "metadata": {},
   "cell_type": "markdown",
   "source": "And the path to the **.mgf** file:",
   "id": "deae5c54a13b49b0"
  },
  {
   "metadata": {},
   "cell_type": "code",
   "execution_count": null,
   "source": [
    "mgf_path = \"path_to_the_file\"\n",
    "\n",
    "path_check(mgf_path)"
   ],
   "id": "d501fcf613fcd85e",
   "outputs": []
  },
  {
   "metadata": {},
   "cell_type": "markdown",
   "source": "Then, you must **read the file** and **calculate** some of the **parameters** that will be needed later:",
   "id": "aaa4185618f5d950"
  },
  {
   "metadata": {},
   "cell_type": "code",
   "execution_count": null,
   "source": "mgf_spectra = mgf_get_spectra(mgf_path)",
   "id": "a29a5231d4078667",
   "outputs": []
  },
  {
   "metadata": {},
   "cell_type": "code",
   "execution_count": null,
   "source": [
    "max_num_peaks = calculate_max_num_peaks(mgf_spectra, percentile=95)\n",
    "mz_vocabs = calculate_mz_vocabs(mgf_spectra)\n",
    "max_seq_len = max_num_peaks + 1\n",
    "vocab_size = len(mz_vocabs)"
   ],
   "id": "894f0fb533546c5",
   "outputs": []
  },
  {
   "metadata": {},
   "cell_type": "markdown",
   "source": "Then we move on to dividing the dataset into **training, validation and testing**:",
   "id": "413d106e40c1c118"
  },
  {
   "metadata": {},
   "cell_type": "markdown",
   "source": [
    "The **seed** is a very important parameter in this pipeline and must be taken into account.\n",
    "\n",
    "A function that has output and is called with seed 1 will store the results in a folder with the corresponding seed. "
   ],
   "id": "782ad44a43fe2f71"
  },
  {
   "metadata": {},
   "cell_type": "code",
   "execution_count": null,
   "source": "splits = preprocess_and_split(mgf_path, seed=1)",
   "id": "e8389e55f5b26d9c",
   "outputs": []
  },
  {
   "metadata": {},
   "cell_type": "markdown",
   "source": "After the splits, we call the **data_loader**:",
   "id": "22243ac2511c4161"
  },
  {
   "metadata": {},
   "cell_type": "code",
   "execution_count": null,
   "source": "loaders = data_loader(mgf_path=mgf_path, batch_size=16, seed=1, max_num_peaks=max_num_peaks, mz_vocabs=mz_vocabs)\n",
   "id": "2d67f3f5c11e10e6",
   "outputs": []
  },
  {
   "metadata": {},
   "cell_type": "markdown",
   "source": "Remember, the dataloader will fetch the splits from the seed provided to it. **(data_loader(...., seed = 1)) will load the data saved with seed 1**",
   "id": "e94308537bade865"
  },
  {
   "metadata": {},
   "cell_type": "markdown",
   "source": [
    "After that, we can instantiate the model:\n",
    "\n",
    "The seed used in this step will be the seed in which the method logs (.fit, .eval, and .predict) will be saved."
   ],
   "id": "d08fa4b72ab562bb"
  },
  {
   "metadata": {},
   "cell_type": "code",
   "execution_count": null,
   "source": "model = Transformer(seed=1,max_seq_len=max_seq_len,vocab_size=vocab_size,morgan_default_dim=2048,d_model=128,n_head=4,num_layers=4,dropout_rate=0.1)",
   "id": "9b880ad551a90324",
   "outputs": []
  },
  {
   "metadata": {},
   "cell_type": "markdown",
   "source": "And we can adjust the model to the training data:",
   "id": "f063dc0e6ef40e2e"
  },
  {
   "metadata": {},
   "cell_type": "code",
   "execution_count": null,
   "source": "best_model = model.fit(train_loader=loaders[\"train\"], val_loader=loaders[\"val\"], max_epochs=100)",
   "id": "72e2f89455ce53b9",
   "outputs": []
  },
  {
   "metadata": {},
   "cell_type": "markdown",
   "source": "And evaluate on the test set:",
   "id": "56d6ff97010c2e59"
  },
  {
   "metadata": {},
   "cell_type": "code",
   "execution_count": null,
   "source": "model.eval(test_loader=loaders[\"test\"])",
   "id": "d2b6403f9a734b13",
   "outputs": []
  },
  {
   "metadata": {},
   "cell_type": "markdown",
   "source": [
    "Once the model is trained, we can use it for its main function: predicting molecular fingerprints from new mass spectrometry data. To do this, we use the .predict() method.\n",
    "\n",
    "In this notebook, we will use test_loader as an example, but you can create a DataLoader with any set of spectra for which you want to make predictions."
   ],
   "id": "300fe513602ad1ce"
  },
  {
   "metadata": {},
   "cell_type": "code",
   "execution_count": null,
   "source": "model.predict(loaders[\"test\"], return_probabilities=False, save_results=False)\n",
   "id": "483bf2641212a22d",
   "outputs": []
  }
 ],
 "metadata": {
  "kernelspec": {
   "display_name": "Python 3",
   "language": "python",
   "name": "python3"
  },
  "language_info": {
   "codemirror_mode": {
    "name": "ipython",
    "version": 2
   },
   "file_extension": ".py",
   "mimetype": "text/x-python",
   "name": "python",
   "nbconvert_exporter": "python",
   "pygments_lexer": "ipython2",
   "version": "2.7.6"
  }
 },
 "nbformat": 4,
 "nbformat_minor": 5
}

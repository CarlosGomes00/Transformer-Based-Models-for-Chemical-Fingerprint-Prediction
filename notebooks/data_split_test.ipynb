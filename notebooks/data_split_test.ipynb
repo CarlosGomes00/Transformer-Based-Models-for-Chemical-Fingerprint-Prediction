{
 "cells": [
  {
   "cell_type": "code",
   "id": "initial_id",
   "metadata": {
    "collapsed": true,
    "ExecuteTime": {
     "end_time": "2025-08-04T19:09:42.304912Z",
     "start_time": "2025-08-04T19:09:35.074686Z"
    }
   },
   "source": [
    "from src.data.mgf_tools.mgf_get import *\n",
    "from src.config import *\n",
    "from src.utils import *\n",
    "import pandas as pd\n",
    "from deepmol.splitters import MultiTaskStratifiedSplitter\n",
    "from deepmol.compound_featurization import MorganFingerprint\n",
    "from deepmol.datasets import SmilesDataset\n",
    "from src.config import *"
   ],
   "outputs": [
    {
     "name": "stderr",
     "output_type": "stream",
     "text": [
      "No normalization for SPS. Feature removed!\n",
      "No normalization for AvgIpc. Feature removed!\n",
      "2025-08-04 20:09:38.488925: E external/local_xla/xla/stream_executor/cuda/cuda_dnn.cc:9261] Unable to register cuDNN factory: Attempting to register factory for plugin cuDNN when one has already been registered\n",
      "2025-08-04 20:09:38.488975: E external/local_xla/xla/stream_executor/cuda/cuda_fft.cc:607] Unable to register cuFFT factory: Attempting to register factory for plugin cuFFT when one has already been registered\n",
      "2025-08-04 20:09:38.490444: E external/local_xla/xla/stream_executor/cuda/cuda_blas.cc:1515] Unable to register cuBLAS factory: Attempting to register factory for plugin cuBLAS when one has already been registered\n",
      "2025-08-04 20:09:38.498827: I tensorflow/core/platform/cpu_feature_guard.cc:182] This TensorFlow binary is optimized to use available CPU instructions in performance-critical operations.\n",
      "To enable the following instructions: AVX2 AVX512F FMA, in other operations, rebuild TensorFlow with the appropriate compiler flags.\n",
      "2025-08-04 20:09:39.513059: W tensorflow/compiler/tf2tensorrt/utils/py_utils.cc:38] TF-TRT Warning: Could not find TensorRT\n"
     ]
    },
    {
     "name": "stdout",
     "output_type": "stream",
     "text": [
      "WARNING:tensorflow:From /home/cgomes/miniforge3/envs/transformer/lib/python3.11/site-packages/tensorflow/python/util/deprecation.py:588: calling function (from tensorflow.python.eager.polymorphic_function.polymorphic_function) with experimental_relax_shapes is deprecated and will be removed in a future version.\n",
      "Instructions for updating:\n",
      "experimental_relax_shapes is deprecated, use reduce_retracing instead\n"
     ]
    },
    {
     "name": "stderr",
     "output_type": "stream",
     "text": [
      "Skipped loading modules with transformers dependency. No module named 'transformers'\n",
      "cannot import name 'HuggingFaceModel' from 'deepchem.models.torch_models' (/home/cgomes/miniforge3/envs/transformer/lib/python3.11/site-packages/deepchem/models/torch_models/__init__.py)\n",
      "Skipped loading modules with pytorch-lightning dependency, missing a dependency. No module named 'lightning'\n",
      "Skipped loading some Jax models, missing a dependency. No module named 'jax'\n",
      "/home/cgomes/miniforge3/envs/transformer/lib/python3.11/site-packages/deepmol/compound_featurization/__init__.py:20: UserWarning: Mol2Vec not available. Please install it to use it. (pip install git+https://github.com/samoturk/mol2vec#egg=mol2vec)\n",
      "  warnings.warn(\"Mol2Vec not available. Please install it to use it. \"\n"
     ]
    }
   ],
   "execution_count": 1
  },
  {
   "metadata": {},
   "cell_type": "markdown",
   "source": "# DATA SPLIT\n",
   "id": "75a59e99f27c56e4"
  },
  {
   "metadata": {
    "ExecuteTime": {
     "end_time": "2025-08-04T19:09:42.336059Z",
     "start_time": "2025-08-04T19:09:42.333106Z"
    }
   },
   "cell_type": "code",
   "source": "mgf_data = mgf_path\n",
   "id": "2324e2a5bd419a0e",
   "outputs": [],
   "execution_count": 2
  },
  {
   "metadata": {
    "ExecuteTime": {
     "end_time": "2025-08-04T19:11:38.444072Z",
     "start_time": "2025-08-04T19:09:42.452759Z"
    }
   },
   "cell_type": "code",
   "source": "spectra = mgf_get_spectra(mgf_data)",
   "id": "8ba6c806f677a792",
   "outputs": [],
   "execution_count": 3
  },
  {
   "metadata": {
    "ExecuteTime": {
     "end_time": "2025-08-04T19:11:39.672900Z",
     "start_time": "2025-08-04T19:11:38.466024Z"
    }
   },
   "cell_type": "code",
   "source": [
    "smiles_data = mgf_get_smiles(spectra)\n",
    "\n",
    "smiles_df = pd.DataFrame(smiles_data)"
   ],
   "id": "28481e3f962ce1b7",
   "outputs": [],
   "execution_count": 4
  },
  {
   "metadata": {
    "ExecuteTime": {
     "end_time": "2025-08-04T19:31:38.298943Z",
     "start_time": "2025-08-04T19:11:39.687852Z"
    }
   },
   "cell_type": "code",
   "source": "processed_spectra = mgf_deconvoluter(mgf_data=spectra, mz_vocabs=mz_vocabs, min_num_peaks=5, max_num_peaks=max_num_peaks, noise_rmv_threshold=0.01, mass_error=0.01, allowed_spectral_entropy=True, log=False)\n",
   "id": "c05945bbb2f16a05",
   "outputs": [],
   "execution_count": 5
  },
  {
   "metadata": {
    "ExecuteTime": {
     "end_time": "2025-08-04T19:31:38.799298Z",
     "start_time": "2025-08-04T19:31:38.316419Z"
    }
   },
   "cell_type": "code",
   "source": [
    "spectrum_ids = [spec[0] for spec in processed_spectra]\n",
    "print(f\"Espectros processados: {len(spectrum_ids)}\")\n",
    "\n",
    "filtered_smiles= smiles_df[smiles_df['spectrum_id'].isin(spectrum_ids)]\n",
    "print(f\"SMILES filtrados: {len(filtered_smiles)}\")"
   ],
   "id": "5f798d09fed6e395",
   "outputs": [
    {
     "name": "stdout",
     "output_type": "stream",
     "text": [
      "Espectros processados: 276307\n",
      "SMILES filtrados: 276307\n"
     ]
    }
   ],
   "execution_count": 6
  },
  {
   "metadata": {
    "ExecuteTime": {
     "end_time": "2025-08-04T19:31:38.841275Z",
     "start_time": "2025-08-04T19:31:38.820705Z"
    }
   },
   "cell_type": "code",
   "source": [
    "smiles_list = filtered_smiles['smiles'].tolist()\n",
    "ids_list = filtered_smiles['spectrum_id'].tolist()"
   ],
   "id": "1fc85e58dcdf79bf",
   "outputs": [],
   "execution_count": 7
  },
  {
   "metadata": {
    "ExecuteTime": {
     "end_time": "2025-08-04T19:32:24.173073Z",
     "start_time": "2025-08-04T19:31:38.864415Z"
    }
   },
   "cell_type": "code",
   "source": [
    "dataset = SmilesDataset(smiles=smiles_list, ids=ids_list)\n",
    "print(f\"Dataset inicial: {len(dataset)} samples\")"
   ],
   "id": "28294b502908893c",
   "outputs": [
    {
     "name": "stdout",
     "output_type": "stream",
     "text": [
      "Dataset inicial: 276307 samples\n"
     ]
    }
   ],
   "execution_count": 8
  },
  {
   "metadata": {
    "ExecuteTime": {
     "end_time": "2025-08-04T19:39:36.065375Z",
     "start_time": "2025-08-04T19:32:24.217098Z"
    }
   },
   "cell_type": "code",
   "source": [
    "dataset = MorganFingerprint().featurize(dataset)\n",
    "print(f\"Fingerprints gerados: {len(dataset)}\")"
   ],
   "id": "1c2e6f3db97ddbdc",
   "outputs": [
    {
     "name": "stderr",
     "output_type": "stream",
     "text": [
      "MorganFingerprint: 100%|██████████| 276307/276307 [06:08<00:00, 750.68it/s]\n"
     ]
    },
    {
     "name": "stdout",
     "output_type": "stream",
     "text": [
      "Fingerprints gerados: 276307\n"
     ]
    }
   ],
   "execution_count": 9
  },
  {
   "metadata": {
    "ExecuteTime": {
     "end_time": "2025-08-04T19:39:36.219911Z",
     "start_time": "2025-08-04T19:39:36.212999Z"
    }
   },
   "cell_type": "code",
   "source": "dataset.X",
   "id": "7ac09e41240b2ca1",
   "outputs": [
    {
     "data": {
      "text/plain": [
       "array([[0., 1., 0., ..., 0., 0., 0.],\n",
       "       [0., 0., 0., ..., 0., 0., 0.],\n",
       "       [0., 0., 0., ..., 0., 0., 0.],\n",
       "       ...,\n",
       "       [0., 0., 0., ..., 0., 0., 0.],\n",
       "       [0., 0., 0., ..., 0., 0., 0.],\n",
       "       [0., 0., 0., ..., 0., 0., 0.]])"
      ]
     },
     "execution_count": 10,
     "metadata": {},
     "output_type": "execute_result"
    }
   ],
   "execution_count": 10
  },
  {
   "metadata": {
    "ExecuteTime": {
     "end_time": "2025-08-04T19:39:36.236265Z",
     "start_time": "2025-08-04T19:39:36.234057Z"
    }
   },
   "cell_type": "code",
   "source": "dataset._y = dataset.X",
   "id": "d19ecb9fb8f4731e",
   "outputs": [],
   "execution_count": 11
  },
  {
   "metadata": {
    "ExecuteTime": {
     "end_time": "2025-08-04T19:39:36.280100Z",
     "start_time": "2025-08-04T19:39:36.276263Z"
    }
   },
   "cell_type": "code",
   "source": "dataset.y",
   "id": "1f93bb0e7f6366e4",
   "outputs": [
    {
     "data": {
      "text/plain": [
       "array([[0., 1., 0., ..., 0., 0., 0.],\n",
       "       [0., 0., 0., ..., 0., 0., 0.],\n",
       "       [0., 0., 0., ..., 0., 0., 0.],\n",
       "       ...,\n",
       "       [0., 0., 0., ..., 0., 0., 0.],\n",
       "       [0., 0., 0., ..., 0., 0., 0.],\n",
       "       [0., 0., 0., ..., 0., 0., 0.]])"
      ]
     },
     "execution_count": 12,
     "metadata": {},
     "output_type": "execute_result"
    }
   ],
   "execution_count": 12
  },
  {
   "metadata": {
    "ExecuteTime": {
     "end_time": "2025-08-04T21:58:59.797791Z",
     "start_time": "2025-08-04T19:39:36.322902Z"
    }
   },
   "cell_type": "code",
   "source": [
    "train_dataset, val_dataset, test_dataset = MultiTaskStratifiedSplitter().train_valid_test_split(\n",
    "    dataset, frac_train=0.8, frac_val=0.1, frac_test=0.1, seed=0)"
   ],
   "id": "14a657a9b8ac7e89",
   "outputs": [],
   "execution_count": 13
  },
  {
   "metadata": {
    "ExecuteTime": {
     "end_time": "2025-08-04T21:58:59.992718Z",
     "start_time": "2025-08-04T21:58:59.988613Z"
    }
   },
   "cell_type": "code",
   "source": [
    "print(f\"SPLIT\")\n",
    "print(f\"Train: {len(train_dataset)} samples\")\n",
    "print(f\"Validation: {len(val_dataset)} samples\")\n",
    "print(f\"Test: {len(test_dataset)} samples\")"
   ],
   "id": "6c14a2e0d60e2ac",
   "outputs": [
    {
     "name": "stdout",
     "output_type": "stream",
     "text": [
      "SPLIT\n",
      "Train: 218543 samples\n",
      "Validation: 29335 samples\n",
      "Test: 28429 samples\n"
     ]
    }
   ],
   "execution_count": 14
  },
  {
   "metadata": {
    "ExecuteTime": {
     "end_time": "2025-08-04T21:59:01.672012Z",
     "start_time": "2025-08-04T21:59:01.042039Z"
    }
   },
   "cell_type": "code",
   "source": [
    "def generate_stats(y_train: np.ndarray, y_test: np.ndarray, y_val: np.ndarray=None):\n",
    "    \"\"\"\n",
    "    Parameters\n",
    "    ----------\n",
    "    y_train : np.ndarray\n",
    "        Labels of the train set\n",
    "    y_test : np.ndarray\n",
    "        Labels of the test set\n",
    "    y_val : np.ndarray, optional\n",
    "        Labels of the validation set, by default None\n",
    "    \n",
    "    Returns\n",
    "    -------\n",
    "    Tuple[pd.DataFrame, Any]\n",
    "        DataFrame with the stats of the split, styled table\n",
    "    \"\"\"\n",
    "    y_test_sum = np.sum(y_test, axis=0)\n",
    "    y_train_sum = np.sum(y_train, axis=0)\n",
    "\n",
    "    sum_of_all = pd.DataFrame([y_train_sum, y_test_sum], index=[\"train\", \"test\"])\n",
    "\n",
    "    if y_val is not None:\n",
    "        y_val_sum = np.sum(y_val, axis=0)\n",
    "        sum_of_all = pd.DataFrame([y_train_sum, y_test_sum, y_val_sum], index=[\"train\", \"test\", \"validation\"])\n",
    "        sum_of_all.loc['Validation relative split', :] = sum_of_all.loc['validation', :] / (sum_of_all.loc['train', :] + sum_of_all.loc['test', :] + sum_of_all.loc['validation', :]) * 100\n",
    "        sum_of_all.loc['Test relative split', :] = sum_of_all.loc['test', :] / (sum_of_all.loc['train', :] + sum_of_all.loc['test', :]+ sum_of_all.loc['validation', :]) * 100\n",
    "        sum_of_all.loc['Train relative split', :] = sum_of_all.loc['train', :] / (sum_of_all.loc['train', :] + sum_of_all.loc['test', :]+ sum_of_all.loc['validation', :]) * 100\n",
    "\n",
    "    else:\n",
    "        sum_of_all.loc['Test relative split', :] = sum_of_all.loc['test', :] / (sum_of_all.loc['train', :] + sum_of_all.loc['test', :]) * 100\n",
    "        sum_of_all.loc['Train relative split', :] = sum_of_all.loc['train', :] / (sum_of_all.loc['train', :] + sum_of_all.loc['test', :]) * 100\n",
    "\n",
    "    df = pd.melt(sum_of_all.T.reset_index(), id_vars=['index']).rename(columns={'index': 'EC', 'value': 'Percentage of data'})\n",
    "    if y_val is not None:\n",
    "        df = df[(df[\"variable\"]!=\"train\") & (df[\"variable\"]!=\"validation\") & (df[\"variable\"]!=\"test\")]\n",
    "    else: \n",
    "        df = df[(df[\"variable\"]!=\"train\") & (df[\"variable\"]!=\"test\")]\n",
    "\n",
    "    df1 = sum_of_all.loc['Test relative split', :].describe()\n",
    "    df2 = sum_of_all.loc['Train relative split', :].describe()\n",
    "    if y_val is not None:\n",
    "        df3 = sum_of_all.loc['Validation relative split', :].describe()\n",
    "        stats_table = pd.concat([df1, df2, df3], axis=1)\n",
    "    else:\n",
    "        stats_table = pd.concat([df1, df2], axis=1)\n",
    "\n",
    "    stats_table.drop(['count'], inplace=True)\n",
    "    table_styled = stats_table.style.background_gradient(cmap=\"YlGn\")\n",
    "    \n",
    "\n",
    "    return df, table_styled\n",
    "\n",
    "\n",
    "train_labels = train_dataset.y\n",
    "val_labels = val_dataset.y\n",
    "test_labels = test_dataset.y\n",
    "\n",
    "\n",
    "df, table_styled = generate_stats(train_labels, test_labels, val_labels)\n",
    "\n",
    "table_styled"
   ],
   "id": "ad21b4f631869156",
   "outputs": [
    {
     "data": {
      "text/plain": [
       "<pandas.io.formats.style.Styler at 0x7fb0adba3d50>"
      ],
      "text/html": [
       "<style type=\"text/css\">\n",
       "#T_40941_row0_col0 {\n",
       "  background-color: #e1f3a9;\n",
       "  color: #000000;\n",
       "}\n",
       "#T_40941_row0_col1 {\n",
       "  background-color: #10743c;\n",
       "  color: #f1f1f1;\n",
       "}\n",
       "#T_40941_row0_col2 {\n",
       "  background-color: #d9f0a3;\n",
       "  color: #000000;\n",
       "}\n",
       "#T_40941_row1_col0 {\n",
       "  background-color: #fafdc9;\n",
       "  color: #000000;\n",
       "}\n",
       "#T_40941_row1_col1, #T_40941_row2_col0, #T_40941_row2_col2 {\n",
       "  background-color: #ffffe5;\n",
       "  color: #000000;\n",
       "}\n",
       "#T_40941_row1_col2 {\n",
       "  background-color: #f9fdc4;\n",
       "  color: #000000;\n",
       "}\n",
       "#T_40941_row2_col1 {\n",
       "  background-color: #aedd8e;\n",
       "  color: #000000;\n",
       "}\n",
       "#T_40941_row3_col0 {\n",
       "  background-color: #f3fab6;\n",
       "  color: #000000;\n",
       "}\n",
       "#T_40941_row3_col1 {\n",
       "  background-color: #1c7e40;\n",
       "  color: #f1f1f1;\n",
       "}\n",
       "#T_40941_row3_col2 {\n",
       "  background-color: #edf8b2;\n",
       "  color: #000000;\n",
       "}\n",
       "#T_40941_row4_col0 {\n",
       "  background-color: #e6f5ac;\n",
       "  color: #000000;\n",
       "}\n",
       "#T_40941_row4_col1 {\n",
       "  background-color: #0c723b;\n",
       "  color: #f1f1f1;\n",
       "}\n",
       "#T_40941_row4_col2 {\n",
       "  background-color: #ddf2a6;\n",
       "  color: #000000;\n",
       "}\n",
       "#T_40941_row5_col0 {\n",
       "  background-color: #d5eea1;\n",
       "  color: #000000;\n",
       "}\n",
       "#T_40941_row5_col1 {\n",
       "  background-color: #006837;\n",
       "  color: #f1f1f1;\n",
       "}\n",
       "#T_40941_row5_col2 {\n",
       "  background-color: #c4e799;\n",
       "  color: #000000;\n",
       "}\n",
       "#T_40941_row6_col0, #T_40941_row6_col1, #T_40941_row6_col2 {\n",
       "  background-color: #004529;\n",
       "  color: #f1f1f1;\n",
       "}\n",
       "</style>\n",
       "<table id=\"T_40941\">\n",
       "  <thead>\n",
       "    <tr>\n",
       "      <th class=\"blank level0\" >&nbsp;</th>\n",
       "      <th id=\"T_40941_level0_col0\" class=\"col_heading level0 col0\" >Test relative split</th>\n",
       "      <th id=\"T_40941_level0_col1\" class=\"col_heading level0 col1\" >Train relative split</th>\n",
       "      <th id=\"T_40941_level0_col2\" class=\"col_heading level0 col2\" >Validation relative split</th>\n",
       "    </tr>\n",
       "  </thead>\n",
       "  <tbody>\n",
       "    <tr>\n",
       "      <th id=\"T_40941_level0_row0\" class=\"row_heading level0 row0\" >mean</th>\n",
       "      <td id=\"T_40941_row0_col0\" class=\"data row0 col0\" >10.751229</td>\n",
       "      <td id=\"T_40941_row0_col1\" class=\"data row0 col1\" >80.141132</td>\n",
       "      <td id=\"T_40941_row0_col2\" class=\"data row0 col2\" >9.107639</td>\n",
       "    </tr>\n",
       "    <tr>\n",
       "      <th id=\"T_40941_level0_row1\" class=\"row_heading level0 row1\" >std</th>\n",
       "      <td id=\"T_40941_row1_col0\" class=\"data row1 col0\" >4.903469</td>\n",
       "      <td id=\"T_40941_row1_col1\" class=\"data row1 col1\" >7.514379</td>\n",
       "      <td id=\"T_40941_row1_col2\" class=\"data row1 col2\" >4.145522</td>\n",
       "    </tr>\n",
       "    <tr>\n",
       "      <th id=\"T_40941_level0_row2\" class=\"row_heading level0 row2\" >min</th>\n",
       "      <td id=\"T_40941_row2_col0\" class=\"data row2 col0\" >1.450116</td>\n",
       "      <td id=\"T_40941_row2_col1\" class=\"data row2 col1\" >40.689655</td>\n",
       "      <td id=\"T_40941_row2_col2\" class=\"data row2 col2\" >1.065719</td>\n",
       "    </tr>\n",
       "    <tr>\n",
       "      <th id=\"T_40941_level0_row3\" class=\"row_heading level0 row3\" >25%</th>\n",
       "      <td id=\"T_40941_row3_col0\" class=\"data row3 col0\" >7.545080</td>\n",
       "      <td id=\"T_40941_row3_col1\" class=\"data row3 col1\" >76.463060</td>\n",
       "      <td id=\"T_40941_row3_col2\" class=\"data row3 col2\" >6.347362</td>\n",
       "    </tr>\n",
       "    <tr>\n",
       "      <th id=\"T_40941_level0_row4\" class=\"row_heading level0 row4\" >50%</th>\n",
       "      <td id=\"T_40941_row4_col0\" class=\"data row4 col0\" >9.969892</td>\n",
       "      <td id=\"T_40941_row4_col1\" class=\"data row4 col1\" >81.202314</td>\n",
       "      <td id=\"T_40941_row4_col2\" class=\"data row4 col2\" >8.532858</td>\n",
       "    </tr>\n",
       "    <tr>\n",
       "      <th id=\"T_40941_level0_row5\" class=\"row_heading level0 row5\" >75%</th>\n",
       "      <td id=\"T_40941_row5_col0\" class=\"data row5 col0\" >12.844055</td>\n",
       "      <td id=\"T_40941_row5_col1\" class=\"data row5 col1\" >85.111579</td>\n",
       "      <td id=\"T_40941_row5_col2\" class=\"data row5 col2\" >10.952622</td>\n",
       "    </tr>\n",
       "    <tr>\n",
       "      <th id=\"T_40941_level0_row6\" class=\"row_heading level0 row6\" >max</th>\n",
       "      <td id=\"T_40941_row6_col0\" class=\"data row6 col0\" >44.696970</td>\n",
       "      <td id=\"T_40941_row6_col1\" class=\"data row6 col1\" >96.470588</td>\n",
       "      <td id=\"T_40941_row6_col2\" class=\"data row6 col2\" >32.934435</td>\n",
       "    </tr>\n",
       "  </tbody>\n",
       "</table>\n"
      ]
     },
     "execution_count": 15,
     "metadata": {},
     "output_type": "execute_result"
    }
   ],
   "execution_count": 15
  }
 ],
 "metadata": {
  "kernelspec": {
   "display_name": "Python 3",
   "language": "python",
   "name": "python3"
  },
  "language_info": {
   "codemirror_mode": {
    "name": "ipython",
    "version": 2
   },
   "file_extension": ".py",
   "mimetype": "text/x-python",
   "name": "python",
   "nbconvert_exporter": "python",
   "pygments_lexer": "ipython2",
   "version": "2.7.6"
  }
 },
 "nbformat": 4,
 "nbformat_minor": 5
}

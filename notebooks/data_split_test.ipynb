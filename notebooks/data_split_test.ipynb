{
 "cells": [
  {
   "cell_type": "code",
   "id": "initial_id",
   "metadata": {
    "collapsed": true,
    "ExecuteTime": {
     "end_time": "2025-08-04T18:47:00.069426Z",
     "start_time": "2025-08-04T18:46:27.088844Z"
    }
   },
   "source": [
    "from src.data.mgf_tools.mgf_get import *\n",
    "from src.config import *\n",
    "from src.utils import *\n",
    "import pandas as pd\n",
    "from deepmol.splitters import MultiTaskStratifiedSplitter\n",
    "from deepmol.compound_featurization import MorganFingerprint\n",
    "from deepmol.datasets import SmilesDataset\n",
    "from src.config import *"
   ],
   "outputs": [
    {
     "name": "stderr",
     "output_type": "stream",
     "text": [
      "No normalization for SPS. Feature removed!\n",
      "No normalization for AvgIpc. Feature removed!\n"
     ]
    },
    {
     "name": "stdout",
     "output_type": "stream",
     "text": [
      "WARNING:tensorflow:From C:\\Users\\carla\\miniconda3\\envs\\tese_d\\Lib\\site-packages\\keras\\src\\losses.py:2976: The name tf.losses.sparse_softmax_cross_entropy is deprecated. Please use tf.compat.v1.losses.sparse_softmax_cross_entropy instead.\n",
      "\n",
      "WARNING:tensorflow:From C:\\Users\\carla\\miniconda3\\envs\\tese_d\\Lib\\site-packages\\tensorflow\\python\\util\\deprecation.py:588: calling function (from tensorflow.python.eager.polymorphic_function.polymorphic_function) with experimental_relax_shapes is deprecated and will be removed in a future version.\n",
      "Instructions for updating:\n",
      "experimental_relax_shapes is deprecated, use reduce_retracing instead\n"
     ]
    },
    {
     "name": "stderr",
     "output_type": "stream",
     "text": [
      "Skipped loading modules with transformers dependency. No module named 'transformers'\n",
      "cannot import name 'HuggingFaceModel' from 'deepchem.models.torch_models' (C:\\Users\\carla\\miniconda3\\envs\\tese_d\\Lib\\site-packages\\deepchem\\models\\torch_models\\__init__.py)\n",
      "Skipped loading modules with pytorch-lightning dependency, missing a dependency. No module named 'lightning'\n",
      "Skipped loading some Jax models, missing a dependency. No module named 'jax'\n",
      "C:\\Users\\carla\\miniconda3\\envs\\tese_d\\Lib\\site-packages\\deepmol\\compound_featurization\\__init__.py:20: UserWarning: Mol2Vec not available. Please install it to use it. (pip install git+https://github.com/samoturk/mol2vec#egg=mol2vec)\n",
      "  warnings.warn(\"Mol2Vec not available. Please install it to use it. \"\n"
     ]
    }
   ],
   "execution_count": 1
  },
  {
   "metadata": {},
   "cell_type": "markdown",
   "source": "# DATA SPLIT\n",
   "id": "75a59e99f27c56e4"
  },
  {
   "metadata": {
    "ExecuteTime": {
     "end_time": "2025-08-04T18:47:00.083541Z",
     "start_time": "2025-08-04T18:47:00.073982Z"
    }
   },
   "cell_type": "code",
   "source": "mgf_data = mgf_path\n",
   "id": "2324e2a5bd419a0e",
   "outputs": [],
   "execution_count": 2
  },
  {
   "metadata": {
    "ExecuteTime": {
     "end_time": "2025-08-04T18:50:35.080234Z",
     "start_time": "2025-08-04T18:47:00.087560Z"
    }
   },
   "cell_type": "code",
   "source": "spectra = mgf_get_spectra(mgf_data)",
   "id": "8ba6c806f677a792",
   "outputs": [],
   "execution_count": 3
  },
  {
   "metadata": {
    "ExecuteTime": {
     "end_time": "2025-08-04T18:50:35.108156Z",
     "start_time": "2025-08-04T18:50:35.083047Z"
    }
   },
   "cell_type": "code",
   "source": [
    "smiles_data = mgf_get_smiles(spectra)\n",
    "\n",
    "smiles_df = pd.DataFrame(smiles_data)"
   ],
   "id": "28481e3f962ce1b7",
   "outputs": [],
   "execution_count": 4
  },
  {
   "metadata": {
    "ExecuteTime": {
     "end_time": "2025-08-04T18:50:36.497572Z",
     "start_time": "2025-08-04T18:50:35.109162Z"
    }
   },
   "cell_type": "code",
   "source": "processed_spectra = mgf_deconvoluter(mgf_data=spectra, mz_vocabs=mz_vocabs, min_num_peaks=5, max_num_peaks=max_num_peaks, noise_rmv_threshold=0.01, mass_error=0.01, allowed_spectral_entropy=True, log=False)\n",
   "id": "c05945bbb2f16a05",
   "outputs": [],
   "execution_count": 5
  },
  {
   "metadata": {
    "ExecuteTime": {
     "end_time": "2025-08-04T18:50:36.536298Z",
     "start_time": "2025-08-04T18:50:36.499583Z"
    }
   },
   "cell_type": "code",
   "source": [
    "spectrum_ids = [spec[0] for spec in processed_spectra]\n",
    "print(f\"Espectros processados: {len(spectrum_ids)}\")\n",
    "\n",
    "filtered_smiles= smiles_df[smiles_df['spectrum_id'].isin(spectrum_ids)]\n",
    "print(f\"SMILES filtrados: {len(filtered_smiles)}\")"
   ],
   "id": "5f798d09fed6e395",
   "outputs": [
    {
     "name": "stdout",
     "output_type": "stream",
     "text": [
      "Espectros processados: 158\n",
      "SMILES filtrados: 158\n"
     ]
    }
   ],
   "execution_count": 6
  },
  {
   "metadata": {
    "ExecuteTime": {
     "end_time": "2025-08-04T18:50:36.543994Z",
     "start_time": "2025-08-04T18:50:36.538310Z"
    }
   },
   "cell_type": "code",
   "source": [
    "smiles_list = filtered_smiles['smiles'].tolist()\n",
    "ids_list = filtered_smiles['spectrum_id'].tolist()"
   ],
   "id": "1fc85e58dcdf79bf",
   "outputs": [],
   "execution_count": 7
  },
  {
   "metadata": {
    "ExecuteTime": {
     "end_time": "2025-08-04T18:50:36.603239Z",
     "start_time": "2025-08-04T18:50:36.547003Z"
    }
   },
   "cell_type": "code",
   "source": [
    "dataset = SmilesDataset(smiles=smiles_list, ids=ids_list)\n",
    "print(f\"Dataset inicial: {len(dataset)} samples\")"
   ],
   "id": "28294b502908893c",
   "outputs": [
    {
     "name": "stdout",
     "output_type": "stream",
     "text": [
      "Dataset inicial: 158 samples\n"
     ]
    }
   ],
   "execution_count": 8
  },
  {
   "metadata": {
    "ExecuteTime": {
     "end_time": "2025-08-04T18:51:20.185802Z",
     "start_time": "2025-08-04T18:51:19.904012Z"
    }
   },
   "cell_type": "code",
   "source": [
    "dataset = MorganFingerprint().featurize(dataset)\n",
    "print(f\"Fingerprints gerados: {len(dataset)}\")"
   ],
   "id": "1c2e6f3db97ddbdc",
   "outputs": [
    {
     "name": "stderr",
     "output_type": "stream",
     "text": [
      "MorganFingerprint: 100%|██████████| 158/158 [00:00<00:00, 679.10it/s]"
     ]
    },
    {
     "name": "stdout",
     "output_type": "stream",
     "text": [
      "Fingerprints gerados: 158\n"
     ]
    },
    {
     "name": "stderr",
     "output_type": "stream",
     "text": [
      "\n"
     ]
    }
   ],
   "execution_count": 10
  },
  {
   "metadata": {
    "ExecuteTime": {
     "end_time": "2025-08-04T18:51:26.824201Z",
     "start_time": "2025-08-04T18:51:26.812865Z"
    }
   },
   "cell_type": "code",
   "source": "dataset.X",
   "id": "7ac09e41240b2ca1",
   "outputs": [
    {
     "data": {
      "text/plain": [
       "array([[0., 1., 0., ..., 0., 0., 0.],\n",
       "       [0., 0., 0., ..., 0., 0., 0.],\n",
       "       [0., 0., 0., ..., 0., 0., 0.],\n",
       "       ...,\n",
       "       [0., 1., 0., ..., 0., 0., 0.],\n",
       "       [0., 1., 0., ..., 0., 0., 0.],\n",
       "       [0., 1., 0., ..., 0., 0., 0.]])"
      ]
     },
     "execution_count": 11,
     "metadata": {},
     "output_type": "execute_result"
    }
   ],
   "execution_count": 11
  },
  {
   "metadata": {},
   "cell_type": "code",
   "source": "dataset._y = dataset.X",
   "id": "d19ecb9fb8f4731e",
   "outputs": [],
   "execution_count": 12
  },
  {
   "metadata": {
    "ExecuteTime": {
     "end_time": "2025-08-04T18:51:30.454027Z",
     "start_time": "2025-08-04T18:51:30.435900Z"
    }
   },
   "cell_type": "code",
   "source": "dataset.y",
   "id": "1f93bb0e7f6366e4",
   "outputs": [
    {
     "data": {
      "text/plain": [
       "array([[0., 1., 0., ..., 0., 0., 0.],\n",
       "       [0., 0., 0., ..., 0., 0., 0.],\n",
       "       [0., 0., 0., ..., 0., 0., 0.],\n",
       "       ...,\n",
       "       [0., 1., 0., ..., 0., 0., 0.],\n",
       "       [0., 1., 0., ..., 0., 0., 0.],\n",
       "       [0., 1., 0., ..., 0., 0., 0.]])"
      ]
     },
     "execution_count": 13,
     "metadata": {},
     "output_type": "execute_result"
    }
   ],
   "execution_count": 13
  },
  {
   "metadata": {
    "ExecuteTime": {
     "end_time": "2025-08-04T18:52:12.427204Z",
     "start_time": "2025-08-04T18:52:12.337781Z"
    }
   },
   "cell_type": "code",
   "source": [
    "train_dataset, val_dataset, test_dataset = MultiTaskStratifiedSplitter().train_valid_test_split(\n",
    "    dataset, frac_train=0.8, frac_val=0.1, frac_test=0.1, seed=0)"
   ],
   "id": "14a657a9b8ac7e89",
   "outputs": [],
   "execution_count": 14
  },
  {
   "metadata": {
    "ExecuteTime": {
     "end_time": "2025-08-04T18:52:13.606495Z",
     "start_time": "2025-08-04T18:52:13.600063Z"
    }
   },
   "cell_type": "code",
   "source": [
    "print(f\"SPLIT\")\n",
    "print(f\"Train: {len(train_dataset)} samples\")\n",
    "print(f\"Validation: {len(val_dataset)} samples\")\n",
    "print(f\"Test: {len(test_dataset)} samples\")"
   ],
   "id": "6c14a2e0d60e2ac",
   "outputs": [
    {
     "name": "stdout",
     "output_type": "stream",
     "text": [
      "SPLIT\n",
      "Train: 128 samples\n",
      "Validation: 17 samples\n",
      "Test: 13 samples\n"
     ]
    }
   ],
   "execution_count": 15
  },
  {
   "metadata": {
    "ExecuteTime": {
     "end_time": "2025-08-04T18:52:17.247975Z",
     "start_time": "2025-08-04T18:52:17.089851Z"
    }
   },
   "cell_type": "code",
   "source": [
    "def generate_stats(y_train: np.ndarray, y_test: np.ndarray, y_val: np.ndarray=None):\n",
    "    \"\"\"\n",
    "    Parameters\n",
    "    ----------\n",
    "    y_train : np.ndarray\n",
    "        Labels of the train set\n",
    "    y_test : np.ndarray\n",
    "        Labels of the test set\n",
    "    y_val : np.ndarray, optional\n",
    "        Labels of the validation set, by default None\n",
    "    \n",
    "    Returns\n",
    "    -------\n",
    "    Tuple[pd.DataFrame, Any]\n",
    "        DataFrame with the stats of the split, styled table\n",
    "    \"\"\"\n",
    "    y_test_sum = np.sum(y_test, axis=0)\n",
    "    y_train_sum = np.sum(y_train, axis=0)\n",
    "\n",
    "    sum_of_all = pd.DataFrame([y_train_sum, y_test_sum], index=[\"train\", \"test\"])\n",
    "\n",
    "    if y_val is not None:\n",
    "        y_val_sum = np.sum(y_val, axis=0)\n",
    "        sum_of_all = pd.DataFrame([y_train_sum, y_test_sum, y_val_sum], index=[\"train\", \"test\", \"validation\"])\n",
    "        sum_of_all.loc['Validation relative split', :] = sum_of_all.loc['validation', :] / (sum_of_all.loc['train', :] + sum_of_all.loc['test', :] + sum_of_all.loc['validation', :]) * 100\n",
    "        sum_of_all.loc['Test relative split', :] = sum_of_all.loc['test', :] / (sum_of_all.loc['train', :] + sum_of_all.loc['test', :]+ sum_of_all.loc['validation', :]) * 100\n",
    "        sum_of_all.loc['Train relative split', :] = sum_of_all.loc['train', :] / (sum_of_all.loc['train', :] + sum_of_all.loc['test', :]+ sum_of_all.loc['validation', :]) * 100\n",
    "\n",
    "    else:\n",
    "        sum_of_all.loc['Test relative split', :] = sum_of_all.loc['test', :] / (sum_of_all.loc['train', :] + sum_of_all.loc['test', :]) * 100\n",
    "        sum_of_all.loc['Train relative split', :] = sum_of_all.loc['train', :] / (sum_of_all.loc['train', :] + sum_of_all.loc['test', :]) * 100\n",
    "\n",
    "    df = pd.melt(sum_of_all.T.reset_index(), id_vars=['index']).rename(columns={'index': 'EC', 'value': 'Percentage of data'})\n",
    "    if y_val is not None:\n",
    "        df = df[(df[\"variable\"]!=\"train\") & (df[\"variable\"]!=\"validation\") & (df[\"variable\"]!=\"test\")]\n",
    "    else: \n",
    "        df = df[(df[\"variable\"]!=\"train\") & (df[\"variable\"]!=\"test\")]\n",
    "\n",
    "    df1 = sum_of_all.loc['Test relative split', :].describe()\n",
    "    df2 = sum_of_all.loc['Train relative split', :].describe()\n",
    "    if y_val is not None:\n",
    "        df3 = sum_of_all.loc['Validation relative split', :].describe()\n",
    "        stats_table = pd.concat([df1, df2, df3], axis=1)\n",
    "    else:\n",
    "        stats_table = pd.concat([df1, df2], axis=1)\n",
    "\n",
    "    stats_table.drop(['count'], inplace=True)\n",
    "    table_styled = stats_table.style.background_gradient(cmap=\"YlGn\")\n",
    "    \n",
    "\n",
    "    return df, table_styled\n",
    "\n",
    "\n",
    "train_labels = train_dataset.y\n",
    "val_labels = val_dataset.y\n",
    "test_labels = test_dataset.y\n",
    "\n",
    "\n",
    "df, table_styled = generate_stats(train_labels, test_labels, val_labels)\n",
    "\n",
    "table_styled"
   ],
   "id": "ad21b4f631869156",
   "outputs": [
    {
     "data": {
      "text/plain": [
       "<pandas.io.formats.style.Styler at 0x1f955995c10>"
      ],
      "text/html": [
       "<style type=\"text/css\">\n",
       "#T_eaa1a_row0_col0 {\n",
       "  background-color: #f2fab5;\n",
       "  color: #000000;\n",
       "}\n",
       "#T_eaa1a_row0_col1 {\n",
       "  background-color: #2d914b;\n",
       "  color: #f1f1f1;\n",
       "}\n",
       "#T_eaa1a_row0_col2 {\n",
       "  background-color: #f3fab6;\n",
       "  color: #000000;\n",
       "}\n",
       "#T_eaa1a_row1_col0 {\n",
       "  background-color: #d6efa2;\n",
       "  color: #000000;\n",
       "}\n",
       "#T_eaa1a_row1_col1 {\n",
       "  background-color: #bde496;\n",
       "  color: #000000;\n",
       "}\n",
       "#T_eaa1a_row1_col2 {\n",
       "  background-color: #ddf1a6;\n",
       "  color: #000000;\n",
       "}\n",
       "#T_eaa1a_row2_col0, #T_eaa1a_row2_col1, #T_eaa1a_row2_col2, #T_eaa1a_row3_col0, #T_eaa1a_row3_col2, #T_eaa1a_row4_col0, #T_eaa1a_row4_col2 {\n",
       "  background-color: #ffffe5;\n",
       "  color: #000000;\n",
       "}\n",
       "#T_eaa1a_row3_col1 {\n",
       "  background-color: #77c679;\n",
       "  color: #000000;\n",
       "}\n",
       "#T_eaa1a_row4_col1 {\n",
       "  background-color: #15793e;\n",
       "  color: #f1f1f1;\n",
       "}\n",
       "#T_eaa1a_row5_col0, #T_eaa1a_row5_col2 {\n",
       "  background-color: #e5f5ac;\n",
       "  color: #000000;\n",
       "}\n",
       "#T_eaa1a_row5_col1, #T_eaa1a_row6_col0, #T_eaa1a_row6_col1, #T_eaa1a_row6_col2 {\n",
       "  background-color: #004529;\n",
       "  color: #f1f1f1;\n",
       "}\n",
       "</style>\n",
       "<table id=\"T_eaa1a\">\n",
       "  <thead>\n",
       "    <tr>\n",
       "      <th class=\"blank level0\" >&nbsp;</th>\n",
       "      <th id=\"T_eaa1a_level0_col0\" class=\"col_heading level0 col0\" >Test relative split</th>\n",
       "      <th id=\"T_eaa1a_level0_col1\" class=\"col_heading level0 col1\" >Train relative split</th>\n",
       "      <th id=\"T_eaa1a_level0_col2\" class=\"col_heading level0 col2\" >Validation relative split</th>\n",
       "    </tr>\n",
       "  </thead>\n",
       "  <tbody>\n",
       "    <tr>\n",
       "      <th id=\"T_eaa1a_level0_row0\" class=\"row_heading level0 row0\" >mean</th>\n",
       "      <td id=\"T_eaa1a_row0_col0\" class=\"data row0 col0\" >14.828907</td>\n",
       "      <td id=\"T_eaa1a_row0_col1\" class=\"data row0 col1\" >70.723596</td>\n",
       "      <td id=\"T_eaa1a_row0_col2\" class=\"data row0 col2\" >14.447497</td>\n",
       "    </tr>\n",
       "    <tr>\n",
       "      <th id=\"T_eaa1a_level0_row1\" class=\"row_heading level0 row1\" >std</th>\n",
       "      <td id=\"T_eaa1a_row1_col0\" class=\"data row1 col0\" >25.876075</td>\n",
       "      <td id=\"T_eaa1a_row1_col1\" class=\"data row1 col1\" >32.822946</td>\n",
       "      <td id=\"T_eaa1a_row1_col2\" class=\"data row1 col2\" >23.759125</td>\n",
       "    </tr>\n",
       "    <tr>\n",
       "      <th id=\"T_eaa1a_level0_row2\" class=\"row_heading level0 row2\" >min</th>\n",
       "      <td id=\"T_eaa1a_row2_col0\" class=\"data row2 col0\" >0.000000</td>\n",
       "      <td id=\"T_eaa1a_row2_col1\" class=\"data row2 col1\" >0.000000</td>\n",
       "      <td id=\"T_eaa1a_row2_col2\" class=\"data row2 col2\" >0.000000</td>\n",
       "    </tr>\n",
       "    <tr>\n",
       "      <th id=\"T_eaa1a_level0_row3\" class=\"row_heading level0 row3\" >25%</th>\n",
       "      <td id=\"T_eaa1a_row3_col0\" class=\"data row3 col0\" >0.000000</td>\n",
       "      <td id=\"T_eaa1a_row3_col1\" class=\"data row3 col1\" >50.000000</td>\n",
       "      <td id=\"T_eaa1a_row3_col2\" class=\"data row3 col2\" >0.000000</td>\n",
       "    </tr>\n",
       "    <tr>\n",
       "      <th id=\"T_eaa1a_level0_row4\" class=\"row_heading level0 row4\" >50%</th>\n",
       "      <td id=\"T_eaa1a_row4_col0\" class=\"data row4 col0\" >0.000000</td>\n",
       "      <td id=\"T_eaa1a_row4_col1\" class=\"data row4 col1\" >79.887640</td>\n",
       "      <td id=\"T_eaa1a_row4_col2\" class=\"data row4 col2\" >0.000000</td>\n",
       "    </tr>\n",
       "    <tr>\n",
       "      <th id=\"T_eaa1a_level0_row5\" class=\"row_heading level0 row5\" >75%</th>\n",
       "      <td id=\"T_eaa1a_row5_col0\" class=\"data row5 col0\" >20.000000</td>\n",
       "      <td id=\"T_eaa1a_row5_col1\" class=\"data row5 col1\" >100.000000</td>\n",
       "      <td id=\"T_eaa1a_row5_col2\" class=\"data row5 col2\" >20.000000</td>\n",
       "    </tr>\n",
       "    <tr>\n",
       "      <th id=\"T_eaa1a_level0_row6\" class=\"row_heading level0 row6\" >max</th>\n",
       "      <td id=\"T_eaa1a_row6_col0\" class=\"data row6 col0\" >100.000000</td>\n",
       "      <td id=\"T_eaa1a_row6_col1\" class=\"data row6 col1\" >100.000000</td>\n",
       "      <td id=\"T_eaa1a_row6_col2\" class=\"data row6 col2\" >100.000000</td>\n",
       "    </tr>\n",
       "  </tbody>\n",
       "</table>\n"
      ]
     },
     "execution_count": 16,
     "metadata": {},
     "output_type": "execute_result"
    }
   ],
   "execution_count": 16
  }
 ],
 "metadata": {
  "kernelspec": {
   "display_name": "Python 3",
   "language": "python",
   "name": "python3"
  },
  "language_info": {
   "codemirror_mode": {
    "name": "ipython",
    "version": 2
   },
   "file_extension": ".py",
   "mimetype": "text/x-python",
   "name": "python",
   "nbconvert_exporter": "python",
   "pygments_lexer": "ipython2",
   "version": "2.7.6"
  }
 },
 "nbformat": 4,
 "nbformat_minor": 5
}

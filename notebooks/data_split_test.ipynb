{
 "cells": [
  {
   "cell_type": "code",
   "execution_count": null,
   "id": "initial_id",
   "metadata": {
    "collapsed": true
   },
   "outputs": [],
   "source": [
    "from src.data.fingerprints_tools.fingerprint_generator import smiles_to_fingerprint\n",
    "from src.data.mgf_tools.mgf_get import *\n",
    "from src.config import *\n",
    "from src.utils import *"
   ]
  },
  {
   "metadata": {},
   "cell_type": "markdown",
   "source": "# SMILES\n",
   "id": "75a59e99f27c56e4"
  },
  {
   "metadata": {},
   "cell_type": "code",
   "outputs": [],
   "execution_count": null,
   "source": "mgf_data = r\"/Users/carla/PycharmProjects/Mestrado/Transformer-Based-Models-for-Chemical-Fingerprint-Prediction/datasets/raw/cleaned_gnps_library.mgf\"\n",
   "id": "2324e2a5bd419a0e"
  },
  {
   "metadata": {},
   "cell_type": "code",
   "outputs": [],
   "execution_count": null,
   "source": "spectra = mgf_get_spectra(mgf_data)",
   "id": "8ba6c806f677a792"
  },
  {
   "metadata": {},
   "cell_type": "code",
   "outputs": [],
   "execution_count": null,
   "source": "smiles_data = mgf_get_smiles(spectra)\n",
   "id": "28481e3f962ce1b7"
  },
  {
   "metadata": {},
   "cell_type": "code",
   "outputs": [],
   "execution_count": null,
   "source": [
    "smiles = smiles_data['smiles']\n",
    "ids = smiles_data['id']\n"
   ],
   "id": "c05945bbb2f16a05"
  },
  {
   "metadata": {},
   "cell_type": "code",
   "outputs": [],
   "execution_count": null,
   "source": "dataset = smiles_to_fingerprint(smiles_data=smiles, ids=ids, return_df=True)",
   "id": "719bd9888932965"
  },
  {
   "metadata": {},
   "cell_type": "code",
   "outputs": [],
   "execution_count": null,
   "source": "# smiles_dataset = ",
   "id": "1fc85e58dcdf79bf"
  },
  {
   "metadata": {},
   "cell_type": "markdown",
   "source": "# SPECTRA",
   "id": "1562619c67a67fa"
  },
  {
   "metadata": {},
   "cell_type": "code",
   "outputs": [],
   "execution_count": null,
   "source": "processed_spectra = mgf_deconvoluter(mgf_data=spectra, mz_vocabs=mz_vocabs, min_num_peaks=5, max_num_peaks=max_num_peaks, noise_rmv_threshold=0.01, mass_error=0.01, allowed_spectral_entropy=True, log=True)",
   "id": "fd8cdcac34e3eac8"
  },
  {
   "metadata": {},
   "cell_type": "markdown",
   "source": "# SPLIT",
   "id": "b2e15b4bc3cb7e2f"
  },
  {
   "metadata": {},
   "cell_type": "code",
   "outputs": [],
   "execution_count": null,
   "source": [
    "from deepmol.splitters import MultiTaskStratifiedSplitter\n",
    "\n",
    "spectrum_ids = [spec[0] for spec in processed_spectra]\n",
    "filtered_smiles = smiles_data[smiles_data['spectrum id'].isin(spectrum_ids)]"
   ],
   "id": "bdfa5c6b11067c4a"
  },
  {
   "metadata": {},
   "cell_type": "code",
   "outputs": [],
   "execution_count": null,
   "source": [
    "temp_csv = filtered_smiles[['spectrum id', 'smiles']].rename(columns={'spectrum id': 'ids'})\n",
    "temp_csv.to_csv('temp_dataset.csv', index=False)"
   ],
   "id": "25ea916400919299"
  },
  {
   "metadata": {},
   "cell_type": "code",
   "outputs": [],
   "execution_count": null,
   "source": [
    "from deepmol.loaders import CSVLoader\n",
    "from deepmol.compound_featurization import MorganFingerprint"
   ],
   "id": "143ec6f8b2baa168"
  },
  {
   "metadata": {},
   "cell_type": "code",
   "outputs": [],
   "execution_count": null,
   "source": [
    "loader = CSVLoader(dataset_path='temp_dataset.csv',\n",
    "                   smiles_field='smiles', \n",
    "                   id_field='ids',\n",
    "                   mode='auto')\n",
    "\n",
    "smiles_dataset = loader.create_dataset()\n",
    "smiles_dataset = MorganFingerprint().featurize(smiles_dataset)\n",
    "smiles_dataset._y = smiles_dataset.X  # Fingerprints como targets"
   ],
   "id": "fea0aa510f2bfae9"
  },
  {
   "metadata": {},
   "cell_type": "code",
   "outputs": [],
   "execution_count": null,
   "source": [
    "train_dataset, val_dataset, test_dataset = MultiTaskStratifiedSplitter().train_valid_test_split(\n",
    "    smiles_dataset, frac_train=0.8, frac_val=0.1, frac_test=0.1\n",
    ")\n",
    "\n",
    "print(f\"Train: {len(train_dataset)}, Val: {len(val_dataset)}, Test: {len(test_dataset)}\")"
   ],
   "id": "c0628ae45975cd07"
  }
 ],
 "metadata": {
  "kernelspec": {
   "display_name": "Python 3",
   "language": "python",
   "name": "python3"
  },
  "language_info": {
   "codemirror_mode": {
    "name": "ipython",
    "version": 2
   },
   "file_extension": ".py",
   "mimetype": "text/x-python",
   "name": "python",
   "nbconvert_exporter": "python",
   "pygments_lexer": "ipython2",
   "version": "2.7.6"
  }
 },
 "nbformat": 4,
 "nbformat_minor": 5
}

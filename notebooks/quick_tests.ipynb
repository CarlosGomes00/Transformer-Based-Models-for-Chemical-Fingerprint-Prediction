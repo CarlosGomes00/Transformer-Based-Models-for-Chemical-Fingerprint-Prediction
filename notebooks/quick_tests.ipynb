{
 "cells": [
  {
   "cell_type": "code",
   "id": "initial_id",
   "metadata": {
    "collapsed": true,
    "ExecuteTime": {
     "end_time": "2025-09-23T18:01:00.455190Z",
     "start_time": "2025-09-23T18:00:56.706188Z"
    }
   },
   "source": [
    "from src.data.mgf_tools.mgf_get import mgf_get_spectra\n",
    "from src.utils import calculate_max_num_peaks\n",
    "from src.utils import path_check\n",
    "\n"
   ],
   "execution_count": 1,
   "outputs": []
  },
  {
   "metadata": {},
   "cell_type": "markdown",
   "source": "# Teste da função para obter o max_num_peaks",
   "id": "8d4449cd12ba8e29"
  },
  {
   "metadata": {
    "ExecuteTime": {
     "end_time": "2025-09-22T14:39:33.554465Z",
     "start_time": "2025-09-22T14:39:33.544926Z"
    }
   },
   "cell_type": "code",
   "source": [
    "mgf_path = r\"/Users/carla/PycharmProjects/Mestrado/Transformer-Based-Models-for-Chemical-Fingerprint-Prediction/datasets/raw/cleaned_gnps_library.mgf\"\n",
    "\n",
    "path_check(mgf_path)"
   ],
   "id": "7f3dd7d9357af06c",
   "execution_count": 4,
   "outputs": []
  },
  {
   "metadata": {
    "ExecuteTime": {
     "end_time": "2025-09-16T19:14:42.878234Z",
     "start_time": "2025-09-16T19:13:16.996287Z"
    }
   },
   "cell_type": "code",
   "source": "mgf_data = mgf_get_spectra(mgf_path)",
   "id": "5c91e730e12559b5",
   "execution_count": 4,
   "outputs": []
  },
  {
   "metadata": {
    "ExecuteTime": {
     "end_time": "2025-09-12T17:46:07.187268Z",
     "start_time": "2025-09-12T17:46:06.996464Z"
    }
   },
   "cell_type": "code",
   "source": "max_num_peaks = calculate_max_num_peaks(mgf_data, percentile=95)",
   "id": "ef670b6c1143dd84",
   "execution_count": 10,
   "outputs": []
  },
  {
   "metadata": {
    "ExecuteTime": {
     "end_time": "2025-09-12T17:46:17.592643Z",
     "start_time": "2025-09-12T17:46:17.583085Z"
    }
   },
   "cell_type": "code",
   "source": "print(max_num_peaks)",
   "id": "49faff60dd7d9245",
   "execution_count": 11,
   "outputs": []
  },
  {
   "metadata": {
    "ExecuteTime": {
     "end_time": "2025-09-16T19:15:29.645189Z",
     "start_time": "2025-09-16T19:15:22.000077Z"
    }
   },
   "cell_type": "code",
   "source": [
    "mz_vocabs = calculate_mz_vocabs(mgf_data)\n",
    "print(mz_vocabs)"
   ],
   "id": "443fb09dabccde6f",
   "execution_count": 6,
   "outputs": []
  },
  {
   "metadata": {},
   "cell_type": "markdown",
   "source": "# Transformer Class test",
   "id": "66e3ee45d2aea2da"
  },
  {
   "metadata": {
    "ExecuteTime": {
     "end_time": "2025-09-26T11:59:18.266603Z",
     "start_time": "2025-09-26T11:58:46.722838Z"
    }
   },
   "cell_type": "code",
   "source": [
    "from src.utils import path_check\n",
    "from src.utils import calculate_mz_vocabs, calculate_max_num_peaks\n",
    "from src.data.data_splitting import preprocess_and_split\n",
    "from src.data.mgf_tools.mgf_get import mgf_get_spectra\n",
    "from src.data.data_loader import data_loader \n",
    "from src.models.Transformer import Transformer"
   ],
   "id": "58ca55ddcacc45ff",
   "execution_count": 1,
   "outputs": []
  },
  {
   "metadata": {
    "ExecuteTime": {
     "end_time": "2025-09-26T11:59:18.276618Z",
     "start_time": "2025-09-26T11:59:18.269801Z"
    }
   },
   "cell_type": "code",
   "source": [
    "mgf_path = r\"/Users/carla/PycharmProjects/Mestrado/Transformer-Based-Models-for-Chemical-Fingerprint-Prediction/datasets/raw/cleaned_gnps_library.mgf\"\n",
    "\n",
    "path_check(mgf_path)"
   ],
   "id": "588ad3de93771f53",
   "execution_count": 2,
   "outputs": []
  },
  {
   "metadata": {
    "ExecuteTime": {
     "end_time": "2025-09-26T12:02:46.100064Z",
     "start_time": "2025-09-26T11:59:19.158951Z"
    }
   },
   "cell_type": "code",
   "source": "mgf_spectra = mgf_get_spectra(mgf_path, num_spectra=100)",
   "id": "3b2f0a99b88cc206",
   "execution_count": 3,
   "outputs": []
  },
  {
   "metadata": {
    "ExecuteTime": {
     "end_time": "2025-09-26T12:02:46.113970Z",
     "start_time": "2025-09-26T12:02:46.102073Z"
    }
   },
   "cell_type": "code",
   "source": [
    "max_num_peaks = calculate_max_num_peaks(mgf_spectra, percentile=95)\n",
    "mz_vocabs = calculate_mz_vocabs(mgf_spectra)\n",
    "max_seq_len = max_num_peaks + 1\n",
    "vocab_size = len(mz_vocabs)"
   ],
   "id": "3ab0f956c5fc542b",
   "execution_count": 4,
   "outputs": []
  },
  {
   "metadata": {
    "ExecuteTime": {
     "end_time": "2025-09-26T12:07:10.255072Z",
     "start_time": "2025-09-26T12:07:10.248244Z"
    }
   },
   "cell_type": "code",
   "source": [
    "print(max_num_peaks)\n",
    "print(vocab_size)"
   ],
   "id": "93e251d6d6d300a1",
   "execution_count": 7,
   "outputs": []
  },
  {
   "metadata": {
    "ExecuteTime": {
     "end_time": "2025-09-26T12:06:22.955078Z",
     "start_time": "2025-09-26T12:03:19.928170Z"
    }
   },
   "cell_type": "code",
   "source": "splits = preprocess_and_split(mgf_path, seed=3, num_spectra=100)",
   "id": "f1513aad5e656880",
   "execution_count": 6,
   "outputs": []
  },
  {
   "metadata": {
    "ExecuteTime": {
     "end_time": "2025-09-26T12:10:42.337267Z",
     "start_time": "2025-09-26T12:07:43.016980Z"
    }
   },
   "cell_type": "code",
   "source": "loaders = data_loader(mgf_path=mgf_path, num_spectra=100, batch_size=4, seed=3, max_num_peaks=max_num_peaks, mz_vocabs=mz_vocabs)",
   "id": "96d6d3c53f80215d",
   "execution_count": 8,
   "outputs": []
  },
  {
   "metadata": {
    "ExecuteTime": {
     "end_time": "2025-09-26T12:11:05.840164Z",
     "start_time": "2025-09-26T12:11:05.832759Z"
    }
   },
   "cell_type": "code",
   "source": "model = Transformer(seed=3,max_seq_len=max_seq_len,vocab_size=vocab_size,morgan_default_dim=2048,d_model=128,n_head=4,num_layers=4,dropout_rate=0.1)",
   "id": "5ce626cf6235c54a",
   "execution_count": 10,
   "outputs": []
  },
  {
   "metadata": {
    "ExecuteTime": {
     "end_time": "2025-09-26T12:12:03.860627Z",
     "start_time": "2025-09-26T12:11:06.968777Z"
    }
   },
   "cell_type": "code",
   "source": "best_model = model.fit(train_loader=loaders[\"train\"], val_loader=loaders[\"val\"], max_epochs=10)",
   "id": "bb4ac5d1c330e353",
   "execution_count": 11,
   "outputs": []
  },
  {
   "metadata": {
    "ExecuteTime": {
     "end_time": "2025-09-26T12:12:52.042646Z",
     "start_time": "2025-09-26T12:12:51.985677Z"
    }
   },
   "cell_type": "code",
   "source": "model.eval(test_loader=loaders[\"test\"])",
   "id": "a0f0c1a088f524ce",
   "execution_count": 13,
   "outputs": []
  },
  {
   "metadata": {
    "ExecuteTime": {
     "end_time": "2025-09-26T12:17:50.835189Z",
     "start_time": "2025-09-26T12:17:50.360686Z"
    }
   },
   "cell_type": "code",
   "source": "model.predict(loaders[\"test\"], return_probabilities=False, save_results=False)",
   "id": "9aa685f7e655bc04",
   "execution_count": 15,
   "outputs": []
  },
  {
   "metadata": {},
   "cell_type": "markdown",
   "source": "# Splits cleaning test",
   "id": "599cfcb0225399e5"
  },
  {
   "metadata": {
    "ExecuteTime": {
     "end_time": "2025-10-17T18:59:35.527304Z",
     "start_time": "2025-10-17T18:59:01.059221Z"
    }
   },
   "cell_type": "code",
   "source": [
    "from src.config import mgf_path\n",
    "from src.data.split_prep_tools.data_splitting import preprocess_and_split\n"
   ],
   "id": "54a0448829f93bb6",
   "outputs": [
    {
     "name": "stderr",
     "output_type": "stream",
     "text": [
      "No normalization for SPS. Feature removed!\n",
      "No normalization for AvgIpc. Feature removed!\n"
     ]
    },
    {
     "name": "stdout",
     "output_type": "stream",
     "text": [
      "WARNING:tensorflow:From C:\\Users\\carla\\miniconda3\\envs\\tese_d_new\\Lib\\site-packages\\keras\\src\\losses.py:2976: The name tf.losses.sparse_softmax_cross_entropy is deprecated. Please use tf.compat.v1.losses.sparse_softmax_cross_entropy instead.\n",
      "\n",
      "WARNING:tensorflow:From C:\\Users\\carla\\miniconda3\\envs\\tese_d_new\\Lib\\site-packages\\tensorflow\\python\\util\\deprecation.py:588: calling function (from tensorflow.python.eager.polymorphic_function.polymorphic_function) with experimental_relax_shapes is deprecated and will be removed in a future version.\n",
      "Instructions for updating:\n",
      "experimental_relax_shapes is deprecated, use reduce_retracing instead\n"
     ]
    },
    {
     "name": "stderr",
     "output_type": "stream",
     "text": [
      "Skipped loading modules with transformers dependency. No module named 'transformers'\n",
      "cannot import name 'HuggingFaceModel' from 'deepchem.models.torch_models' (C:\\Users\\carla\\miniconda3\\envs\\tese_d_new\\Lib\\site-packages\\deepchem\\models\\torch_models\\__init__.py)\n",
      "Skipped loading modules with pytorch-lightning dependency, missing a dependency. No module named 'lightning'\n",
      "Skipped loading some Jax models, missing a dependency. No module named 'jax'\n",
      "C:\\Users\\carla\\miniconda3\\envs\\tese_d_new\\Lib\\site-packages\\deepmol\\compound_featurization\\__init__.py:20: UserWarning: Mol2Vec not available. Please install it to use it. (pip install git+https://github.com/samoturk/mol2vec#egg=mol2vec)\n",
      "  warnings.warn(\"Mol2Vec not available. Please install it to use it. \"\n"
     ]
    }
   ],
   "execution_count": 2
  },
  {
   "metadata": {
    "ExecuteTime": {
     "end_time": "2025-10-17T19:03:20.666327Z",
     "start_time": "2025-10-17T18:59:53.275093Z"
    }
   },
   "cell_type": "code",
   "source": [
    "final_splits = preprocess_and_split(mgf_path=mgf_path, seed=2, num_spectra=1000)\n",
    "\n"
   ],
   "id": "6139379048714c90",
   "outputs": [
    {
     "name": "stdout",
     "output_type": "stream",
     "text": [
      "\n",
      "1. Loading spectra and SMILES from MGF\n",
      "Loaded 1000 spectra from MGF\n",
      "Loaded 1000 spectra\n",
      "\n",
      "2. Applying filtering and spectrum processing\n",
      "\n",
      "3. Generating fingerprints for valid spectra\n"
     ]
    },
    {
     "name": "stderr",
     "output_type": "stream",
     "text": [
      "MorganFingerprint: 100%|██████████| 847/847 [00:01<00:00, 716.93it/s]\n"
     ]
    },
    {
     "name": "stdout",
     "output_type": "stream",
     "text": [
      "\n",
      "4. Data Splitting\n",
      "Cleaning splits\n"
     ]
    },
    {
     "ename": "ValueError",
     "evalue": "too many values to unpack (expected 2)",
     "output_type": "error",
     "traceback": [
      "\u001B[31m---------------------------------------------------------------------------\u001B[39m",
      "\u001B[31mValueError\u001B[39m                                Traceback (most recent call last)",
      "\u001B[36mCell\u001B[39m\u001B[36m \u001B[39m\u001B[32mIn[3]\u001B[39m\u001B[32m, line 1\u001B[39m\n\u001B[32m----> \u001B[39m\u001B[32m1\u001B[39m final_splits = \u001B[43mpreprocess_and_split\u001B[49m\u001B[43m(\u001B[49m\u001B[43mmgf_path\u001B[49m\u001B[43m=\u001B[49m\u001B[43mmgf_path\u001B[49m\u001B[43m,\u001B[49m\u001B[43m \u001B[49m\u001B[43mseed\u001B[49m\u001B[43m=\u001B[49m\u001B[32;43m2\u001B[39;49m\u001B[43m,\u001B[49m\u001B[43m \u001B[49m\u001B[43mnum_spectra\u001B[49m\u001B[43m=\u001B[49m\u001B[32;43m1000\u001B[39;49m\u001B[43m)\u001B[49m\n",
      "\u001B[36mFile \u001B[39m\u001B[32m~\\PycharmProjects\\Mestrado\\Transformer-Based-Models-for-Chemical-Fingerprint-Prediction\\src\\data\\split_prep_tools\\data_splitting.py:255\u001B[39m, in \u001B[36mpreprocess_and_split\u001B[39m\u001B[34m(mgf_path, seed, output_dir, num_spectra, frac_train, frac_valid, frac_test, clean)\u001B[39m\n\u001B[32m    251\u001B[39m dataset._y = dataset.X\n\u001B[32m    253\u001B[39m \u001B[38;5;28mprint\u001B[39m(\u001B[33m'\u001B[39m\u001B[38;5;130;01m\\n\u001B[39;00m\u001B[33m4. Data Splitting\u001B[39m\u001B[33m'\u001B[39m)\n\u001B[32m--> \u001B[39m\u001B[32m255\u001B[39m splits = \u001B[43mmake_split\u001B[49m\u001B[43m(\u001B[49m\u001B[43mdataset\u001B[49m\u001B[43m,\u001B[49m\u001B[43m \u001B[49m\u001B[43mseed\u001B[49m\u001B[43m,\u001B[49m\u001B[43m \u001B[49m\u001B[43moutput_dir\u001B[49m\u001B[43m,\u001B[49m\u001B[43m \u001B[49m\u001B[43mfrac_train\u001B[49m\u001B[43m=\u001B[49m\u001B[43mfrac_train\u001B[49m\u001B[43m,\u001B[49m\u001B[43m \u001B[49m\u001B[43mfrac_valid\u001B[49m\u001B[43m=\u001B[49m\u001B[43mfrac_valid\u001B[49m\u001B[43m,\u001B[49m\u001B[43m \u001B[49m\u001B[43mfrac_test\u001B[49m\u001B[43m=\u001B[49m\u001B[43mfrac_test\u001B[49m\u001B[43m,\u001B[49m\n\u001B[32m    256\u001B[39m \u001B[43m                    \u001B[49m\u001B[43mclean\u001B[49m\u001B[43m=\u001B[49m\u001B[43mclean\u001B[49m\u001B[43m,\u001B[49m\u001B[43m \u001B[49m\u001B[43msmiles_df\u001B[49m\u001B[43m=\u001B[49m\u001B[43msmiles_df\u001B[49m\u001B[43m)\u001B[49m\n\u001B[32m    258\u001B[39m split_pkl = output_dir / \u001B[38;5;28mstr\u001B[39m(seed) / \u001B[33m'\u001B[39m\u001B[33msplit_ids.pkl\u001B[39m\u001B[33m'\u001B[39m\n\u001B[32m    259\u001B[39m fingerprints_pkl = output_dir / \u001B[38;5;28mstr\u001B[39m(seed) / \u001B[33m'\u001B[39m\u001B[33mfingerprints.pkl\u001B[39m\u001B[33m'\u001B[39m\n",
      "\u001B[36mFile \u001B[39m\u001B[32m~\\PycharmProjects\\Mestrado\\Transformer-Based-Models-for-Chemical-Fingerprint-Prediction\\src\\data\\split_prep_tools\\data_splitting.py:62\u001B[39m, in \u001B[36mmake_split\u001B[39m\u001B[34m(dataset, seed, output_dir, smiles_df, frac_train, frac_valid, frac_test, clean)\u001B[39m\n\u001B[32m     60\u001B[39m \u001B[38;5;28;01mif\u001B[39;00m clean:\n\u001B[32m     61\u001B[39m     \u001B[38;5;28mprint\u001B[39m(\u001B[33m\"\u001B[39m\u001B[33mCleaning splits\u001B[39m\u001B[33m\"\u001B[39m)\n\u001B[32m---> \u001B[39m\u001B[32m62\u001B[39m     final_splits, cleaning_stats = clean_splits(raw_splits, smiles_df)\n\u001B[32m     63\u001B[39m     stats_path = seed_dir / \u001B[33m'\u001B[39m\u001B[33mcleaning_stats.json\u001B[39m\u001B[33m'\u001B[39m\n\u001B[32m     64\u001B[39m     \u001B[38;5;28;01mwith\u001B[39;00m \u001B[38;5;28mopen\u001B[39m(stats_path, \u001B[33m'\u001B[39m\u001B[33mw\u001B[39m\u001B[33m'\u001B[39m) \u001B[38;5;28;01mas\u001B[39;00m f:\n",
      "\u001B[31mValueError\u001B[39m: too many values to unpack (expected 2)"
     ]
    }
   ],
   "execution_count": 3
  },
  {
   "metadata": {
    "ExecuteTime": {
     "end_time": "2025-10-17T19:04:06.910303Z",
     "start_time": "2025-10-17T19:04:06.858753Z"
    }
   },
   "cell_type": "code",
   "source": "len(final_splits['test'])",
   "id": "d3b485ea275bc2cb",
   "outputs": [
    {
     "ename": "NameError",
     "evalue": "name 'final_splits' is not defined",
     "output_type": "error",
     "traceback": [
      "\u001B[31m---------------------------------------------------------------------------\u001B[39m",
      "\u001B[31mNameError\u001B[39m                                 Traceback (most recent call last)",
      "\u001B[36mCell\u001B[39m\u001B[36m \u001B[39m\u001B[32mIn[4]\u001B[39m\u001B[32m, line 1\u001B[39m\n\u001B[32m----> \u001B[39m\u001B[32m1\u001B[39m \u001B[43mfinal_splits\u001B[49m[\u001B[33m'\u001B[39m\u001B[33mtest\u001B[39m\u001B[33m'\u001B[39m]\n",
      "\u001B[31mNameError\u001B[39m: name 'final_splits' is not defined"
     ]
    }
   ],
   "execution_count": 4
  }
 ],
 "metadata": {
  "kernelspec": {
   "display_name": "Python 3",
   "language": "python",
   "name": "python3"
  },
  "language_info": {
   "codemirror_mode": {
    "name": "ipython",
    "version": 2
   },
   "file_extension": ".py",
   "mimetype": "text/x-python",
   "name": "python",
   "nbconvert_exporter": "python",
   "pygments_lexer": "ipython2",
   "version": "2.7.6"
  }
 },
 "nbformat": 4,
 "nbformat_minor": 5
}

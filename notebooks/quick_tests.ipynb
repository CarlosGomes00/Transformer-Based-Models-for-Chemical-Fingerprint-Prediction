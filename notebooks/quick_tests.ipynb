{
 "cells": [
  {
   "cell_type": "code",
   "id": "initial_id",
   "metadata": {
    "collapsed": true,
    "ExecuteTime": {
     "end_time": "2025-09-12T17:42:54.429421Z",
     "start_time": "2025-09-12T17:42:54.423446Z"
    }
   },
   "source": [
    "from src.data.mgf_tools.mgf_get import mgf_get_spectra\n",
    "from src.utils import calculate_max_num_peaks\n",
    "from src.utils import path_check\n",
    "\n"
   ],
   "outputs": [],
   "execution_count": 7
  },
  {
   "metadata": {
    "ExecuteTime": {
     "end_time": "2025-09-12T17:42:54.444988Z",
     "start_time": "2025-09-12T17:42:54.438289Z"
    }
   },
   "cell_type": "code",
   "source": [
    "mgf_path = r\"/Users/carla/PycharmProjects/Mestrado/Transformer-Based-Models-for-Chemical-Fingerprint-Prediction/datasets/raw/cleaned_gnps_library.mgf\"\n",
    "\n",
    "path_check(mgf_path)"
   ],
   "id": "7f3dd7d9357af06c",
   "outputs": [
    {
     "name": "stdout",
     "output_type": "stream",
     "text": [
      "File found!\n"
     ]
    }
   ],
   "execution_count": 8
  },
  {
   "metadata": {
    "ExecuteTime": {
     "end_time": "2025-09-12T17:46:06.993341Z",
     "start_time": "2025-09-12T17:42:54.453655Z"
    }
   },
   "cell_type": "code",
   "source": "mgf_data = mgf_get_spectra(mgf_path)",
   "id": "5c91e730e12559b5",
   "outputs": [],
   "execution_count": 9
  },
  {
   "metadata": {
    "ExecuteTime": {
     "end_time": "2025-09-12T17:46:07.187268Z",
     "start_time": "2025-09-12T17:46:06.996464Z"
    }
   },
   "cell_type": "code",
   "source": "max_num_peaks = calculate_max_num_peaks(mgf_data, percentile=95)",
   "id": "ef670b6c1143dd84",
   "outputs": [],
   "execution_count": 10
  },
  {
   "metadata": {
    "ExecuteTime": {
     "end_time": "2025-09-12T17:46:17.592643Z",
     "start_time": "2025-09-12T17:46:17.583085Z"
    }
   },
   "cell_type": "code",
   "source": "print(max_num_peaks)",
   "id": "49faff60dd7d9245",
   "outputs": [
    {
     "name": "stdout",
     "output_type": "stream",
     "text": [
      "439\n"
     ]
    }
   ],
   "execution_count": 11
  }
 ],
 "metadata": {
  "kernelspec": {
   "display_name": "Python 3",
   "language": "python",
   "name": "python3"
  },
  "language_info": {
   "codemirror_mode": {
    "name": "ipython",
    "version": 2
   },
   "file_extension": ".py",
   "mimetype": "text/x-python",
   "name": "python",
   "nbconvert_exporter": "python",
   "pygments_lexer": "ipython2",
   "version": "2.7.6"
  }
 },
 "nbformat": 4,
 "nbformat_minor": 5
}

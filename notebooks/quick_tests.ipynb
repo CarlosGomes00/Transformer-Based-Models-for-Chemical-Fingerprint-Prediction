{
 "cells": [
  {
   "cell_type": "code",
   "id": "initial_id",
   "metadata": {
    "collapsed": true,
    "ExecuteTime": {
     "end_time": "2025-09-23T18:01:00.455190Z",
     "start_time": "2025-09-23T18:00:56.706188Z"
    }
   },
   "source": [
    "from src.data.mgf_tools.mgf_get import mgf_get_spectra\n",
    "from src.utils import calculate_max_num_peaks\n",
    "from src.utils import path_check\n",
    "\n"
   ],
   "execution_count": 1,
   "outputs": []
  },
  {
   "metadata": {},
   "cell_type": "markdown",
   "source": "# Teste da função para obter o max_num_peaks",
   "id": "8d4449cd12ba8e29"
  },
  {
   "metadata": {
    "ExecuteTime": {
     "end_time": "2025-09-22T14:39:33.554465Z",
     "start_time": "2025-09-22T14:39:33.544926Z"
    }
   },
   "cell_type": "code",
   "source": [
    "mgf_path = r\"/Users/carla/PycharmProjects/Mestrado/Transformer-Based-Models-for-Chemical-Fingerprint-Prediction/datasets/raw/cleaned_gnps_library.mgf\"\n",
    "\n",
    "path_check(mgf_path)"
   ],
   "id": "7f3dd7d9357af06c",
   "execution_count": 4,
   "outputs": []
  },
  {
   "metadata": {
    "ExecuteTime": {
     "end_time": "2025-09-16T19:14:42.878234Z",
     "start_time": "2025-09-16T19:13:16.996287Z"
    }
   },
   "cell_type": "code",
   "source": "mgf_data = mgf_get_spectra(mgf_path)",
   "id": "5c91e730e12559b5",
   "execution_count": 4,
   "outputs": []
  },
  {
   "metadata": {
    "ExecuteTime": {
     "end_time": "2025-09-12T17:46:07.187268Z",
     "start_time": "2025-09-12T17:46:06.996464Z"
    }
   },
   "cell_type": "code",
   "source": "max_num_peaks = calculate_max_num_peaks(mgf_data, percentile=95)",
   "id": "ef670b6c1143dd84",
   "execution_count": 10,
   "outputs": []
  },
  {
   "metadata": {
    "ExecuteTime": {
     "end_time": "2025-09-12T17:46:17.592643Z",
     "start_time": "2025-09-12T17:46:17.583085Z"
    }
   },
   "cell_type": "code",
   "source": "print(max_num_peaks)",
   "id": "49faff60dd7d9245",
   "execution_count": 11,
   "outputs": []
  },
  {
   "metadata": {
    "ExecuteTime": {
     "end_time": "2025-09-16T19:15:29.645189Z",
     "start_time": "2025-09-16T19:15:22.000077Z"
    }
   },
   "cell_type": "code",
   "source": [
    "mz_vocabs = calculate_mz_vocabs(mgf_data)\n",
    "print(mz_vocabs)"
   ],
   "id": "443fb09dabccde6f",
   "execution_count": 6,
   "outputs": []
  },
  {
   "metadata": {},
   "cell_type": "markdown",
   "source": "# Transformer Class test",
   "id": "66e3ee45d2aea2da"
  },
  {
   "metadata": {
    "ExecuteTime": {
     "end_time": "2025-09-26T11:59:18.266603Z",
     "start_time": "2025-09-26T11:58:46.722838Z"
    }
   },
   "cell_type": "code",
   "source": [
    "from src.utils import path_check\n",
    "from src.utils import calculate_mz_vocabs, calculate_max_num_peaks\n",
    "from src.data.data_splitting import preprocess_and_split\n",
    "from src.data.mgf_tools.mgf_get import mgf_get_spectra\n",
    "from src.data.data_loader import data_loader \n",
    "from src.models.Transformer import Transformer"
   ],
   "id": "58ca55ddcacc45ff",
   "execution_count": 1,
   "outputs": []
  },
  {
   "metadata": {
    "ExecuteTime": {
     "end_time": "2025-09-26T11:59:18.276618Z",
     "start_time": "2025-09-26T11:59:18.269801Z"
    }
   },
   "cell_type": "code",
   "source": [
    "mgf_path = r\"/Users/carla/PycharmProjects/Mestrado/Transformer-Based-Models-for-Chemical-Fingerprint-Prediction/datasets/raw/cleaned_gnps_library.mgf\"\n",
    "\n",
    "path_check(mgf_path)"
   ],
   "id": "588ad3de93771f53",
   "execution_count": 2,
   "outputs": []
  },
  {
   "metadata": {
    "ExecuteTime": {
     "end_time": "2025-09-26T12:02:46.100064Z",
     "start_time": "2025-09-26T11:59:19.158951Z"
    }
   },
   "cell_type": "code",
   "source": "mgf_spectra = mgf_get_spectra(mgf_path, num_spectra=100)",
   "id": "3b2f0a99b88cc206",
   "execution_count": 3,
   "outputs": []
  },
  {
   "metadata": {
    "ExecuteTime": {
     "end_time": "2025-09-26T12:02:46.113970Z",
     "start_time": "2025-09-26T12:02:46.102073Z"
    }
   },
   "cell_type": "code",
   "source": [
    "max_num_peaks = calculate_max_num_peaks(mgf_spectra, percentile=95)\n",
    "mz_vocabs = calculate_mz_vocabs(mgf_spectra)\n",
    "max_seq_len = max_num_peaks + 1\n",
    "vocab_size = len(mz_vocabs)"
   ],
   "id": "3ab0f956c5fc542b",
   "execution_count": 4,
   "outputs": []
  },
  {
   "metadata": {
    "ExecuteTime": {
     "end_time": "2025-09-26T12:07:10.255072Z",
     "start_time": "2025-09-26T12:07:10.248244Z"
    }
   },
   "cell_type": "code",
   "source": [
    "print(max_num_peaks)\n",
    "print(vocab_size)"
   ],
   "id": "93e251d6d6d300a1",
   "execution_count": 7,
   "outputs": []
  },
  {
   "metadata": {
    "ExecuteTime": {
     "end_time": "2025-09-26T12:06:22.955078Z",
     "start_time": "2025-09-26T12:03:19.928170Z"
    }
   },
   "cell_type": "code",
   "source": "splits = preprocess_and_split(mgf_path, seed=3, num_spectra=100)",
   "id": "f1513aad5e656880",
   "execution_count": 6,
   "outputs": []
  },
  {
   "metadata": {
    "ExecuteTime": {
     "end_time": "2025-09-26T12:10:42.337267Z",
     "start_time": "2025-09-26T12:07:43.016980Z"
    }
   },
   "cell_type": "code",
   "source": "loaders = data_loader(mgf_path=mgf_path, num_spectra=100, batch_size=4, seed=3, max_num_peaks=max_num_peaks, mz_vocabs=mz_vocabs)",
   "id": "96d6d3c53f80215d",
   "execution_count": 8,
   "outputs": []
  },
  {
   "metadata": {
    "ExecuteTime": {
     "end_time": "2025-09-26T12:11:05.840164Z",
     "start_time": "2025-09-26T12:11:05.832759Z"
    }
   },
   "cell_type": "code",
   "source": "model = Transformer(seed=3,max_seq_len=max_seq_len,vocab_size=vocab_size,morgan_default_dim=2048,d_model=128,n_head=4,num_layers=4,dropout_rate=0.1)",
   "id": "5ce626cf6235c54a",
   "execution_count": 10,
   "outputs": []
  },
  {
   "metadata": {
    "ExecuteTime": {
     "end_time": "2025-09-26T12:12:03.860627Z",
     "start_time": "2025-09-26T12:11:06.968777Z"
    }
   },
   "cell_type": "code",
   "source": "best_model = model.fit(train_loader=loaders[\"train\"], val_loader=loaders[\"val\"], max_epochs=10)",
   "id": "bb4ac5d1c330e353",
   "execution_count": 11,
   "outputs": []
  },
  {
   "metadata": {
    "ExecuteTime": {
     "end_time": "2025-09-26T12:12:52.042646Z",
     "start_time": "2025-09-26T12:12:51.985677Z"
    }
   },
   "cell_type": "code",
   "source": "model.eval(test_loader=loaders[\"test\"])",
   "id": "a0f0c1a088f524ce",
   "execution_count": 13,
   "outputs": []
  },
  {
   "metadata": {
    "ExecuteTime": {
     "end_time": "2025-09-26T12:17:50.835189Z",
     "start_time": "2025-09-26T12:17:50.360686Z"
    }
   },
   "cell_type": "code",
   "source": "model.predict(loaders[\"test\"], return_probabilities=False, save_results=False)",
   "id": "9aa685f7e655bc04",
   "execution_count": 15,
   "outputs": []
  },
  {
   "metadata": {},
   "cell_type": "markdown",
   "source": "# Splits cleaning test",
   "id": "599cfcb0225399e5"
  },
  {
   "metadata": {
    "ExecuteTime": {
     "end_time": "2025-10-17T18:59:35.527304Z",
     "start_time": "2025-10-17T18:59:01.059221Z"
    }
   },
   "cell_type": "code",
   "source": [
    "from src.config import mgf_path\n",
    "from src.data.split_prep_tools.data_splitting import preprocess_and_split\n"
   ],
   "id": "54a0448829f93bb6",
   "execution_count": 2,
   "outputs": []
  },
  {
   "metadata": {
    "ExecuteTime": {
     "end_time": "2025-10-17T19:03:20.666327Z",
     "start_time": "2025-10-17T18:59:53.275093Z"
    }
   },
   "cell_type": "code",
   "source": [
    "final_splits = preprocess_and_split(mgf_path=mgf_path, seed=2, num_spectra=1000)\n",
    "\n"
   ],
   "id": "6139379048714c90",
   "execution_count": 3,
   "outputs": []
  },
  {
   "metadata": {
    "ExecuteTime": {
     "end_time": "2025-10-17T19:04:06.910303Z",
     "start_time": "2025-10-17T19:04:06.858753Z"
    }
   },
   "cell_type": "code",
   "source": "len(final_splits['test'])",
   "id": "d3b485ea275bc2cb",
   "execution_count": 4,
   "outputs": []
  },
  {
   "metadata": {},
   "cell_type": "markdown",
   "source": "# Ploting the losses",
   "id": "30fcb20d83235d6c"
  },
  {
   "metadata": {
    "ExecuteTime": {
     "end_time": "2025-10-24T14:40:24.776764Z",
     "start_time": "2025-10-24T14:40:24.752295Z"
    }
   },
   "cell_type": "code",
   "source": [
    "import matplotlib.pyplot as plt\n",
    "import pandas as pd\n",
    "from pathlib import Path\n",
    "\n",
    "root = Path.home() / 'OneDrive' / 'Ambiente de Trabalho' / 'Tese' / 'Resultados' / 'Modelo_performance'\n",
    "\n",
    "train2 = root / 'treino_6_cleaning_F_2' / 'train_loss_epoch.csv'\n",
    "val2 = root / 'treino_6_cleaning_F_2' / 'val_loss.csv'\n",
    "\n",
    "train=pd.read_csv(train2)\n",
    "val=pd.read_csv(val2)"
   ],
   "id": "26136dad4fad8eac",
   "execution_count": 31,
   "outputs": []
  },
  {
   "metadata": {
    "ExecuteTime": {
     "end_time": "2025-10-24T14:38:11.477647Z",
     "start_time": "2025-10-24T14:38:11.469561Z"
    }
   },
   "cell_type": "code",
   "source": "val.head()",
   "id": "d4b060f984f71871",
   "execution_count": 26,
   "outputs": []
  },
  {
   "metadata": {
    "ExecuteTime": {
     "end_time": "2025-10-24T14:40:27.234239Z",
     "start_time": "2025-10-24T14:40:26.706946Z"
    }
   },
   "cell_type": "code",
   "source": [
    "plt.figure(figsize=(12, 7))\n",
    "plt.plot(train['Step'], train['Value'], label='Train Loss', color='#1f77b4', linewidth=2)\n",
    "plt.plot(val['Step'], val['Value'], label='Validation Loss', color='#ff7f0e', linewidth=2)\n",
    "plt.title('Loss Curves - Focal Loss', fontsize=18, weight='bold', pad=20)\n",
    "plt.xlabel('Steps', fontsize=14)\n",
    "plt.ylabel('Loss', fontsize=14)\n",
    "plt.legend(fontsize=12, loc='upper right')\n",
    "plt.grid(True, which='both', linestyle='--', linewidth=0.5, alpha=0.7)\n",
    "plt.tick_params(axis='both', which='major', labelsize=12)\n",
    "plt.xlim(left=0)\n",
    "\n",
    "plt.gca().spines['top'].set_visible(False)\n",
    "plt.gca().spines['right'].set_visible(False)\n",
    "\n",
    "plt.tight_layout()\n",
    "\n",
    "output_plot_path = root \n",
    "plt.savefig(output_plot_path, dpi=300)\n",
    "plt.show()"
   ],
   "id": "e46fdce98a83c741",
   "execution_count": 32,
   "outputs": []
  }
 ],
 "metadata": {
  "kernelspec": {
   "display_name": "Python 3",
   "language": "python",
   "name": "python3"
  },
  "language_info": {
   "codemirror_mode": {
    "name": "ipython",
    "version": 2
   },
   "file_extension": ".py",
   "mimetype": "text/x-python",
   "name": "python",
   "nbconvert_exporter": "python",
   "pygments_lexer": "ipython2",
   "version": "2.7.6"
  }
 },
 "nbformat": 4,
 "nbformat_minor": 5
}

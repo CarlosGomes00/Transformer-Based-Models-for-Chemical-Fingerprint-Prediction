{
 "cells": [
  {
   "cell_type": "code",
   "id": "initial_id",
   "metadata": {
    "collapsed": true,
    "ExecuteTime": {
     "end_time": "2025-09-23T18:01:00.455190Z",
     "start_time": "2025-09-23T18:00:56.706188Z"
    }
   },
   "source": [
    "from src.data.mgf_tools.mgf_get import mgf_get_spectra\n",
    "from src.utils import calculate_max_num_peaks\n",
    "from src.utils import path_check\n",
    "\n"
   ],
   "outputs": [],
   "execution_count": 1
  },
  {
   "metadata": {},
   "cell_type": "markdown",
   "source": "# Teste da função para obter o max_num_peaks",
   "id": "8d4449cd12ba8e29"
  },
  {
   "metadata": {
    "ExecuteTime": {
     "end_time": "2025-09-22T14:39:33.554465Z",
     "start_time": "2025-09-22T14:39:33.544926Z"
    }
   },
   "cell_type": "code",
   "source": [
    "mgf_path = r\"/Users/carla/PycharmProjects/Mestrado/Transformer-Based-Models-for-Chemical-Fingerprint-Prediction/datasets/raw/cleaned_gnps_library.mgf\"\n",
    "\n",
    "path_check(mgf_path)"
   ],
   "id": "7f3dd7d9357af06c",
   "outputs": [
    {
     "name": "stdout",
     "output_type": "stream",
     "text": [
      "File found!\n"
     ]
    }
   ],
   "execution_count": 4
  },
  {
   "metadata": {
    "ExecuteTime": {
     "end_time": "2025-09-16T19:14:42.878234Z",
     "start_time": "2025-09-16T19:13:16.996287Z"
    }
   },
   "cell_type": "code",
   "source": "mgf_data = mgf_get_spectra(mgf_path)",
   "id": "5c91e730e12559b5",
   "outputs": [],
   "execution_count": 4
  },
  {
   "metadata": {
    "ExecuteTime": {
     "end_time": "2025-09-12T17:46:07.187268Z",
     "start_time": "2025-09-12T17:46:06.996464Z"
    }
   },
   "cell_type": "code",
   "source": "max_num_peaks = calculate_max_num_peaks(mgf_data, percentile=95)",
   "id": "ef670b6c1143dd84",
   "outputs": [],
   "execution_count": 10
  },
  {
   "metadata": {
    "ExecuteTime": {
     "end_time": "2025-09-12T17:46:17.592643Z",
     "start_time": "2025-09-12T17:46:17.583085Z"
    }
   },
   "cell_type": "code",
   "source": "print(max_num_peaks)",
   "id": "49faff60dd7d9245",
   "outputs": [
    {
     "name": "stdout",
     "output_type": "stream",
     "text": [
      "439\n"
     ]
    }
   ],
   "execution_count": 11
  },
  {
   "metadata": {
    "ExecuteTime": {
     "end_time": "2025-09-16T19:15:29.645189Z",
     "start_time": "2025-09-16T19:15:22.000077Z"
    }
   },
   "cell_type": "code",
   "source": [
    "mz_vocabs = calculate_mz_vocabs(mgf_data)\n",
    "print(mz_vocabs)"
   ],
   "id": "443fb09dabccde6f",
   "outputs": [
    {
     "name": "stdout",
     "output_type": "stream",
     "text": [
      "[0.0000e+00 1.0000e-01 2.0000e-01 ... 4.9718e+03 4.9719e+03 4.9720e+03]\n"
     ]
    }
   ],
   "execution_count": 6
  },
  {
   "metadata": {},
   "cell_type": "markdown",
   "source": "# Transformer Class test",
   "id": "66e3ee45d2aea2da"
  },
  {
   "metadata": {
    "ExecuteTime": {
     "end_time": "2025-09-23T18:01:11.618286Z",
     "start_time": "2025-09-23T18:01:00.456195Z"
    }
   },
   "cell_type": "code",
   "source": [
    "from src.utils import calculate_mz_vocabs, calculate_max_num_peaks\n",
    "from src.data.data_splitting import preprocess_and_split\n",
    "from src.data.mgf_tools.mgf_get import mgf_get_spectra\n",
    "from src.data.data_loader import data_loader \n",
    "from src.models.Transformer import Transformer\n",
    "import torch"
   ],
   "id": "58ca55ddcacc45ff",
   "outputs": [
    {
     "name": "stderr",
     "output_type": "stream",
     "text": [
      "No normalization for SPS. Feature removed!\n",
      "No normalization for AvgIpc. Feature removed!\n"
     ]
    },
    {
     "name": "stdout",
     "output_type": "stream",
     "text": [
      "WARNING:tensorflow:From C:\\Users\\carla\\miniconda3\\envs\\tese_d_new\\Lib\\site-packages\\keras\\src\\losses.py:2976: The name tf.losses.sparse_softmax_cross_entropy is deprecated. Please use tf.compat.v1.losses.sparse_softmax_cross_entropy instead.\n",
      "\n",
      "WARNING:tensorflow:From C:\\Users\\carla\\miniconda3\\envs\\tese_d_new\\Lib\\site-packages\\tensorflow\\python\\util\\deprecation.py:588: calling function (from tensorflow.python.eager.polymorphic_function.polymorphic_function) with experimental_relax_shapes is deprecated and will be removed in a future version.\n",
      "Instructions for updating:\n",
      "experimental_relax_shapes is deprecated, use reduce_retracing instead\n"
     ]
    },
    {
     "name": "stderr",
     "output_type": "stream",
     "text": [
      "Skipped loading modules with transformers dependency. No module named 'transformers'\n",
      "cannot import name 'HuggingFaceModel' from 'deepchem.models.torch_models' (C:\\Users\\carla\\miniconda3\\envs\\tese_d_new\\Lib\\site-packages\\deepchem\\models\\torch_models\\__init__.py)\n",
      "Skipped loading modules with pytorch-lightning dependency, missing a dependency. No module named 'lightning'\n",
      "Skipped loading some Jax models, missing a dependency. No module named 'jax'\n",
      "C:\\Users\\carla\\miniconda3\\envs\\tese_d_new\\Lib\\site-packages\\deepmol\\compound_featurization\\__init__.py:20: UserWarning: Mol2Vec not available. Please install it to use it. (pip install git+https://github.com/samoturk/mol2vec#egg=mol2vec)\n",
      "  warnings.warn(\"Mol2Vec not available. Please install it to use it. \"\n"
     ]
    }
   ],
   "execution_count": 2
  },
  {
   "metadata": {
    "ExecuteTime": {
     "end_time": "2025-09-23T18:01:11.623976Z",
     "start_time": "2025-09-23T18:01:11.620292Z"
    }
   },
   "cell_type": "code",
   "source": [
    "mgf_path = r\"/Users/carla/PycharmProjects/Mestrado/Transformer-Based-Models-for-Chemical-Fingerprint-Prediction/datasets/raw/cleaned_gnps_library.mgf\"\n",
    "\n",
    "path_check(mgf_path)"
   ],
   "id": "588ad3de93771f53",
   "outputs": [
    {
     "name": "stdout",
     "output_type": "stream",
     "text": [
      "File found!\n"
     ]
    }
   ],
   "execution_count": 3
  },
  {
   "metadata": {
    "ExecuteTime": {
     "end_time": "2025-09-23T18:02:39.170847Z",
     "start_time": "2025-09-23T18:01:12.275907Z"
    }
   },
   "cell_type": "code",
   "source": "mgf_spectra = mgf_get_spectra(mgf_path, num_spectra=5000)",
   "id": "3b2f0a99b88cc206",
   "outputs": [],
   "execution_count": 4
  },
  {
   "metadata": {
    "ExecuteTime": {
     "end_time": "2025-09-23T18:02:39.414125Z",
     "start_time": "2025-09-23T18:02:39.171853Z"
    }
   },
   "cell_type": "code",
   "source": [
    "max_num_peaks = calculate_max_num_peaks(mgf_spectra, percentile=95)\n",
    "mz_vocabs = calculate_mz_vocabs(mgf_spectra)\n",
    "max_seq_len = max_num_peaks + 1\n",
    "vocab_size = len(mz_vocabs)"
   ],
   "id": "3ab0f956c5fc542b",
   "outputs": [],
   "execution_count": 5
  },
  {
   "metadata": {
    "ExecuteTime": {
     "end_time": "2025-09-23T18:03:29.462124Z",
     "start_time": "2025-09-23T18:03:29.458286Z"
    }
   },
   "cell_type": "code",
   "source": "max_num_peaks",
   "id": "93e251d6d6d300a1",
   "outputs": [
    {
     "data": {
      "text/plain": [
       "1942"
      ]
     },
     "execution_count": 7,
     "metadata": {},
     "output_type": "execute_result"
    }
   ],
   "execution_count": 7
  },
  {
   "metadata": {
    "ExecuteTime": {
     "end_time": "2025-09-23T18:06:28.139871Z",
     "start_time": "2025-09-23T18:04:42.580383Z"
    }
   },
   "cell_type": "code",
   "source": "splits = preprocess_and_split(mgf_path, seed=2, num_spectra=5000)",
   "id": "f1513aad5e656880",
   "outputs": [
    {
     "name": "stdout",
     "output_type": "stream",
     "text": [
      "\n",
      "1. Loading spectra and SMILES from MGF\n",
      "Loaded 5000 spectra from MGF\n",
      "Loaded 5000 spectra\n",
      "\n",
      "2. Applying filtering and spectrum processing\n",
      "\n",
      "3. Generating fingerprints for valid spectra\n"
     ]
    },
    {
     "name": "stderr",
     "output_type": "stream",
     "text": [
      "MorganFingerprint: 100%|██████████| 4320/4320 [00:02<00:00, 1499.01it/s]\n"
     ]
    },
    {
     "name": "stdout",
     "output_type": "stream",
     "text": [
      "\n",
      "4. Data Splitting\n",
      "Saving splits\n",
      "Split created with seed = 2\n",
      "Train: 3395 samples (78.6%)\n",
      "Validation:   464 samples (10.7%)\n",
      "Test:  461 samples (10.7%)\n",
      "Saving fingerprints cache\n",
      "Saved fingerprints cache: 4320 samples, 2048 features\n",
      "Files created:\n",
      "  • C:\\Users\\carla\\PycharmProjects\\Mestrado\\Transformer-Based-Models-for-Chemical-Fingerprint-Prediction\\src\\data\\artifacts\\2\\split_ids.pkl\n",
      "  • C:\\Users\\carla\\PycharmProjects\\Mestrado\\Transformer-Based-Models-for-Chemical-Fingerprint-Prediction\\src\\data\\artifacts\\2\\fingerprints.pkl\n",
      "  • C:\\Users\\carla\\PycharmProjects\\Mestrado\\Transformer-Based-Models-for-Chemical-Fingerprint-Prediction\\src\\data\\artifacts\\2\\split_statistics.csv\n",
      "  • C:\\Users\\carla\\PycharmProjects\\Mestrado\\Transformer-Based-Models-for-Chemical-Fingerprint-Prediction\\src\\data\\artifacts\\2\\split_statistics.html\n",
      "Split IDs and Fingerprints saved\n"
     ]
    }
   ],
   "execution_count": 8
  },
  {
   "metadata": {
    "ExecuteTime": {
     "end_time": "2025-09-23T18:09:09.004642Z",
     "start_time": "2025-09-23T18:07:23.556132Z"
    }
   },
   "cell_type": "code",
   "source": "loaders = data_loader(mgf_path=mgf_path, num_spectra=5000, batch_size=16, seed=2, max_num_peaks=max_num_peaks, mz_vocabs=mz_vocabs)",
   "id": "96d6d3c53f80215d",
   "outputs": [
    {
     "name": "stdout",
     "output_type": "stream",
     "text": [
      "Loaded splits: Train(3395), Val(464), Test(461)\n",
      "Filtered to 3395 spectra for train\n",
      "Filtered to 464 spectra for val\n",
      "Filtered to 461 spectra for test\n",
      "test DataLoader ready: 461 samples\n"
     ]
    }
   ],
   "execution_count": 9
  },
  {
   "metadata": {
    "ExecuteTime": {
     "end_time": "2025-09-23T18:09:16.461197Z",
     "start_time": "2025-09-23T18:09:16.457397Z"
    }
   },
   "cell_type": "code",
   "source": "model = Transformer(seed=2,max_seq_len=max_seq_len,vocab_size=vocab_size,morgan_default_dim=2048,d_model=128,n_head=4,num_layers=4,dropout_rate=0.1)",
   "id": "5ce626cf6235c54a",
   "outputs": [],
   "execution_count": 10
  },
  {
   "metadata": {
    "jupyter": {
     "is_executing": true
    },
    "ExecuteTime": {
     "start_time": "2025-09-23T18:09:20.286426Z"
    }
   },
   "cell_type": "code",
   "source": "best_model = model.fit(train_loader=loaders[\"train\"], val_loader=loaders[\"val\"], max_epochs=10)",
   "id": "bb4ac5d1c330e353",
   "outputs": [
    {
     "name": "stderr",
     "output_type": "stream",
     "text": [
      "Seed set to 2\n",
      "C:\\Users\\carla\\miniconda3\\envs\\tese_d_new\\Lib\\site-packages\\pytorch_lightning\\trainer\\connectors\\accelerator_connector.py:668: You passed `deterministic=True` and `benchmark=True`. Note that PyTorch ignores torch.backends.cudnn.deterministic=True when torch.backends.cudnn.benchmark=True.\n",
      "GPU available: True (cuda), used: True\n",
      "TPU available: False, using: 0 TPU cores\n",
      "IPU available: False, using: 0 IPUs\n",
      "HPU available: False, using: 0 HPUs\n",
      "You are using a CUDA device ('NVIDIA GeForce RTX 3050 Laptop GPU') that has Tensor Cores. To properly utilize them, you should set `torch.set_float32_matmul_precision('medium' | 'high')` which will trade-off precision for performance. For more details, read https://pytorch.org/docs/stable/generated/torch.set_float32_matmul_precision.html#torch.set_float32_matmul_precision\n",
      "Missing logger folder: outputs/logs\\2_train_logs\n",
      "LOCAL_RANK: 0 - CUDA_VISIBLE_DEVICES: [0]\n",
      "\n",
      "  | Name      | Type               | Params\n",
      "-------------------------------------------------\n",
      "0 | model     | EncoderTransformer | 15.3 M\n",
      "1 | criterion | BCELoss            | 0     \n",
      "-------------------------------------------------\n",
      "15.3 M    Trainable params\n",
      "0         Non-trainable params\n",
      "15.3 M    Total params\n",
      "61.322    Total estimated model params size (MB)\n"
     ]
    },
    {
     "data": {
      "text/plain": [
       "Sanity Checking: |          | 0/? [00:00<?, ?it/s]"
      ],
      "application/vnd.jupyter.widget-view+json": {
       "version_major": 2,
       "version_minor": 0,
       "model_id": "01a6cc61f69b4883b8b5b3ce52b4d65c"
      }
     },
     "metadata": {},
     "output_type": "display_data"
    },
    {
     "name": "stderr",
     "output_type": "stream",
     "text": [
      "C:\\Users\\carla\\miniconda3\\envs\\tese_d_new\\Lib\\site-packages\\torch\\nn\\modules\\transformer.py:380: UserWarning: The PyTorch API of nested tensors is in prototype stage and will change in the near future. (Triggered internally at C:\\cb\\pytorch_1000000000000\\work\\aten\\src\\ATen\\NestedTensorImpl.cpp:180.)\n",
      "  output = torch._nested_tensor_from_mask(output, src_key_padding_mask.logical_not(), mask_check=False)\n",
      "C:\\Users\\carla\\miniconda3\\envs\\tese_d_new\\Lib\\site-packages\\pytorch_lightning\\utilities\\data.py:77: Trying to infer the `batch_size` from an ambiguous collection. The batch size we found is 16. To avoid any miscalculations, use `self.log(..., batch_size=batch_size)`.\n"
     ]
    },
    {
     "data": {
      "text/plain": [
       "Training: |          | 0/? [00:00<?, ?it/s]"
      ],
      "application/vnd.jupyter.widget-view+json": {
       "version_major": 2,
       "version_minor": 0,
       "model_id": "c2f7e5c83ab047c78fdbbc0b48fd72aa"
      }
     },
     "metadata": {},
     "output_type": "display_data"
    }
   ],
   "execution_count": null
  },
  {
   "metadata": {
    "ExecuteTime": {
     "end_time": "2025-09-23T17:11:32.637936Z",
     "start_time": "2025-09-23T17:11:19.561770Z"
    }
   },
   "cell_type": "code",
   "source": "model.eval(test_loader=loaders[\"test\"])",
   "id": "a0f0c1a088f524ce",
   "outputs": [
    {
     "name": "stdout",
     "output_type": "stream",
     "text": [
      "Metrics saved to outputs\\eval\\1\\metrics.json\n"
     ]
    },
    {
     "data": {
      "text/plain": [
       "{'n_samples': 9,\n",
       " 'precision_macro': 0.8333333333333333,\n",
       " 'precision_weighted': 0.9630594135802468,\n",
       " 'recall_macro': 0.5810025512614571,\n",
       " 'recall_weighted': 0.9700520833333334,\n",
       " 'f1_macro': 0.6253358346138256,\n",
       " 'f1_weighted': 0.961005231556984,\n",
       " 'mean_tanimoto_similarity_predicted_vs_true_morganfingerprints': 0.15501341164356375}"
      ]
     },
     "execution_count": 9,
     "metadata": {},
     "output_type": "execute_result"
    }
   ],
   "execution_count": 9
  },
  {
   "metadata": {
    "ExecuteTime": {
     "end_time": "2025-09-23T17:17:45.545339Z",
     "start_time": "2025-09-23T17:17:45.228927Z"
    }
   },
   "cell_type": "code",
   "source": "model.predict(loaders[\"test\"], return_probabilities=True, save_results=False)",
   "id": "9aa685f7e655bc04",
   "outputs": [
    {
     "name": "stdout",
     "output_type": "stream",
     "text": [
      "Making predictions...\n",
      "Device: cuda\n",
      "Return raw probabilities: True\n",
      "Predictions made for 9 samples\n",
      "   Probability range: [0.5015, 0.7254]\n"
     ]
    },
    {
     "data": {
      "text/plain": [
       "array([[0.5048254 , 0.6595586 , 0.5159926 , ..., 0.50544745, 0.5055766 ,\n",
       "        0.50450426],\n",
       "       [0.5049232 , 0.6603836 , 0.51603687, ..., 0.50522006, 0.50565964,\n",
       "        0.5045249 ],\n",
       "       [0.50483626, 0.66036206, 0.51607865, ..., 0.50531   , 0.5056885 ,\n",
       "        0.50451577],\n",
       "       ...,\n",
       "       [0.50486237, 0.6598358 , 0.516125  , ..., 0.5053058 , 0.5056694 ,\n",
       "        0.5045158 ],\n",
       "       [0.5048272 , 0.6601652 , 0.5160439 , ..., 0.50538105, 0.5056701 ,\n",
       "        0.50451815],\n",
       "       [0.5048608 , 0.6600576 , 0.5160978 , ..., 0.5052882 , 0.50569344,\n",
       "        0.5045119 ]], dtype=float32)"
      ]
     },
     "execution_count": 11,
     "metadata": {},
     "output_type": "execute_result"
    }
   ],
   "execution_count": 11
  }
 ],
 "metadata": {
  "kernelspec": {
   "display_name": "Python 3",
   "language": "python",
   "name": "python3"
  },
  "language_info": {
   "codemirror_mode": {
    "name": "ipython",
    "version": 2
   },
   "file_extension": ".py",
   "mimetype": "text/x-python",
   "name": "python",
   "nbconvert_exporter": "python",
   "pygments_lexer": "ipython2",
   "version": "2.7.6"
  }
 },
 "nbformat": 4,
 "nbformat_minor": 5
}

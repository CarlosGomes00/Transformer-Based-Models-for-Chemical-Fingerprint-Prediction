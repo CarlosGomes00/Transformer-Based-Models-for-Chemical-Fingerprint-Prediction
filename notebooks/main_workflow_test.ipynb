{
 "cells": [
  {
   "metadata": {},
   "cell_type": "markdown",
   "source": "# Transformer Model Data Preparation Workflow",
   "id": "9b4d9a25d3fc9dac"
  },
  {
   "metadata": {},
   "cell_type": "markdown",
   "source": [
    "This notebook documents the initial pipeline for mass spectrometry data preparation and preprocessing, which is essential for feeding our future Transformer model.\n",
    "\n",
    "We start by loading and processing MGF files, applying a series of filters and transformations to ensure the quality and appropriate format of the data."
   ],
   "id": "6a69d1137df79e62"
  },
  {
   "metadata": {},
   "cell_type": "markdown",
   "source": "The first step involves validating the MGF file path (**path_check**) and loading the raw spectra. The **mgf_get_spectra** function is responsible for reading the MGF file and extracting each spectrum's data",
   "id": "cedc79057b837e53"
  },
  {
   "cell_type": "code",
   "id": "initial_id",
   "metadata": {
    "collapsed": true,
    "ExecuteTime": {
     "end_time": "2025-08-01T18:05:22.745508Z",
     "start_time": "2025-08-01T18:05:10.907436Z"
    }
   },
   "source": [
    "from src.utils import *\n",
    "from src.data.flexible_dataloader import *\n",
    "from src.model.transformer import EncoderTransformer"
   ],
   "outputs": [
    {
     "name": "stderr",
     "output_type": "stream",
     "text": [
      "No normalization for SPS. Feature removed!\n",
      "No normalization for AvgIpc. Feature removed!\n"
     ]
    },
    {
     "name": "stdout",
     "output_type": "stream",
     "text": [
      "WARNING:tensorflow:From C:\\Users\\carla\\miniconda3\\envs\\tese_d\\Lib\\site-packages\\keras\\src\\losses.py:2976: The name tf.losses.sparse_softmax_cross_entropy is deprecated. Please use tf.compat.v1.losses.sparse_softmax_cross_entropy instead.\n",
      "\n",
      "WARNING:tensorflow:From C:\\Users\\carla\\miniconda3\\envs\\tese_d\\Lib\\site-packages\\tensorflow\\python\\util\\deprecation.py:588: calling function (from tensorflow.python.eager.polymorphic_function.polymorphic_function) with experimental_relax_shapes is deprecated and will be removed in a future version.\n",
      "Instructions for updating:\n",
      "experimental_relax_shapes is deprecated, use reduce_retracing instead\n"
     ]
    },
    {
     "name": "stderr",
     "output_type": "stream",
     "text": [
      "Skipped loading modules with transformers dependency. No module named 'transformers'\n",
      "cannot import name 'HuggingFaceModel' from 'deepchem.models.torch_models' (C:\\Users\\carla\\miniconda3\\envs\\tese_d\\Lib\\site-packages\\deepchem\\models\\torch_models\\__init__.py)\n",
      "Skipped loading modules with pytorch-lightning dependency, missing a dependency. No module named 'lightning'\n",
      "Skipped loading some Jax models, missing a dependency. No module named 'jax'\n",
      "C:\\Users\\carla\\miniconda3\\envs\\tese_d\\Lib\\site-packages\\deepmol\\compound_featurization\\__init__.py:20: UserWarning: Mol2Vec not available. Please install it to use it. (pip install git+https://github.com/samoturk/mol2vec#egg=mol2vec)\n",
      "  warnings.warn(\"Mol2Vec not available. Please install it to use it. \"\n"
     ]
    }
   ],
   "execution_count": 1
  },
  {
   "metadata": {
    "ExecuteTime": {
     "end_time": "2025-08-01T18:05:22.750584Z",
     "start_time": "2025-08-01T18:05:22.746513Z"
    }
   },
   "cell_type": "code",
   "source": [
    "mgf_data = r\"/Users/carla/PycharmProjects/Mestrado/Transformer-Based-Models-for-Chemical-Fingerprint-Prediction/datasets/raw/cleaned_gnps_library.mgf\"\n",
    "\n",
    "path_check(mgf_data)"
   ],
   "id": "6dca8e4786c6f88c",
   "outputs": [
    {
     "name": "stdout",
     "output_type": "stream",
     "text": [
      "File found!\n"
     ]
    }
   ],
   "execution_count": 2
  },
  {
   "metadata": {
    "ExecuteTime": {
     "end_time": "2025-08-01T18:07:06.183103Z",
     "start_time": "2025-08-01T18:05:22.751590Z"
    }
   },
   "cell_type": "code",
   "source": "mgf_spect= mgf_get_spectra(mgf_data, num_spectra=10)",
   "id": "a781ab36f38a82b7",
   "outputs": [],
   "execution_count": 3
  },
  {
   "metadata": {},
   "cell_type": "markdown",
   "source": "This is the core phase of transforming the raw data. The **mgf_deconvoluter** function iterates over each loaded spectrum, applying a series of cleaning and tokenization steps via the **mgf_spectrum_deconvoluter**",
   "id": "2439e5b290345094"
  },
  {
   "metadata": {
    "ExecuteTime": {
     "end_time": "2025-08-01T18:07:06.257608Z",
     "start_time": "2025-08-01T18:07:06.184116Z"
    }
   },
   "cell_type": "code",
   "source": "x = mgf_deconvoluter(mgf_data=mgf_spect, mz_vocabs=mz_vocabs, min_num_peaks=5, max_num_peaks=max_num_peaks, noise_rmv_threshold=0.01, mass_error=0.01, allowed_spectral_entropy=True, log=True)",
   "id": "aae912e960a915d8",
   "outputs": [
    {
     "name": "stdout",
     "output_type": "stream",
     "text": [
      "[2] Rejected spectrum: 500\n",
      "[5] Rejected after noise filtering: 3 peaks left\n"
     ]
    }
   ],
   "execution_count": 4
  },
  {
   "metadata": {
    "ExecuteTime": {
     "end_time": "2025-08-01T18:07:06.265307Z",
     "start_time": "2025-08-01T18:07:06.259614Z"
    }
   },
   "cell_type": "code",
   "source": "print(x)",
   "id": "ddb52c0167e26877",
   "outputs": [
    {
     "name": "stdout",
     "output_type": "stream",
     "text": [
      "[('CCMSLIB00000001547', 9805, [2883, 2945, 3163, 3187, 3235, 3243, 3388, 3429, 3460, 3601, 3608, 3639, 3648, 3672, 3680, 3741, 3748, 3818, 3832, 3896, 3930, 3961, 4034, 4128, 4267, 4352, 4423, 4453, 4467, 4542, 4551, 4565, 4633, 4689, 4701, 4743, 4751, 4760, 4779, 4790, 4822, 4862, 4872, 4902, 4947, 4974, 5020, 5033, 5042, 5092, 5112, 5123, 5140, 5149, 5200, 5222, 5280, 5300, 5336, 5370, 5382, 5397, 5471, 5531, 5550, 5563, 5589, 5603, 5631, 5639, 5654, 5703, 5710, 5742, 5761, 5799, 5811, 5825, 5842, 5972, 5984, 5994, 6013, 6083, 6124, 6212, 6220, 6230, 6242, 6373, 6393, 6402, 6451, 6505, 6561, 6571, 6584, 6624, 6673, 6792, 6810, 6850, 6906, 6922, 6933, 6953, 6961, 7085, 7098, 7107, 7131, 7146, 7223, 7231, 7245, 7274, 7348, 7434, 7465, 7523, 7606, 7635, 7643, 7683, 7693, 7704, 7864, 7951, 7962, 8056, 8106, 8113, 8121, 8203, 8224, 8275, 8294, 8303, 8311, 8351, 8375, 8385, 8446, 8464, 8471, 8504, 8514, 8523, 8646, 8653, 8674, 8683, 8761, 8824, 8872, 8883, 8911, 8925, 8946, 8980, 9004, 9084, 9095, 9105, 9142, 9184, 9201, 9212, 9241, 9301, 9314, 9325, 9345, 9356, 9366, 9375, 9386, 9453, 9484, 9506, 9524, 9535, 9627, 9635, 9642, 9812], 4.5689320607493125, array([0.00085518, 0.00238565, 0.00198658, 0.00091199, 0.00085231,\n",
      "       0.00103219, 0.0017113 , 0.00191789, 0.00148193, 0.00124683,\n",
      "       0.00257528, 0.00114285, 0.00108561, 0.00135261, 0.0020295 ,\n",
      "       0.0016582 , 0.00269156, 0.00135304, 0.0018986 , 0.00084723,\n",
      "       0.00171024, 0.00148246, 0.00130651, 0.00092375, 0.00722225,\n",
      "       0.00157711, 0.00470908, 0.00248794, 0.00310483, 0.00751925,\n",
      "       0.01117113, 0.00136332, 0.00091337, 0.00928461, 0.00333696,\n",
      "       0.00163753, 0.00245306, 0.00301347, 0.00295623, 0.00352278,\n",
      "       0.00143773, 0.00348568, 0.00220323, 0.00583752, 0.00341392,\n",
      "       0.00123846, 0.00324803, 0.00386048, 0.00102466, 0.00412229,\n",
      "       0.00107851, 0.00175148, 0.00120666, 0.00834867, 0.00305873,\n",
      "       0.00624592, 0.00219645, 0.00337544, 0.00136798, 0.0234197 ,\n",
      "       0.02886228, 0.00465068, 0.00144737, 0.00807954, 0.02272776,\n",
      "       0.00561461, 0.0019198 , 0.00155348, 0.00275282, 0.00367064,\n",
      "       0.00376964, 0.00649808, 0.00182684, 0.00446529, 0.00313218,\n",
      "       0.00186648, 0.01081954, 0.00107194, 0.0038979 , 0.0027649 ,\n",
      "       0.08103635, 0.01211184, 0.00287715, 0.00108614, 0.00091379,\n",
      "       0.00252133, 0.00677738, 0.00203025, 0.00244321, 0.00132294,\n",
      "       0.00184348, 0.00698227, 0.00089132, 0.00185716, 0.00136851,\n",
      "       0.00157128, 0.00444854, 0.00193803, 0.00696393, 0.00470346,\n",
      "       0.00259118, 0.00203152, 0.00309264, 0.00355563, 0.00238904,\n",
      "       0.01284788, 0.00100728, 0.00213804, 0.00236859, 0.00346342,\n",
      "       0.00535142, 0.00578388, 0.00152793, 0.0093817 , 0.00089779,\n",
      "       0.00228082, 0.00551412, 0.00171766, 0.00204233, 0.00149603,\n",
      "       0.00131149, 0.00210678, 0.00194619, 0.00445172, 0.00175402,\n",
      "       0.0014602 , 0.00349818, 0.00102148, 0.00120009, 0.00197566,\n",
      "       0.00155676, 0.00104978, 0.00169159, 0.00165258, 0.0014514 ,\n",
      "       0.00340586, 0.01087338, 0.0069209 , 0.00103102, 0.0009264 ,\n",
      "       0.00277285, 0.00763234, 0.00228707, 0.02082418, 0.00420136,\n",
      "       0.02609303, 0.02934837, 0.00468672, 0.0047377 , 0.01176682,\n",
      "       0.00827012, 0.00090987, 0.00319376, 0.00521935, 0.00434976,\n",
      "       0.00262817, 0.00158199, 0.00249154, 0.00139098, 0.00303498,\n",
      "       0.00142798, 0.02587743, 0.00463944, 0.00161199, 0.00301611,\n",
      "       0.00909753, 0.00171321, 0.00401332, 0.00459969, 0.00654334,\n",
      "       0.01448509, 0.00267131, 0.00359284, 0.01093136, 0.00716586,\n",
      "       0.00375003, 0.00819232, 0.00408975, 0.00905417, 0.00317935,\n",
      "       0.05779758, 0.01313682, 0.02772621, 0.0337241 , 0.01318643,\n",
      "       0.00287747])), ('CCMSLIB00000001552', 6661, [3691, 3701, 3711, 4050, 4060, 4071, 4250, 4654, 4662, 4671, 5481, 5611, 5621, 5682, 5691, 5702, 5880, 6040, 6051, 6061, 6230, 6239, 6280, 6291, 6301], 2.5563635105976292, array([0.0176943 , 0.0120561 , 0.01762155, 0.02969357, 0.03314078,\n",
      "       0.08049695, 0.0137923 , 0.00924959, 0.01300379, 0.01544315,\n",
      "       0.01461794, 0.01240396, 0.02794076, 0.02307037, 0.01567219,\n",
      "       0.02676462, 0.01634603, 0.02605761, 0.17092268, 0.31066002,\n",
      "       0.0121687 , 0.03036095, 0.01957793, 0.02561071, 0.02563344])), ('CCMSLIB00000001555', 6641, [2172, 3692, 4051, 4231, 4649, 5421, 5462, 5601, 5681, 5861, 6040, 6061, 6220, 6280, 6460], 2.2513956809320246, array([0.02492215, 0.0525851 , 0.12743748, 0.02972437, 0.04461299,\n",
      "       0.02174732, 0.0337079 , 0.05050933, 0.05394011, 0.0353232 ,\n",
      "       0.36105194, 0.02370357, 0.05304515, 0.06597002, 0.02171936])), ('CCMSLIB00000001556', 10646, [8035, 8045, 8075, 8085, 8355, 8365, 8375, 8385, 10466, 10476, 10486, 10646, 10656, 10666, 10676], 2.137291274915605, array([0.01223581, 0.00912895, 0.01282802, 0.00915093, 0.1238829 ,\n",
      "       0.10730852, 0.03801414, 0.01205176, 0.01880857, 0.02335119,\n",
      "       0.00958528, 0.23354992, 0.23553937, 0.11290088, 0.04166379])), ('CCMSLIB00000001563', 7294, [991, 1001, 1151, 1191, 1201, 1221, 1251, 1501, 1511, 1651, 1661, 1711, 1831, 1841, 1871, 1931, 1941, 1951, 1991, 2111, 2121, 2161, 2171, 2211, 2232, 2242, 2422, 2432, 2441, 2462, 2621, 2661, 2742, 2802, 2812, 3082, 3092, 3132, 3382, 3392, 3402, 3582, 3642, 3822, 3892, 3902, 4073, 4212, 4273, 4353, 4363, 4853, 5363, 5373, 5383, 5823, 5834, 6844, 7014, 7024, 7294, 7304, 7314, 7324], 3.3057932567363837, array([0.049644  , 0.0038992 , 0.01025157, 0.02087749, 0.00215657,\n",
      "       0.00270071, 0.00669263, 0.00398291, 0.00443514, 0.02012382,\n",
      "       0.00336713, 0.01097685, 0.04556351, 0.00608743, 0.00280324,\n",
      "       0.20547521, 0.06179835, 0.00777997, 0.00391725, 0.06971119,\n",
      "       0.01072384, 0.00365528, 0.00914412, 0.00424288, 0.00521631,\n",
      "       0.002191  , 0.03264802, 0.00593739, 0.00258541, 0.00378519,\n",
      "       0.00661658, 0.00265216, 0.00772349, 0.05391101, 0.01242048,\n",
      "       0.01968758, 0.00523237, 0.00615397, 0.03834614, 0.0139225 ,\n",
      "       0.002516  , 0.00223173, 0.00303662, 0.00564768, 0.00476177,\n",
      "       0.00206367, 0.00528329, 0.0042309 , 0.00360606, 0.00592747,\n",
      "       0.00215022, 0.0026045 , 0.00884988, 0.00780905, 0.0030346 ,\n",
      "       0.00552603, 0.00278607, 0.00249409, 0.00680866, 0.00458052,\n",
      "       0.06620711, 0.04344977, 0.01295424, 0.00240019])), ('CCMSLIB00000001566', 7514, [1651, 1931, 2331, 2461, 2982, 3142, 3412, 3422, 3592, 3602, 3652, 4192, 4613, 4623, 4633, 4793, 4852, 5063, 5073, 5083, 5123, 5133, 5583, 5663, 5763, 5773, 6083, 6093, 6104, 6264, 6274, 6543, 6553, 7074, 7234, 7244, 7254, 7514, 7524, 7534, 7544], 2.805484880818424, array([0.00752988, 0.00644198, 0.01866167, 0.00552996, 0.00719877,\n",
      "       0.00657372, 0.00520519, 0.01447077, 0.00496573, 0.00621605,\n",
      "       0.00463439, 0.00513466, 0.06092961, 0.02074096, 0.00603833,\n",
      "       0.00505884, 0.00499994, 0.008123  , 0.02947938, 0.0131317 ,\n",
      "       0.01238555, 0.00494798, 0.00484922, 0.00709321, 0.01193533,\n",
      "       0.00467983, 0.03741587, 0.01819669, 0.00598265, 0.01018191,\n",
      "       0.00563174, 0.0234504 , 0.01343972, 0.00520326, 0.03802674,\n",
      "       0.02296056, 0.00578804, 0.25856485, 0.19523279, 0.0590709 ,\n",
      "       0.01389824])), ('CCMSLIB00000001568', 8596, [1882, 1957, 2431, 2633, 2730, 2953, 2960, 2977, 3035, 3367, 3762, 3810, 4002, 4303, 4432, 4492, 4841, 5077, 5153, 5164, 5168, 5587, 5699, 5792, 5864, 5874, 6063, 6144, 6276, 6276, 6324, 6334, 6347, 6594, 7155, 7165, 7185, 7288, 7435, 7444, 7479, 7592, 7605, 7615, 7624, 7625, 7628, 7640, 8143, 8416, 8586, 8590, 8596, 8603, 8606, 8608, 8615, 8616, 8617, 8626, 8670, 10336, 10704, 10973, 11079, 11363, 14131, 14300], 3.590705898101382, array([0.00665149, 0.00349291, 0.0035237 , 0.00556553, 0.00350507,\n",
      "       0.0146445 , 0.00492743, 0.00350787, 0.00330991, 0.00490943,\n",
      "       0.00532119, 0.00478345, 0.006054  , 0.00763712, 0.00770916,\n",
      "       0.00325736, 0.03010198, 0.00320697, 0.00413078, 0.02100886,\n",
      "       0.00667245, 0.01087993, 0.0159114 , 0.0031697 , 0.06629744,\n",
      "       0.02313502, 0.00383604, 0.01225583, 0.00737404, 0.00518657,\n",
      "       0.05457123, 0.00792148, 0.00461249, 0.01464803, 0.04142228,\n",
      "       0.00317097, 0.00362664, 0.00675329, 0.01826896, 0.01119667,\n",
      "       0.0274082 , 0.0076083 , 0.06849446, 0.06091652, 0.00490029,\n",
      "       0.01756573, 0.00508363, 0.0031697 , 0.00317727, 0.00712659,\n",
      "       0.01807941, 0.02377208, 0.09275756, 0.00320697, 0.09614944,\n",
      "       0.00542413, 0.0041289 , 0.03628968, 0.00412748, 0.01253272,\n",
      "       0.00448523, 0.00411947, 0.00327735, 0.0047537 , 0.00357409,\n",
      "       0.00320697, 0.00318834, 0.0033166 ])), ('CCMSLIB00000001570', 8656, [991, 1001, 1161, 1171, 1261, 1271, 1281, 1290, 1461, 1471, 1981, 1983, 1991, 2001, 2082, 2092, 2101, 2111, 2122, 2201, 2261, 2263, 2272, 2282, 2292, 2302, 2371, 2451, 2452, 2461, 2672, 2673, 2953, 2963, 2972, 3082, 3092, 3252, 3262, 3272, 3282, 3402, 3422, 3442, 3453, 3682, 4022, 4083, 4093, 4103, 4428, 4533, 4543, 4713, 4723, 4760, 5214, 5224, 5344, 5363, 5524, 5534, 5539, 5544, 5704, 5710, 5714, 5724, 6040, 6205, 6215, 6224, 6458, 7075, 8476, 8486, 8496, 8656, 8658, 8659, 8662, 8665, 8666, 8668, 8676, 8685, 8686, 11118], 3.6586098060768806, array([0.00148394, 0.00482246, 0.0045249 , 0.0014841 , 0.00197293,\n",
      "       0.00463397, 0.00182053, 0.00450838, 0.01878681, 0.00233171,\n",
      "       0.08929922, 0.001367  , 0.01551936, 0.00360872, 0.00155095,\n",
      "       0.02174732, 0.03477214, 0.00460392, 0.00168878, 0.00136607,\n",
      "       0.10764417, 0.00182525, 0.02692245, 0.01146284, 0.00494317,\n",
      "       0.00154175, 0.00157713, 0.00774357, 0.00516039, 0.00159152,\n",
      "       0.00144063, 0.00228686, 0.01367017, 0.00405353, 0.00207419,\n",
      "       0.00160618, 0.00598772, 0.03250339, 0.03405603, 0.01166118,\n",
      "       0.00184114, 0.00221552, 0.00165356, 0.00193042, 0.0015622 ,\n",
      "       0.0021464 , 0.00288905, 0.03440488, 0.01670752, 0.00143915,\n",
      "       0.00287511, 0.00820931, 0.00337244, 0.01019966, 0.00686949,\n",
      "       0.00163745, 0.01635271, 0.00827693, 0.00203046, 0.00147971,\n",
      "       0.0430134 , 0.02523647, 0.0014051 , 0.00735447, 0.01870388,\n",
      "       0.00165634, 0.01132587, 0.00346841, 0.00157215, 0.00973968,\n",
      "       0.00445241, 0.00202622, 0.00160142, 0.00137338, 0.0243973 ,\n",
      "       0.02522296, 0.00750919, 0.08369747, 0.00245455, 0.00160759,\n",
      "       0.00165559, 0.00140304, 0.05683813, 0.0019072 , 0.01894033,\n",
      "       0.00214706, 0.00513405, 0.00441788]))]\n"
     ]
    }
   ],
   "execution_count": 5
  },
  {
   "metadata": {},
   "cell_type": "markdown",
   "source": "The **mgf_deconvoluter** function returns a list of tuples, where each tuple (spectrum_id, tokenized_mz, tokenized_precursor, intensities) represents a spectrum that has successfully passed through the entire preprocessing pipeline.",
   "id": "cfb65b4d21c7ecf5"
  },
  {
   "metadata": {},
   "cell_type": "markdown",
   "source": "# Teste das dimensões / formato dos dados ao longo da pipeline do Transformer",
   "id": "349ca7a79f24badf"
  },
  {
   "metadata": {
    "ExecuteTime": {
     "end_time": "2025-07-21T15:27:51.144229Z",
     "start_time": "2025-07-21T15:26:24.269025Z"
    }
   },
   "cell_type": "code",
   "source": [
    "# DataLoader\n",
    "\n",
    "test_dataloader = data_loader_f(batch_size=2, num_spectra=10)\n",
    "\n",
    "for batch in test_dataloader:\n",
    "    mz_batch, int_batch, attention_mask_batch, batch_spectrum_ids, precursor_mask_batch = batch\n",
    "    \n",
    "    \n",
    "    print(f' mz_batch: {mz_batch.shape}')\n",
    "    print(f' int_batch: {int_batch.shape}')\n",
    "    print(f' attention_mask_batch: {attention_mask_batch.shape}')\n",
    "    print(f' precursor_mz_batch: {precursor_mask_batch.shape}')\n",
    "    \n",
    "    break\n",
    "    \n",
    "    # Esperado [batch_size, max_seq_len]"
   ],
   "id": "330b6f4701b0fd2e",
   "execution_count": 2,
   "outputs": []
  },
  {
   "metadata": {},
   "cell_type": "code",
   "source": [
    "model = EncoderTransformer(vocab_size=vocab_size, d_model=d_model, nhead=4, num_layers=4, dropout_rate=0.1)\n",
    "\n",
    "for batch in test_dataloader:\n",
    "    mz_batch, int_batch, attention_mask_batch, batch_spectrum_ids, precursor_mask_batch = batch\n",
    "    \n",
    "    try:\n",
    "        output = model(mz_batch, int_batch, attention_mask_batch)\n",
    "        print(f\" Output shape: {output.shape}\")  # Esperado: [batch_size, 2048]\n",
    "        print(f\" Output range: {output.min().item():.4f} to {output.max().item():.4f}\")\n",
    "        break\n",
    "    except Exception as e:\n",
    "        print(f'Erro: {e}')\n",
    "        break"
   ],
   "id": "44d99e525d4d5c2a",
   "execution_count": null,
   "outputs": []
  }
 ],
 "metadata": {
  "kernelspec": {
   "display_name": "Python 3",
   "language": "python",
   "name": "python3"
  },
  "language_info": {
   "codemirror_mode": {
    "name": "ipython",
    "version": 2
   },
   "file_extension": ".py",
   "mimetype": "text/x-python",
   "name": "python",
   "nbconvert_exporter": "python",
   "pygments_lexer": "ipython2",
   "version": "2.7.6"
  }
 },
 "nbformat": 4,
 "nbformat_minor": 5
}

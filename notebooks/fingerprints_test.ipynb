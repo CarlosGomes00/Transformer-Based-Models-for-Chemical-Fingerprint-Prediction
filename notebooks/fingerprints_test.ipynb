{
 "cells": [
  {
   "metadata": {},
   "cell_type": "markdown",
   "source": "# How to use the functions related to Fingerprints in the repository?",
   "id": "bbf63abeac5bec3e"
  },
  {
   "metadata": {},
   "cell_type": "markdown",
   "source": "# SMILES -> Fingerprint",
   "id": "80d0a9c8b2c84eeb"
  },
  {
   "metadata": {},
   "cell_type": "markdown",
   "source": "First, it's important to import some of the modules that have been built.\n",
   "id": "c48c2c3a0e81d732"
  },
  {
   "cell_type": "code",
   "id": "initial_id",
   "metadata": {
    "collapsed": true,
    "ExecuteTime": {
     "end_time": "2025-06-09T23:26:58.905885Z",
     "start_time": "2025-06-09T23:26:36.046588Z"
    }
   },
   "source": [
    "from src.utils import path_check\n",
    "from src.mgf_tools.mgf_get import mgf_get_smiles, mgf_get_spectra\n",
    "from fingerprints_tools.fingerprint_generator import *\n",
    "\n",
    "import warnings\n",
    "warnings.filterwarnings(\"ignore\")"
   ],
   "execution_count": 1,
   "outputs": []
  },
  {
   "metadata": {},
   "cell_type": "markdown",
   "source": "And to have the data loaded, in this case a .mgf file.",
   "id": "ad53fb8a0103e4fa"
  },
  {
   "metadata": {
    "ExecuteTime": {
     "end_time": "2025-06-09T23:26:58.916399Z",
     "start_time": "2025-06-09T23:26:58.909904Z"
    }
   },
   "cell_type": "code",
   "source": [
    "mgf_data = r\"/Users/carla/PycharmProjects/Mestrado/Transformer-Based-Models-for-Chemical-Fingerprint-Prediction/datasets/raw/cleaned_gnps_library.mgf\"\n",
    "\n",
    "path_check(mgf_data)"
   ],
   "id": "c9ae0b68efa2330d",
   "execution_count": 2,
   "outputs": []
  },
  {
   "metadata": {
    "ExecuteTime": {
     "start_time": "2025-06-09T23:26:58.917407Z"
    }
   },
   "cell_type": "code",
   "source": "spectra = mgf_get_spectra(mgf_data, num_spectra=1)",
   "id": "be50b1e4797e23cc",
   "execution_count": null,
   "outputs": []
  },
  {
   "metadata": {},
   "cell_type": "markdown",
   "source": "Once the data has been loaded, use the following function to obtain the molecules SMILES.",
   "id": "e328e375e9c67282"
  },
  {
   "metadata": {
    "ExecuteTime": {
     "end_time": "2025-06-09T18:26:12.340247Z",
     "start_time": "2025-06-09T18:26:12.334402Z"
    }
   },
   "cell_type": "code",
   "source": "smiles_data = mgf_get_smiles(spectra)",
   "id": "d44e3bb812c2cb14",
   "execution_count": 4,
   "outputs": []
  },
  {
   "metadata": {},
   "cell_type": "markdown",
   "source": "Once you have the data loaded, you can generate the Fingerprints for the SMILES using the following steps",
   "id": "7925978a415f8bb3"
  },
  {
   "metadata": {
    "ExecuteTime": {
     "end_time": "2025-06-09T18:26:12.361413Z",
     "start_time": "2025-06-09T18:26:12.346132Z"
    }
   },
   "cell_type": "code",
   "source": [
    "smiles = smiles_data['smiles']\n",
    "ids = smiles_data['id']\n"
   ],
   "id": "492c23af17e5a2a0",
   "execution_count": 5,
   "outputs": []
  },
  {
   "metadata": {
    "ExecuteTime": {
     "end_time": "2025-06-09T18:28:01.402517Z",
     "start_time": "2025-06-09T18:28:01.352843Z"
    }
   },
   "cell_type": "code",
   "source": "dataset = smiles_to_fingerprint(smiles_data=smiles, ids=ids)",
   "id": "98e0efbb1148384e",
   "execution_count": 8,
   "outputs": []
  },
  {
   "metadata": {},
   "cell_type": "markdown",
   "source": [
    "In this way, you have obtained Morgan Fingerprints generated from Deepmol.\n",
    "\n",
    "You can check the generated fingerprints (Smiles dataset by DeepMol) using the following code:"
   ],
   "id": "91e43a07c6f7f516"
  },
  {
   "metadata": {
    "ExecuteTime": {
     "end_time": "2025-06-09T18:28:03.802649Z",
     "start_time": "2025-06-09T18:28:03.794949Z"
    }
   },
   "cell_type": "code",
   "source": "dataset.X[0]",
   "id": "bb90db5b3d610284",
   "execution_count": 9,
   "outputs": []
  },
  {
   "metadata": {
    "ExecuteTime": {
     "end_time": "2025-06-09T18:31:45.670773Z",
     "start_time": "2025-06-09T18:31:45.662330Z"
    }
   },
   "cell_type": "code",
   "source": "np.unique(dataset.X[0], return_counts=True)",
   "id": "b2c37dab5e16b2f",
   "execution_count": 10,
   "outputs": []
  },
  {
   "metadata": {
    "ExecuteTime": {
     "end_time": "2025-06-09T18:50:43.665005Z",
     "start_time": "2025-06-09T18:50:43.656509Z"
    }
   },
   "cell_type": "code",
   "source": [
    "for i in range(5):\n",
    "    print(f\"Fingerprint {i+1} → {np.unique(dataset.X[i], return_counts=True)}\")\n"
   ],
   "id": "cabab255c8a11a5d",
   "execution_count": 24,
   "outputs": []
  },
  {
   "metadata": {},
   "cell_type": "markdown",
   "source": "You can check the generated fingerprints (Dataframe) using the following code:\n",
   "id": "22a68ec45a13c430"
  },
  {
   "metadata": {
    "ExecuteTime": {
     "end_time": "2025-06-09T18:45:35.487794Z",
     "start_time": "2025-06-09T18:45:35.426703Z"
    }
   },
   "cell_type": "code",
   "source": "dataframe = smiles_to_fingerprint(smiles_data=smiles, ids=ids, return_df=True)",
   "id": "3922c233adf646b1",
   "execution_count": 12,
   "outputs": []
  },
  {
   "metadata": {
    "ExecuteTime": {
     "end_time": "2025-06-09T18:49:43.190696Z",
     "start_time": "2025-06-09T18:49:43.143587Z"
    }
   },
   "cell_type": "code",
   "source": "dataframe",
   "id": "ea54d03266f36b97",
   "execution_count": 21,
   "outputs": []
  },
  {
   "metadata": {},
   "cell_type": "markdown",
   "source": "# .mgf -> Fingerprint",
   "id": "1830385dc441d892"
  },
  {
   "metadata": {
    "ExecuteTime": {
     "end_time": "2025-05-13T17:22:42.605297Z",
     "start_time": "2025-05-13T17:22:40.306168Z"
    }
   },
   "cell_type": "code",
   "source": [
    "from src.utils import *\n",
    "from src.mgf_tools.mgf_get import mgf_get_spectra\n",
    "import numpy as np"
   ],
   "id": "1232055211b6fc9a",
   "execution_count": 1,
   "outputs": []
  },
  {
   "metadata": {
    "ExecuteTime": {
     "end_time": "2025-05-13T17:22:42.616850Z",
     "start_time": "2025-05-13T17:22:42.609305Z"
    }
   },
   "cell_type": "code",
   "source": [
    "mgf_data = r\"/Users/carla/PycharmProjects/Mestrado/Transformer-Based-Models-for-Chemical-Fingerprint-Prediction/datasets/raw/cleaned_gnps_library.mgf\"\n",
    "\n",
    "path_check(mgf_data)"
   ],
   "id": "2ba547a390740d8a",
   "execution_count": 2,
   "outputs": []
  },
  {
   "metadata": {
    "ExecuteTime": {
     "end_time": "2025-05-13T17:24:09.585538Z",
     "start_time": "2025-05-13T17:22:46.844338Z"
    }
   },
   "cell_type": "code",
   "source": "data = mgf_get_spectra(mgf_data=mgf_data, num_spectra=10)",
   "id": "2d0ca8bedbf5748c",
   "execution_count": 3,
   "outputs": []
  },
  {
   "metadata": {
    "ExecuteTime": {
     "end_time": "2025-05-13T17:24:11.632449Z",
     "start_time": "2025-05-13T17:24:09.607242Z"
    }
   },
   "cell_type": "code",
   "source": [
    "mz_vocabs = np.arange(50, 2000, 0.1)\n",
    "\n",
    "mgf_deconvoluter(mgf_data=data, mz_vocabs=mz_vocabs ,min_num_peaks=2, max_num_peaks=100, noise_rmv_threshold=0.01, mass_error=0.01, log=True, plot=True)"
   ],
   "id": "448ed3ab9b7a9f8f",
   "execution_count": 4,
   "outputs": []
  }
 ],
 "metadata": {
  "kernelspec": {
   "display_name": "Python 3",
   "language": "python",
   "name": "python3"
  },
  "language_info": {
   "codemirror_mode": {
    "name": "ipython",
    "version": 2
   },
   "file_extension": ".py",
   "mimetype": "text/x-python",
   "name": "python",
   "nbconvert_exporter": "python",
   "pygments_lexer": "ipython2",
   "version": "2.7.6"
  }
 },
 "nbformat": 4,
 "nbformat_minor": 5
}

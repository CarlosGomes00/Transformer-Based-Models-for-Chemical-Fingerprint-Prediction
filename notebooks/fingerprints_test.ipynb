{
 "cells": [
  {
   "metadata": {},
   "cell_type": "markdown",
   "source": "# How to use the functions related to Fingerprints in the repository?",
   "id": "bbf63abeac5bec3e"
  },
  {
   "metadata": {},
   "cell_type": "markdown",
   "source": "# SMILES -> Fingerprint",
   "id": "80d0a9c8b2c84eeb"
  },
  {
   "metadata": {},
   "cell_type": "markdown",
   "source": "First, it's important to import some of the modules that have been built.\n",
   "id": "c48c2c3a0e81d732"
  },
  {
   "cell_type": "code",
   "id": "initial_id",
   "metadata": {
    "collapsed": true,
    "ExecuteTime": {
     "end_time": "2025-04-14T19:14:21.322033Z",
     "start_time": "2025-04-14T19:14:20.314525Z"
    }
   },
   "source": [
    "from src.utils import path_check\n",
    "from scripts.process_mgf import mgf_get_smiles\n",
    "from scripts.smiles_to_fingerprints import *\n",
    "\n",
    "import warnings\n",
    "warnings.filterwarnings(\"ignore\")"
   ],
   "execution_count": 1,
   "outputs": []
  },
  {
   "metadata": {},
   "cell_type": "markdown",
   "source": "And to have the data loaded, in this case a .mgf file.",
   "id": "ad53fb8a0103e4fa"
  },
  {
   "metadata": {
    "ExecuteTime": {
     "end_time": "2025-04-14T19:14:22.146519Z",
     "start_time": "2025-04-14T19:14:22.142267Z"
    }
   },
   "cell_type": "code",
   "source": [
    "mgf_data = r\"/Users/carla/PycharmProjects/Mestrado/Transformer-Based-Models-for-Chemical-Fingerprint-Prediction/data/raw/cleaned_gnps_library.mgf\"\n",
    "\n",
    "path_check(mgf_data)"
   ],
   "id": "c9ae0b68efa2330d",
   "execution_count": 2,
   "outputs": []
  },
  {
   "metadata": {},
   "cell_type": "markdown",
   "source": "Once the data has been loaded, use the following function to obtain the molecules SMILES.",
   "id": "e328e375e9c67282"
  },
  {
   "metadata": {
    "ExecuteTime": {
     "end_time": "2025-04-14T19:15:14.044542Z",
     "start_time": "2025-04-14T19:14:24.891480Z"
    }
   },
   "cell_type": "code",
   "source": "data = mgf_get_smiles(mgf_data, num_spectra=25)",
   "id": "d44e3bb812c2cb14",
   "execution_count": 3,
   "outputs": []
  },
  {
   "metadata": {},
   "cell_type": "markdown",
   "source": "Once you have your pd.DataFrame, you can generate the Fingerprints for the SMILES using the following function",
   "id": "7925978a415f8bb3"
  },
  {
   "metadata": {
    "ExecuteTime": {
     "end_time": "2025-04-14T19:15:14.197639Z",
     "start_time": "2025-04-14T19:15:14.045646Z"
    }
   },
   "cell_type": "code",
   "source": "smiles_to_fingerprint(smiles=data)",
   "id": "98e0efbb1148384e",
   "execution_count": 4,
   "outputs": []
  },
  {
   "metadata": {},
   "cell_type": "markdown",
   "source": "# .mgf -> Fingerprint",
   "id": "1830385dc441d892"
  },
  {
   "metadata": {
    "ExecuteTime": {
     "end_time": "2025-05-13T17:22:42.605297Z",
     "start_time": "2025-05-13T17:22:40.306168Z"
    }
   },
   "cell_type": "code",
   "source": [
    "from src.utils import *\n",
    "from scripts.ms_to_fingerprints import mgf_deconvoluter\n",
    "from scripts.process_mgf import *\n",
    "import numpy as np"
   ],
   "id": "1232055211b6fc9a",
   "execution_count": 1,
   "outputs": []
  },
  {
   "metadata": {
    "ExecuteTime": {
     "end_time": "2025-05-13T17:22:42.616850Z",
     "start_time": "2025-05-13T17:22:42.609305Z"
    }
   },
   "cell_type": "code",
   "source": [
    "mgf_data = r\"/Users/carla/PycharmProjects/Mestrado/Transformer-Based-Models-for-Chemical-Fingerprint-Prediction/data/raw/cleaned_gnps_library.mgf\"\n",
    "\n",
    "path_check(mgf_data)"
   ],
   "id": "2ba547a390740d8a",
   "execution_count": 2,
   "outputs": []
  },
  {
   "metadata": {
    "ExecuteTime": {
     "end_time": "2025-05-13T17:24:09.585538Z",
     "start_time": "2025-05-13T17:22:46.844338Z"
    }
   },
   "cell_type": "code",
   "source": "data = mgf_get_spectra(mgf_data=mgf_data, num_spectra=10)",
   "id": "2d0ca8bedbf5748c",
   "execution_count": 3,
   "outputs": []
  },
  {
   "metadata": {
    "ExecuteTime": {
     "end_time": "2025-05-13T17:24:11.632449Z",
     "start_time": "2025-05-13T17:24:09.607242Z"
    }
   },
   "cell_type": "code",
   "source": [
    "mz_vocabs = np.arange(50, 2000, 0.1)\n",
    "\n",
    "mgf_deconvoluter(mgf_data=data, mz_vocabs=mz_vocabs ,min_num_peaks=2, max_num_peaks=100, noise_rmv_threshold=0.01, mass_error=0.01, log=True, plot=True)"
   ],
   "id": "448ed3ab9b7a9f8f",
   "execution_count": 4,
   "outputs": []
  }
 ],
 "metadata": {
  "kernelspec": {
   "display_name": "Python 3",
   "language": "python",
   "name": "python3"
  },
  "language_info": {
   "codemirror_mode": {
    "name": "ipython",
    "version": 2
   },
   "file_extension": ".py",
   "mimetype": "text/x-python",
   "name": "python",
   "nbconvert_exporter": "python",
   "pygments_lexer": "ipython2",
   "version": "2.7.6"
  }
 },
 "nbformat": 4,
 "nbformat_minor": 5
}

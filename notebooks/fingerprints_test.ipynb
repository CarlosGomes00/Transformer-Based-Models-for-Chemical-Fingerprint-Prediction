{
 "cells": [
  {
   "metadata": {},
   "cell_type": "markdown",
   "source": "# How to use the functions related to Fingerprints in the repository?",
   "id": "bbf63abeac5bec3e"
  },
  {
   "metadata": {},
   "cell_type": "markdown",
   "source": "# SMILES -> Fingerprint",
   "id": "80d0a9c8b2c84eeb"
  },
  {
   "metadata": {},
   "cell_type": "markdown",
   "source": "First, it's important to import some of the modules that have been built.\n",
   "id": "c48c2c3a0e81d732"
  },
  {
   "cell_type": "code",
   "id": "initial_id",
   "metadata": {
    "collapsed": true,
    "ExecuteTime": {
     "end_time": "2025-06-02T18:05:22.000360Z",
     "start_time": "2025-06-02T18:05:21.996535Z"
    }
   },
   "source": [
    "from src.utils import path_check\n",
    "from scripts.process_mgf import mgf_get_smiles, mgf_get_spectra\n",
    "from scripts.smiles_to_fingerprints import *\n",
    "\n",
    "import warnings\n",
    "warnings.filterwarnings(\"ignore\")"
   ],
   "outputs": [],
   "execution_count": 3
  },
  {
   "metadata": {},
   "cell_type": "markdown",
   "source": "And to have the data loaded, in this case a .mgf file.",
   "id": "ad53fb8a0103e4fa"
  },
  {
   "metadata": {
    "ExecuteTime": {
     "end_time": "2025-06-02T18:04:38.934738Z",
     "start_time": "2025-06-02T18:04:38.930346Z"
    }
   },
   "cell_type": "code",
   "source": [
    "mgf_data = r\"/Users/carla/PycharmProjects/Mestrado/Transformer-Based-Models-for-Chemical-Fingerprint-Prediction/data/raw/cleaned_gnps_library.mgf\"\n",
    "\n",
    "path_check(mgf_data)"
   ],
   "id": "c9ae0b68efa2330d",
   "outputs": [
    {
     "name": "stdout",
     "output_type": "stream",
     "text": [
      "File found!\n"
     ]
    }
   ],
   "execution_count": 2
  },
  {
   "metadata": {},
   "cell_type": "markdown",
   "source": "Once the data has been loaded, use the following function to obtain the molecules SMILES.",
   "id": "e328e375e9c67282"
  },
  {
   "metadata": {
    "ExecuteTime": {
     "end_time": "2025-06-02T18:12:35.979777Z",
     "start_time": "2025-06-02T18:10:57.089639Z"
    }
   },
   "cell_type": "code",
   "source": "spectra = mgf_get_spectra(mgf_data)",
   "id": "be50b1e4797e23cc",
   "outputs": [],
   "execution_count": 6
  },
  {
   "metadata": {
    "ExecuteTime": {
     "end_time": "2025-06-02T18:12:36.599188Z",
     "start_time": "2025-06-02T18:12:35.982407Z"
    }
   },
   "cell_type": "code",
   "source": "mgf_get_smiles(spectra, as_dataframe=True)",
   "id": "d44e3bb812c2cb14",
   "outputs": [
    {
     "data": {
      "text/plain": [
       "                        id                                             smiles\n",
       "0       CCMSLIB00000001547  CC(C)CC1NC(=O)C(C)NC(=O)C(=C)N(C)C(=O)CCC(NC(=...\n",
       "1       CCMSLIB00000001552  C[C@H]1[C@@H](OC(C2=CSC([C@H](C(C)(OC(C3=CSC([...\n",
       "2       CCMSLIB00000001554  C[C@H]1C(=O)N[C@H](C(=O)N[C@H](C(=O)N([C@H](C(...\n",
       "3       CCMSLIB00000001555  C[C@H]1[C@H](CCCC(C)(Cl)Cl)OC(=O)C2=CSC(=N2)[C...\n",
       "4       CCMSLIB00000001556  C[C@H]1C(=O)N[C@H](C(=O)N[C@H](C(=O)N([C@H](C(...\n",
       "...                    ...                                                ...\n",
       "459421  CCMSLIB00006126839                                 CCCCCC(=O)NCC(=O)O\n",
       "459422  CCMSLIB00006126840                                 CCCCCC(=O)NCC(=O)O\n",
       "459423  CCMSLIB00006126841                                 CCCCCC(=O)NCC(=O)O\n",
       "459424  CCMSLIB00006126842                                 CCCCCC(=O)NCC(=O)O\n",
       "459425  CCMSLIB00006126843                                 CCCCCC(=O)NCC(=O)O\n",
       "\n",
       "[459426 rows x 2 columns]"
      ],
      "text/html": [
       "<div>\n",
       "<style scoped>\n",
       "    .dataframe tbody tr th:only-of-type {\n",
       "        vertical-align: middle;\n",
       "    }\n",
       "\n",
       "    .dataframe tbody tr th {\n",
       "        vertical-align: top;\n",
       "    }\n",
       "\n",
       "    .dataframe thead th {\n",
       "        text-align: right;\n",
       "    }\n",
       "</style>\n",
       "<table border=\"1\" class=\"dataframe\">\n",
       "  <thead>\n",
       "    <tr style=\"text-align: right;\">\n",
       "      <th></th>\n",
       "      <th>id</th>\n",
       "      <th>smiles</th>\n",
       "    </tr>\n",
       "  </thead>\n",
       "  <tbody>\n",
       "    <tr>\n",
       "      <th>0</th>\n",
       "      <td>CCMSLIB00000001547</td>\n",
       "      <td>CC(C)CC1NC(=O)C(C)NC(=O)C(=C)N(C)C(=O)CCC(NC(=...</td>\n",
       "    </tr>\n",
       "    <tr>\n",
       "      <th>1</th>\n",
       "      <td>CCMSLIB00000001552</td>\n",
       "      <td>C[C@H]1[C@@H](OC(C2=CSC([C@H](C(C)(OC(C3=CSC([...</td>\n",
       "    </tr>\n",
       "    <tr>\n",
       "      <th>2</th>\n",
       "      <td>CCMSLIB00000001554</td>\n",
       "      <td>C[C@H]1C(=O)N[C@H](C(=O)N[C@H](C(=O)N([C@H](C(...</td>\n",
       "    </tr>\n",
       "    <tr>\n",
       "      <th>3</th>\n",
       "      <td>CCMSLIB00000001555</td>\n",
       "      <td>C[C@H]1[C@H](CCCC(C)(Cl)Cl)OC(=O)C2=CSC(=N2)[C...</td>\n",
       "    </tr>\n",
       "    <tr>\n",
       "      <th>4</th>\n",
       "      <td>CCMSLIB00000001556</td>\n",
       "      <td>C[C@H]1C(=O)N[C@H](C(=O)N[C@H](C(=O)N([C@H](C(...</td>\n",
       "    </tr>\n",
       "    <tr>\n",
       "      <th>...</th>\n",
       "      <td>...</td>\n",
       "      <td>...</td>\n",
       "    </tr>\n",
       "    <tr>\n",
       "      <th>459421</th>\n",
       "      <td>CCMSLIB00006126839</td>\n",
       "      <td>CCCCCC(=O)NCC(=O)O</td>\n",
       "    </tr>\n",
       "    <tr>\n",
       "      <th>459422</th>\n",
       "      <td>CCMSLIB00006126840</td>\n",
       "      <td>CCCCCC(=O)NCC(=O)O</td>\n",
       "    </tr>\n",
       "    <tr>\n",
       "      <th>459423</th>\n",
       "      <td>CCMSLIB00006126841</td>\n",
       "      <td>CCCCCC(=O)NCC(=O)O</td>\n",
       "    </tr>\n",
       "    <tr>\n",
       "      <th>459424</th>\n",
       "      <td>CCMSLIB00006126842</td>\n",
       "      <td>CCCCCC(=O)NCC(=O)O</td>\n",
       "    </tr>\n",
       "    <tr>\n",
       "      <th>459425</th>\n",
       "      <td>CCMSLIB00006126843</td>\n",
       "      <td>CCCCCC(=O)NCC(=O)O</td>\n",
       "    </tr>\n",
       "  </tbody>\n",
       "</table>\n",
       "<p>459426 rows × 2 columns</p>\n",
       "</div>"
      ]
     },
     "execution_count": 7,
     "metadata": {},
     "output_type": "execute_result"
    }
   ],
   "execution_count": 7
  },
  {
   "metadata": {},
   "cell_type": "markdown",
   "source": "Once you have your pd.DataFrame, you can generate the Fingerprints for the SMILES using the following function",
   "id": "7925978a415f8bb3"
  },
  {
   "metadata": {
    "ExecuteTime": {
     "end_time": "2025-04-14T19:15:14.197639Z",
     "start_time": "2025-04-14T19:15:14.045646Z"
    }
   },
   "cell_type": "code",
   "source": "smiles_to_fingerprint(smiles=data)",
   "id": "98e0efbb1148384e",
   "execution_count": 4,
   "outputs": []
  },
  {
   "metadata": {},
   "cell_type": "markdown",
   "source": "# .mgf -> Fingerprint",
   "id": "1830385dc441d892"
  },
  {
   "metadata": {
    "ExecuteTime": {
     "end_time": "2025-05-13T17:22:42.605297Z",
     "start_time": "2025-05-13T17:22:40.306168Z"
    }
   },
   "cell_type": "code",
   "source": [
    "from src.utils import *\n",
    "from scripts.ms_to_fingerprints import mgf_deconvoluter\n",
    "from scripts.process_mgf import *\n",
    "import numpy as np"
   ],
   "id": "1232055211b6fc9a",
   "execution_count": 1,
   "outputs": []
  },
  {
   "metadata": {
    "ExecuteTime": {
     "end_time": "2025-05-13T17:22:42.616850Z",
     "start_time": "2025-05-13T17:22:42.609305Z"
    }
   },
   "cell_type": "code",
   "source": [
    "mgf_data = r\"/Users/carla/PycharmProjects/Mestrado/Transformer-Based-Models-for-Chemical-Fingerprint-Prediction/data/raw/cleaned_gnps_library.mgf\"\n",
    "\n",
    "path_check(mgf_data)"
   ],
   "id": "2ba547a390740d8a",
   "execution_count": 2,
   "outputs": []
  },
  {
   "metadata": {
    "ExecuteTime": {
     "end_time": "2025-05-13T17:24:09.585538Z",
     "start_time": "2025-05-13T17:22:46.844338Z"
    }
   },
   "cell_type": "code",
   "source": "data = mgf_get_spectra(mgf_data=mgf_data, num_spectra=10)",
   "id": "2d0ca8bedbf5748c",
   "execution_count": 3,
   "outputs": []
  },
  {
   "metadata": {
    "ExecuteTime": {
     "end_time": "2025-05-13T17:24:11.632449Z",
     "start_time": "2025-05-13T17:24:09.607242Z"
    }
   },
   "cell_type": "code",
   "source": [
    "mz_vocabs = np.arange(50, 2000, 0.1)\n",
    "\n",
    "mgf_deconvoluter(mgf_data=data, mz_vocabs=mz_vocabs ,min_num_peaks=2, max_num_peaks=100, noise_rmv_threshold=0.01, mass_error=0.01, log=True, plot=True)"
   ],
   "id": "448ed3ab9b7a9f8f",
   "execution_count": 4,
   "outputs": []
  }
 ],
 "metadata": {
  "kernelspec": {
   "display_name": "Python 3",
   "language": "python",
   "name": "python3"
  },
  "language_info": {
   "codemirror_mode": {
    "name": "ipython",
    "version": 2
   },
   "file_extension": ".py",
   "mimetype": "text/x-python",
   "name": "python",
   "nbconvert_exporter": "python",
   "pygments_lexer": "ipython2",
   "version": "2.7.6"
  }
 },
 "nbformat": 4,
 "nbformat_minor": 5
}

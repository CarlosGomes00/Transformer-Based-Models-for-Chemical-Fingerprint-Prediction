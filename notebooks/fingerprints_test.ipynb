{
 "cells": [
  {
   "metadata": {},
   "cell_type": "markdown",
   "source": "# How to use the functions related to Fingerprints in the repository?",
   "id": "bbf63abeac5bec3e"
  },
  {
   "metadata": {},
   "cell_type": "markdown",
   "source": "# SMILES -> Fingerprint",
   "id": "80d0a9c8b2c84eeb"
  },
  {
   "metadata": {},
   "cell_type": "markdown",
   "source": "First, it's important to import some of the modules that have been built.\n",
   "id": "c48c2c3a0e81d732"
  },
  {
   "cell_type": "code",
   "id": "initial_id",
   "metadata": {
    "collapsed": true,
    "ExecuteTime": {
     "end_time": "2025-06-09T23:26:58.905885Z",
     "start_time": "2025-06-09T23:26:36.046588Z"
    }
   },
   "source": [
    "from src.utils import path_check\n",
    "from src.mgf_tools.mgf_get import mgf_get_smiles, mgf_get_spectra\n",
    "from fingerprints_tools.fingerprint_generator import *\n",
    "\n",
    "import warnings\n",
    "warnings.filterwarnings(\"ignore\")"
   ],
   "outputs": [
    {
     "name": "stderr",
     "output_type": "stream",
     "text": [
      "No normalization for SPS. Feature removed!\n",
      "No normalization for AvgIpc. Feature removed!\n"
     ]
    },
    {
     "name": "stdout",
     "output_type": "stream",
     "text": [
      "WARNING:tensorflow:From C:\\Users\\carla\\miniconda3\\envs\\tese_d\\Lib\\site-packages\\keras\\src\\losses.py:2976: The name tf.losses.sparse_softmax_cross_entropy is deprecated. Please use tf.compat.v1.losses.sparse_softmax_cross_entropy instead.\n",
      "\n",
      "WARNING:tensorflow:From C:\\Users\\carla\\miniconda3\\envs\\tese_d\\Lib\\site-packages\\tensorflow\\python\\util\\deprecation.py:588: calling function (from tensorflow.python.eager.polymorphic_function.polymorphic_function) with experimental_relax_shapes is deprecated and will be removed in a future version.\n",
      "Instructions for updating:\n",
      "experimental_relax_shapes is deprecated, use reduce_retracing instead\n"
     ]
    },
    {
     "name": "stderr",
     "output_type": "stream",
     "text": [
      "Skipped loading modules with transformers dependency. No module named 'transformers'\n",
      "cannot import name 'HuggingFaceModel' from 'deepchem.models.torch_models' (C:\\Users\\carla\\miniconda3\\envs\\tese_d\\Lib\\site-packages\\deepchem\\models\\torch_models\\__init__.py)\n",
      "Skipped loading modules with pytorch-lightning dependency, missing a dependency. No module named 'lightning'\n",
      "Skipped loading some Jax models, missing a dependency. No module named 'jax'\n",
      "C:\\Users\\carla\\miniconda3\\envs\\tese_d\\Lib\\site-packages\\deepmol\\compound_featurization\\__init__.py:20: UserWarning: Mol2Vec not available. Please install it to use it. (pip install git+https://github.com/samoturk/mol2vec#egg=mol2vec)\n",
      "  warnings.warn(\"Mol2Vec not available. Please install it to use it. \"\n"
     ]
    }
   ],
   "execution_count": 1
  },
  {
   "metadata": {},
   "cell_type": "markdown",
   "source": "And to have the data loaded, in this case a .mgf file.",
   "id": "ad53fb8a0103e4fa"
  },
  {
   "metadata": {
    "ExecuteTime": {
     "end_time": "2025-06-09T23:26:58.916399Z",
     "start_time": "2025-06-09T23:26:58.909904Z"
    }
   },
   "cell_type": "code",
   "source": [
    "mgf_data = r\"/Users/carla/PycharmProjects/Mestrado/Transformer-Based-Models-for-Chemical-Fingerprint-Prediction/datasets/raw/cleaned_gnps_library.mgf\"\n",
    "\n",
    "path_check(mgf_data)"
   ],
   "id": "c9ae0b68efa2330d",
   "outputs": [
    {
     "name": "stdout",
     "output_type": "stream",
     "text": [
      "File found!\n"
     ]
    }
   ],
   "execution_count": 2
  },
  {
   "metadata": {
    "ExecuteTime": {
     "start_time": "2025-06-09T23:26:58.917407Z"
    }
   },
   "cell_type": "code",
   "source": "spectra = mgf_get_spectra(mgf_data, num_spectra=1)",
   "id": "be50b1e4797e23cc",
   "outputs": [],
   "execution_count": null
  },
  {
   "metadata": {},
   "cell_type": "markdown",
   "source": "Once the data has been loaded, use the following function to obtain the molecules SMILES.",
   "id": "e328e375e9c67282"
  },
  {
   "metadata": {
    "ExecuteTime": {
     "end_time": "2025-06-09T18:26:12.340247Z",
     "start_time": "2025-06-09T18:26:12.334402Z"
    }
   },
   "cell_type": "code",
   "source": "smiles_data = mgf_get_smiles(spectra)",
   "id": "d44e3bb812c2cb14",
   "outputs": [],
   "execution_count": 4
  },
  {
   "metadata": {},
   "cell_type": "markdown",
   "source": "Once you have the data loaded, you can generate the Fingerprints for the SMILES using the following steps",
   "id": "7925978a415f8bb3"
  },
  {
   "metadata": {
    "ExecuteTime": {
     "end_time": "2025-06-09T18:26:12.361413Z",
     "start_time": "2025-06-09T18:26:12.346132Z"
    }
   },
   "cell_type": "code",
   "source": [
    "smiles = smiles_data['smiles']\n",
    "ids = smiles_data['id']\n"
   ],
   "id": "492c23af17e5a2a0",
   "outputs": [],
   "execution_count": 5
  },
  {
   "metadata": {
    "ExecuteTime": {
     "end_time": "2025-06-09T18:28:01.402517Z",
     "start_time": "2025-06-09T18:28:01.352843Z"
    }
   },
   "cell_type": "code",
   "source": "dataset = smiles_to_fingerprint(smiles_data=smiles, ids=ids)",
   "id": "98e0efbb1148384e",
   "outputs": [
    {
     "name": "stderr",
     "output_type": "stream",
     "text": [
      "MorganFingerprint: 100%|██████████| 10/10 [00:00<00:00, 349.74it/s]\n"
     ]
    }
   ],
   "execution_count": 8
  },
  {
   "metadata": {},
   "cell_type": "markdown",
   "source": [
    "In this way, you have obtained Morgan Fingerprints generated from Deepmol.\n",
    "\n",
    "You can check the generated fingerprints (Smiles dataset by DeepMol) using the following code:"
   ],
   "id": "91e43a07c6f7f516"
  },
  {
   "metadata": {
    "ExecuteTime": {
     "end_time": "2025-06-09T18:28:03.802649Z",
     "start_time": "2025-06-09T18:28:03.794949Z"
    }
   },
   "cell_type": "code",
   "source": "dataset.X[0]",
   "id": "bb90db5b3d610284",
   "outputs": [
    {
     "data": {
      "text/plain": [
       "array([0., 1., 0., ..., 0., 0., 0.])"
      ]
     },
     "execution_count": 9,
     "metadata": {},
     "output_type": "execute_result"
    }
   ],
   "execution_count": 9
  },
  {
   "metadata": {
    "ExecuteTime": {
     "end_time": "2025-06-09T18:31:45.670773Z",
     "start_time": "2025-06-09T18:31:45.662330Z"
    }
   },
   "cell_type": "code",
   "source": "np.unique(dataset.X[0], return_counts=True)",
   "id": "b2c37dab5e16b2f",
   "outputs": [
    {
     "data": {
      "text/plain": [
       "(array([0., 1.]), array([1950,   98], dtype=int64))"
      ]
     },
     "execution_count": 10,
     "metadata": {},
     "output_type": "execute_result"
    }
   ],
   "execution_count": 10
  },
  {
   "metadata": {
    "ExecuteTime": {
     "end_time": "2025-06-09T18:50:43.665005Z",
     "start_time": "2025-06-09T18:50:43.656509Z"
    }
   },
   "cell_type": "code",
   "source": [
    "for i in range(5):\n",
    "    print(f\"Fingerprint {i+1} → {np.unique(dataset.X[i], return_counts=True)}\")\n"
   ],
   "id": "cabab255c8a11a5d",
   "outputs": [
    {
     "name": "stdout",
     "output_type": "stream",
     "text": [
      "Fingerprint 1 → (array([0., 1.]), array([1950,   98], dtype=int64))\n",
      "Fingerprint 2 → (array([0., 1.]), array([1979,   69], dtype=int64))\n",
      "Fingerprint 3 → (array([0., 1.]), array([1955,   93], dtype=int64))\n",
      "Fingerprint 4 → (array([0., 1.]), array([1981,   67], dtype=int64))\n",
      "Fingerprint 5 → (array([0., 1.]), array([1955,   93], dtype=int64))\n"
     ]
    }
   ],
   "execution_count": 24
  },
  {
   "metadata": {},
   "cell_type": "markdown",
   "source": "You can check the generated fingerprints (Dataframe) using the following code:\n",
   "id": "22a68ec45a13c430"
  },
  {
   "metadata": {
    "ExecuteTime": {
     "end_time": "2025-06-09T18:45:35.487794Z",
     "start_time": "2025-06-09T18:45:35.426703Z"
    }
   },
   "cell_type": "code",
   "source": "dataframe = smiles_to_fingerprint(smiles_data=smiles, ids=ids, return_df=True)",
   "id": "3922c233adf646b1",
   "outputs": [
    {
     "name": "stderr",
     "output_type": "stream",
     "text": [
      "MorganFingerprint: 100%|██████████| 10/10 [00:00<00:00, 345.18it/s]\n"
     ]
    }
   ],
   "execution_count": 12
  },
  {
   "metadata": {
    "ExecuteTime": {
     "end_time": "2025-06-09T18:49:43.190696Z",
     "start_time": "2025-06-09T18:49:43.143587Z"
    }
   },
   "cell_type": "code",
   "source": "dataframe",
   "id": "ea54d03266f36b97",
   "outputs": [
    {
     "data": {
      "text/plain": [
       "(<deepmol.datasets.datasets.SmilesDataset at 0x1caf7329850>,\n",
       "           spectrum_id  0  1  2  3  4  5  6  7  8  ...  2038  2039  2040  2041   \n",
       " 0  CCMSLIB00000001547  0  1  0  0  0  0  0  0  0  ...     0     0     0     0  \\\n",
       " 1  CCMSLIB00000001552  0  0  0  0  0  0  0  1  0  ...     0     0     0     0   \n",
       " 2  CCMSLIB00000001554  0  1  0  0  0  1  0  0  0  ...     0     0     0     0   \n",
       " 3  CCMSLIB00000001555  0  0  0  0  0  0  0  1  0  ...     0     0     0     0   \n",
       " 4  CCMSLIB00000001556  0  1  0  0  0  1  0  0  0  ...     0     0     0     0   \n",
       " 5  CCMSLIB00000001558  0  0  0  0  0  0  0  1  0  ...     0     0     0     0   \n",
       " 6  CCMSLIB00000001563  0  1  0  0  0  1  0  1  0  ...     0     0     0     0   \n",
       " 7  CCMSLIB00000001566  0  1  0  0  0  1  0  1  0  ...     0     0     0     0   \n",
       " 8  CCMSLIB00000001568  0  1  0  0  0  0  0  0  0  ...     0     0     0     0   \n",
       " 9  CCMSLIB00000001570  0  1  0  0  0  0  0  0  0  ...     0     0     0     0   \n",
       " \n",
       "    2042  2043  2044  2045  2046  2047  \n",
       " 0     0     0     0     0     0     0  \n",
       " 1     0     0     0     0     0     0  \n",
       " 2     0     0     0     0     0     0  \n",
       " 3     0     0     0     0     0     0  \n",
       " 4     0     0     0     0     0     0  \n",
       " 5     0     0     0     0     0     0  \n",
       " 6     0     0     0     0     0     0  \n",
       " 7     0     0     0     0     0     0  \n",
       " 8     0     0     0     0     0     0  \n",
       " 9     0     0     0     0     0     0  \n",
       " \n",
       " [10 rows x 2049 columns])"
      ]
     },
     "execution_count": 21,
     "metadata": {},
     "output_type": "execute_result"
    }
   ],
   "execution_count": 21
  },
  {
   "metadata": {},
   "cell_type": "markdown",
   "source": "# .mgf -> Fingerprint",
   "id": "1830385dc441d892"
  },
  {
   "metadata": {
    "ExecuteTime": {
     "end_time": "2025-05-13T17:22:42.605297Z",
     "start_time": "2025-05-13T17:22:40.306168Z"
    }
   },
   "cell_type": "code",
   "source": [
    "from src.utils import *\n",
    "from src.mgf_tools.mgf_get import mgf_get_spectra\n",
    "import numpy as np"
   ],
   "id": "1232055211b6fc9a",
   "execution_count": 1,
   "outputs": []
  },
  {
   "metadata": {
    "ExecuteTime": {
     "end_time": "2025-05-13T17:22:42.616850Z",
     "start_time": "2025-05-13T17:22:42.609305Z"
    }
   },
   "cell_type": "code",
   "source": [
    "mgf_data = r\"/Users/carla/PycharmProjects/Mestrado/Transformer-Based-Models-for-Chemical-Fingerprint-Prediction/datasets/raw/cleaned_gnps_library.mgf\"\n",
    "\n",
    "path_check(mgf_data)"
   ],
   "id": "2ba547a390740d8a",
   "execution_count": 2,
   "outputs": []
  },
  {
   "metadata": {
    "ExecuteTime": {
     "end_time": "2025-05-13T17:24:09.585538Z",
     "start_time": "2025-05-13T17:22:46.844338Z"
    }
   },
   "cell_type": "code",
   "source": "data = mgf_get_spectra(mgf_data=mgf_data, num_spectra=10)",
   "id": "2d0ca8bedbf5748c",
   "execution_count": 3,
   "outputs": []
  },
  {
   "metadata": {
    "ExecuteTime": {
     "end_time": "2025-05-13T17:24:11.632449Z",
     "start_time": "2025-05-13T17:24:09.607242Z"
    }
   },
   "cell_type": "code",
   "source": [
    "mz_vocabs = np.arange(50, 2000, 0.1)\n",
    "\n",
    "mgf_deconvoluter(mgf_data=data, mz_vocabs=mz_vocabs ,min_num_peaks=2, max_num_peaks=100, noise_rmv_threshold=0.01, mass_error=0.01, log=True, plot=True)"
   ],
   "id": "448ed3ab9b7a9f8f",
   "execution_count": 4,
   "outputs": []
  }
 ],
 "metadata": {
  "kernelspec": {
   "display_name": "Python 3",
   "language": "python",
   "name": "python3"
  },
  "language_info": {
   "codemirror_mode": {
    "name": "ipython",
    "version": 2
   },
   "file_extension": ".py",
   "mimetype": "text/x-python",
   "name": "python",
   "nbconvert_exporter": "python",
   "pygments_lexer": "ipython2",
   "version": "2.7.6"
  }
 },
 "nbformat": 4,
 "nbformat_minor": 5
}

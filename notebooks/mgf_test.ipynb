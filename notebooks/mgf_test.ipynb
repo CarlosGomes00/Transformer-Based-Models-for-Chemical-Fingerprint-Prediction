{
 "cells": [
  {
   "cell_type": "code",
   "id": "initial_id",
   "metadata": {
    "collapsed": true,
    "ExecuteTime": {
     "end_time": "2025-03-31T21:56:49.974765Z",
     "start_time": "2025-03-31T21:56:48.791445Z"
    }
   },
   "source": [
    "from src.utils import path_check\n",
    "from scripts.process_mgf import *\n",
    "from scripts.plot_mgf import *\n"
   ],
   "outputs": [],
   "execution_count": 1
  },
  {
   "metadata": {},
   "cell_type": "markdown",
   "source": "",
   "id": "95e9505ced1c9dc4"
  },
  {
   "metadata": {
    "ExecuteTime": {
     "end_time": "2025-03-31T21:56:50.423031Z",
     "start_time": "2025-03-31T21:56:50.418916Z"
    }
   },
   "cell_type": "code",
   "source": [
    "# Teste da função para verificar o PATH\n",
    "\n",
    "mgf_data = r\"/Users/carla/PycharmProjects/Mestrado/Transformer-Based-Models-for-Chemical-Fingerprint-Prediction/data/raw/cleaned_gnps_library.mgf\"\n",
    "\n",
    "path_check(mgf_data)"
   ],
   "id": "226796b51c299983",
   "outputs": [
    {
     "name": "stdout",
     "output_type": "stream",
     "text": [
      "File found!\n"
     ]
    }
   ],
   "execution_count": 2
  },
  {
   "metadata": {
    "ExecuteTime": {
     "end_time": "2025-03-31T21:57:05.686036Z",
     "start_time": "2025-03-31T21:56:53.138339Z"
    }
   },
   "cell_type": "code",
   "source": [
    "# Teste da função para ler o header dos espetros\n",
    "\n",
    "mgf_read_headers(mgf_data=mgf_data, num_spectra=3)"
   ],
   "id": "9fb9bdd4fc5d0e41",
   "outputs": [
    {
     "name": "stdout",
     "output_type": "stream",
     "text": [
      "Spectrum 1 - Parameters:\n",
      "{'charge': [-1], 'ionmode': 'negative', 'smiles': 'C[C@@H]1C[C@H]2[C@@H]3CCC4=CC(=O)C=C[C@@]4([C@]3([C@H](C[C@@]2([C@]1(C(=O)CO)O)C)O)F)C', 'scans': '1', 'ms_level': '2', 'instrument_type': 'ESI-Orbitrap', 'file_name': 'birmingham_neg.mgf', 'peptide_sequence': '*..*', 'organism_name': 'BIRMINGHAM-UHPLC-MS-NEG', 'compound_name': 'Dexamethasone', 'principal_investigator': 'PI', 'data_collector': 'Data Collector', 'submit_user': 'mwang87', 'confidence': '1', 'spectrum_id': 'CCMSLIB00006112554', 'precursor_mz': '451.214', 'inchikey': 'UREBDLICKHMUKA-CXSFZGCWSA-N', 'inchi': 'InChI=1S/C22H29FO5/c1-12-8-16-15-5-4-13-9-14(25)6-7-19(13,2)21(15,23)17(26)10-20(16,3)22(12,28)18(27)11-24/h6-7,9,12,15-17,24,26,28H,4-5,8,10-11H2,1-3H3/t12-,15+,16+,17+,19+,20+,21+,22+/m1/s1', 'parent_mass': '392.19990224799994', 'adduct': '[M+CH3COO]-'}\n",
      "\n",
      "\n",
      "Spectrum 2 - Parameters:\n",
      "{'charge': [-1], 'ionmode': 'negative', 'smiles': 'C[C@@H]1C[C@H]2[C@@H]3CCC4=CC(=O)C=C[C@@]4([C@]3([C@H](C[C@@]2([C@]1(C(=O)CO)O)C)O)F)C', 'scans': '2', 'ms_level': '2', 'instrument_type': 'ESI-Orbitrap', 'file_name': 'birmingham_neg.mgf', 'peptide_sequence': '*..*', 'organism_name': 'BIRMINGHAM-UHPLC-MS-NEG', 'compound_name': 'Dexamethasone', 'principal_investigator': 'PI', 'data_collector': 'Data Collector', 'submit_user': 'mwang87', 'confidence': '1', 'spectrum_id': 'CCMSLIB00006112555', 'precursor_mz': '451.214', 'inchikey': 'UREBDLICKHMUKA-CXSFZGCWSA-N', 'inchi': 'InChI=1S/C22H29FO5/c1-12-8-16-15-5-4-13-9-14(25)6-7-19(13,2)21(15,23)17(26)10-20(16,3)22(12,28)18(27)11-24/h6-7,9,12,15-17,24,26,28H,4-5,8,10-11H2,1-3H3/t12-,15+,16+,17+,19+,20+,21+,22+/m1/s1', 'parent_mass': '392.19990224799994', 'adduct': '[M+CH3COO]-'}\n",
      "\n",
      "\n",
      "Spectrum 3 - Parameters:\n",
      "{'charge': [-1], 'ionmode': 'negative', 'smiles': 'C[C@@H]1C[C@H]2[C@@H]3CCC4=CC(=O)C=C[C@@]4([C@]3([C@H](C[C@@]2([C@]1(C(=O)CO)O)C)O)F)C', 'scans': '3', 'ms_level': '2', 'instrument_type': 'ESI-Orbitrap', 'file_name': 'birmingham_neg.mgf', 'peptide_sequence': '*..*', 'organism_name': 'BIRMINGHAM-UHPLC-MS-NEG', 'compound_name': 'Dexamethasone', 'principal_investigator': 'PI', 'data_collector': 'Data Collector', 'submit_user': 'mwang87', 'confidence': '1', 'spectrum_id': 'CCMSLIB00006112556', 'precursor_mz': '437.198', 'inchikey': 'UREBDLICKHMUKA-CXSFZGCWSA-N', 'inchi': 'InChI=1S/C22H29FO5/c1-12-8-16-15-5-4-13-9-14(25)6-7-19(13,2)21(15,23)17(26)10-20(16,3)22(12,28)18(27)11-24/h6-7,9,12,15-17,24,26,28H,4-5,8,10-11H2,1-3H3/t12-,15+,16+,17+,19+,20+,21+,22+/m1/s1', 'parent_mass': '392.19990224799994', 'adduct': '[M+FA-H]-'}\n",
      "\n",
      "\n"
     ]
    }
   ],
   "execution_count": 3
  },
  {
   "metadata": {
    "ExecuteTime": {
     "end_time": "2025-03-28T19:56:25.178874Z",
     "start_time": "2025-03-28T19:56:05.913670Z"
    }
   },
   "cell_type": "code",
   "source": [
    "# Teste da função que lê toda a informação dos espetros\n",
    "\n",
    "mgf_read_all(mgf_data=mgf_data, num_spectra=1)"
   ],
   "id": "e9029015ff1c87f7",
   "outputs": [
    {
     "name": "stdout",
     "output_type": "stream",
     "text": [
      "Spectrum 1 - Parameters:\n",
      "{'charge': [-1], 'ionmode': 'negative', 'smiles': 'C[C@@H]1C[C@H]2[C@@H]3CCC4=CC(=O)C=C[C@@]4([C@]3([C@H](C[C@@]2([C@]1(C(=O)CO)O)C)O)F)C', 'scans': '1', 'ms_level': '2', 'instrument_type': 'ESI-Orbitrap', 'file_name': 'birmingham_neg.mgf', 'peptide_sequence': '*..*', 'organism_name': 'BIRMINGHAM-UHPLC-MS-NEG', 'compound_name': 'Dexamethasone', 'principal_investigator': 'PI', 'data_collector': 'Data Collector', 'submit_user': 'mwang87', 'confidence': '1', 'spectrum_id': 'CCMSLIB00006112554', 'precursor_mz': '451.214', 'inchikey': 'UREBDLICKHMUKA-CXSFZGCWSA-N', 'inchi': 'InChI=1S/C22H29FO5/c1-12-8-16-15-5-4-13-9-14(25)6-7-19(13,2)21(15,23)17(26)10-20(16,3)22(12,28)18(27)11-24/h6-7,9,12,15-17,24,26,28H,4-5,8,10-11H2,1-3H3/t12-,15+,16+,17+,19+,20+,21+,22+/m1/s1', 'parent_mass': '392.19990224799994', 'adduct': '[M+CH3COO]-'}\n",
      "[ 57.975498  59.013699  63.378601  63.930199  74.825302  81.913803\n",
      "  83.0037    84.152298  99.044601 121.065804 123.045403 137.061096\n",
      " 149.060806 159.081802 161.061295 165.055801 169.065399 172.052597\n",
      " 173.060593 175.040497 176.047501 185.060196 186.068497 189.055298\n",
      " 189.091599 190.062805 191.071198 194.073196 201.289597 202.872894\n",
      " 203.071793 204.078903 210.172607 221.133102 222.0681   223.076599\n",
      " 236.122406 241.120605 247.111603 263.109314 264.113495 265.12381\n",
      " 274.100311 275.108887 277.087097 277.121002 279.10199  279.136902\n",
      " 289.124115 291.102692 292.110413 293.116486 305.117615 306.127594\n",
      " 307.133911 308.138702 310.121185 311.127197 311.165405 325.144714\n",
      " 326.148407 327.139587 341.173706 343.171295 345.151093 361.182404\n",
      " 362.185913 391.19101  435.073395]\n",
      "[0.00796492 0.02869403 0.00280203 0.0030087  0.0033754  0.00343218\n",
      " 0.00315384 0.0033621  0.00522059 0.01428904 0.00801251 0.00367863\n",
      " 0.01174011 0.0051155  0.00626549 0.01516626 0.00539951 0.01158362\n",
      " 0.01309802 0.00724248 0.01042911 0.00919283 0.02518402 0.00394694\n",
      " 0.00392117 0.01627964 0.00668618 0.00516025 0.00661998 0.00636758\n",
      " 0.00597607 0.01504117 0.00347837 0.00399707 0.01276773 0.01191015\n",
      " 0.00416498 0.00464476 0.00999302 0.00393378 0.00598899 0.0349372\n",
      " 0.00506638 0.00473637 0.04537697 0.0056868  0.01566959 0.00883644\n",
      " 0.01302122 0.04009282 0.22409895 0.0330059  0.00588643 0.00463867\n",
      " 0.30074667 0.02342067 0.08678349 0.00761663 0.01509899 0.25010243\n",
      " 0.01633138 0.01424751 0.0068889  0.01748473 0.0680545  1.\n",
      " 0.06729306 0.00838311 0.00382523]\n",
      "\n",
      "\n"
     ]
    }
   ],
   "execution_count": 6
  },
  {
   "metadata": {
    "ExecuteTime": {
     "end_time": "2025-03-31T21:57:53.896202Z",
     "start_time": "2025-03-31T21:57:05.692147Z"
    }
   },
   "cell_type": "code",
   "source": [
    "# Teste da função que recolhe toda a informação relativa aos espetros num formato útil (lista de dicionários)\n",
    "\n",
    "mgf_spect= mgf_get_spectra(mgf_data, num_spectra=3)"
   ],
   "id": "d8c730493ae21752",
   "outputs": [],
   "execution_count": 4
  },
  {
   "metadata": {
    "ExecuteTime": {
     "end_time": "2025-03-31T21:57:53.909394Z",
     "start_time": "2025-03-31T21:57:53.898208Z"
    }
   },
   "cell_type": "code",
   "source": [
    "# Verificar o tipo de dados da função anterior (Se dict, usar plot_spectrum; Se lis, usar plot spectra)\n",
    "\n",
    "type(mgf_spect)"
   ],
   "id": "2fdae9036e20614b",
   "outputs": [
    {
     "data": {
      "text/plain": [
       "list"
      ]
     },
     "execution_count": 5,
     "metadata": {},
     "output_type": "execute_result"
    }
   ],
   "execution_count": 5
  },
  {
   "metadata": {
    "ExecuteTime": {
     "end_time": "2025-03-28T20:13:49.322528Z",
     "start_time": "2025-03-28T20:13:48.921837Z"
    }
   },
   "cell_type": "code",
   "source": [
    "# Teste da função que dá plot a um espetro à escolha (só aceita dicionários)\n",
    "\n",
    "plot_spectrum(mgf_spect)"
   ],
   "id": "20f205587e4e43c7",
   "outputs": [
    {
     "data": {
      "text/plain": [
       "<Figure size 1000x500 with 1 Axes>"
      ],
      "image/png": "[encoded data removed]"
     },
     "metadata": {},
     "output_type": "display_data"
    }
   ],
   "execution_count": 12
  },
  {
   "metadata": {
    "ExecuteTime": {
     "end_time": "2025-03-31T21:58:39.839191Z",
     "start_time": "2025-03-31T21:58:39.480964Z"
    }
   },
   "cell_type": "code",
   "source": "plot_spectra(mgf_spect, save=1)",
   "id": "80ad8c0fad567672",
   "outputs": [
    {
     "name": "stdout",
     "output_type": "stream",
     "text": [
      "Plot saved as: \\plots\\CCMSLIB00006112554.jpg\n",
      "Plot saved as: \\plots\\CCMSLIB00006112555.jpg\n",
      "Plot saved as: \\plots\\CCMSLIB00006112556.jpg\n"
     ]
    }
   ],
   "execution_count": 7
  }
 ],
 "metadata": {
  "kernelspec": {
   "display_name": "Python 3",
   "language": "python",
   "name": "python3"
  },
  "language_info": {
   "codemirror_mode": {
    "name": "ipython",
    "version": 2
   },
   "file_extension": ".py",
   "mimetype": "text/x-python",
   "name": "python",
   "nbconvert_exporter": "python",
   "pygments_lexer": "ipython2",
   "version": "2.7.6"
  }
 },
 "nbformat": 4,
 "nbformat_minor": 5
}

{
 "cells": [
  {
   "cell_type": "code",
   "id": "initial_id",
   "metadata": {
    "collapsed": true,
    "ExecuteTime": {
     "end_time": "2025-04-04T17:44:28.331730Z",
     "start_time": "2025-04-04T17:44:26.604142Z"
    }
   },
   "source": [
    "from src.utils import path_check\n",
    "from scripts.process_mgf import *\n",
    "from scripts.plot_mgf import *\n"
   ],
   "outputs": [],
   "execution_count": 1
  },
  {
   "metadata": {},
   "cell_type": "markdown",
   "source": "",
   "id": "95e9505ced1c9dc4"
  },
  {
   "metadata": {
    "ExecuteTime": {
     "end_time": "2025-04-04T17:44:28.976065Z",
     "start_time": "2025-04-04T17:44:28.970428Z"
    }
   },
   "cell_type": "code",
   "source": [
    "# Teste da função para verificar o PATH\n",
    "\n",
    "mgf_data = r\"/Users/carla/PycharmProjects/Mestrado/Transformer-Based-Models-for-Chemical-Fingerprint-Prediction/data/raw/cleaned_gnps_library.mgf\"\n",
    "\n",
    "path_check(mgf_data)"
   ],
   "id": "226796b51c299983",
   "outputs": [
    {
     "name": "stdout",
     "output_type": "stream",
     "text": [
      "File found!\n"
     ]
    }
   ],
   "execution_count": 2
  },
  {
   "metadata": {
    "ExecuteTime": {
     "end_time": "2025-04-04T17:44:51.431704Z",
     "start_time": "2025-04-04T17:44:32.736933Z"
    }
   },
   "cell_type": "code",
   "source": [
    "# Teste da função para ler o header dos espetros\n",
    "\n",
    "mgf_read_headers(mgf_data=mgf_data, num_spectra=3)"
   ],
   "id": "9fb9bdd4fc5d0e41",
   "outputs": [
    {
     "name": "stdout",
     "output_type": "stream",
     "text": [
      "Spectrum 1 - Parameters:\n",
      "{'charge': [-1], 'ionmode': 'negative', 'smiles': 'C[C@@H]1C[C@H]2[C@@H]3CCC4=CC(=O)C=C[C@@]4([C@]3([C@H](C[C@@]2([C@]1(C(=O)CO)O)C)O)F)C', 'scans': '1', 'ms_level': '2', 'instrument_type': 'ESI-Orbitrap', 'file_name': 'birmingham_neg.mgf', 'peptide_sequence': '*..*', 'organism_name': 'BIRMINGHAM-UHPLC-MS-NEG', 'compound_name': 'Dexamethasone', 'principal_investigator': 'PI', 'data_collector': 'Data Collector', 'submit_user': 'mwang87', 'confidence': '1', 'spectrum_id': 'CCMSLIB00006112554', 'precursor_mz': '451.214', 'inchikey': 'UREBDLICKHMUKA-CXSFZGCWSA-N', 'inchi': 'InChI=1S/C22H29FO5/c1-12-8-16-15-5-4-13-9-14(25)6-7-19(13,2)21(15,23)17(26)10-20(16,3)22(12,28)18(27)11-24/h6-7,9,12,15-17,24,26,28H,4-5,8,10-11H2,1-3H3/t12-,15+,16+,17+,19+,20+,21+,22+/m1/s1', 'parent_mass': '392.19990224799994', 'adduct': '[M+CH3COO]-'}\n",
      "\n",
      "\n",
      "Spectrum 2 - Parameters:\n",
      "{'charge': [-1], 'ionmode': 'negative', 'smiles': 'C[C@@H]1C[C@H]2[C@@H]3CCC4=CC(=O)C=C[C@@]4([C@]3([C@H](C[C@@]2([C@]1(C(=O)CO)O)C)O)F)C', 'scans': '2', 'ms_level': '2', 'instrument_type': 'ESI-Orbitrap', 'file_name': 'birmingham_neg.mgf', 'peptide_sequence': '*..*', 'organism_name': 'BIRMINGHAM-UHPLC-MS-NEG', 'compound_name': 'Dexamethasone', 'principal_investigator': 'PI', 'data_collector': 'Data Collector', 'submit_user': 'mwang87', 'confidence': '1', 'spectrum_id': 'CCMSLIB00006112555', 'precursor_mz': '451.214', 'inchikey': 'UREBDLICKHMUKA-CXSFZGCWSA-N', 'inchi': 'InChI=1S/C22H29FO5/c1-12-8-16-15-5-4-13-9-14(25)6-7-19(13,2)21(15,23)17(26)10-20(16,3)22(12,28)18(27)11-24/h6-7,9,12,15-17,24,26,28H,4-5,8,10-11H2,1-3H3/t12-,15+,16+,17+,19+,20+,21+,22+/m1/s1', 'parent_mass': '392.19990224799994', 'adduct': '[M+CH3COO]-'}\n",
      "\n",
      "\n",
      "Spectrum 3 - Parameters:\n",
      "{'charge': [-1], 'ionmode': 'negative', 'smiles': 'C[C@@H]1C[C@H]2[C@@H]3CCC4=CC(=O)C=C[C@@]4([C@]3([C@H](C[C@@]2([C@]1(C(=O)CO)O)C)O)F)C', 'scans': '3', 'ms_level': '2', 'instrument_type': 'ESI-Orbitrap', 'file_name': 'birmingham_neg.mgf', 'peptide_sequence': '*..*', 'organism_name': 'BIRMINGHAM-UHPLC-MS-NEG', 'compound_name': 'Dexamethasone', 'principal_investigator': 'PI', 'data_collector': 'Data Collector', 'submit_user': 'mwang87', 'confidence': '1', 'spectrum_id': 'CCMSLIB00006112556', 'precursor_mz': '437.198', 'inchikey': 'UREBDLICKHMUKA-CXSFZGCWSA-N', 'inchi': 'InChI=1S/C22H29FO5/c1-12-8-16-15-5-4-13-9-14(25)6-7-19(13,2)21(15,23)17(26)10-20(16,3)22(12,28)18(27)11-24/h6-7,9,12,15-17,24,26,28H,4-5,8,10-11H2,1-3H3/t12-,15+,16+,17+,19+,20+,21+,22+/m1/s1', 'parent_mass': '392.19990224799994', 'adduct': '[M+FA-H]-'}\n",
      "\n",
      "\n"
     ]
    }
   ],
   "execution_count": 3
  },
  {
   "metadata": {
    "ExecuteTime": {
     "end_time": "2025-03-28T19:56:25.178874Z",
     "start_time": "2025-03-28T19:56:05.913670Z"
    }
   },
   "cell_type": "code",
   "source": [
    "# Teste da função que lê toda a informação dos espetros\n",
    "\n",
    "mgf_read_all(mgf_data=mgf_data, num_spectra=1)"
   ],
   "id": "e9029015ff1c87f7",
   "execution_count": 6,
   "outputs": []
  },
  {
   "metadata": {
    "ExecuteTime": {
     "end_time": "2025-04-04T17:46:30.316128Z",
     "start_time": "2025-04-04T17:44:51.442231Z"
    }
   },
   "cell_type": "code",
   "source": [
    "# Teste da função que recolhe toda a informação relativa aos espetros num formato útil (lista de dicionários)\n",
    "\n",
    "mgf_spect= mgf_get_spectra(mgf_data, num_spectra=3)"
   ],
   "id": "d8c730493ae21752",
   "outputs": [],
   "execution_count": 4
  },
  {
   "metadata": {
    "ExecuteTime": {
     "end_time": "2025-04-04T17:46:30.342761Z",
     "start_time": "2025-04-04T17:46:30.318136Z"
    }
   },
   "cell_type": "code",
   "source": [
    "# Verificar o tipo de dados da função anterior (Se dict, usar plot_spectrum; Se lis, usar plot spectra)\n",
    "\n",
    "type(mgf_spect)"
   ],
   "id": "2fdae9036e20614b",
   "outputs": [
    {
     "data": {
      "text/plain": [
       "list"
      ]
     },
     "execution_count": 5,
     "metadata": {},
     "output_type": "execute_result"
    }
   ],
   "execution_count": 5
  },
  {
   "metadata": {
    "ExecuteTime": {
     "end_time": "2025-03-28T20:13:49.322528Z",
     "start_time": "2025-03-28T20:13:48.921837Z"
    }
   },
   "cell_type": "code",
   "source": [
    "# Teste da função que dá plot a um espetro à escolha (só aceita dicionários)\n",
    "\n",
    "plot_spectrum(mgf_spect)"
   ],
   "id": "20f205587e4e43c7",
   "execution_count": 12,
   "outputs": []
  },
  {
   "metadata": {
    "ExecuteTime": {
     "end_time": "2025-04-04T17:46:31.560017Z",
     "start_time": "2025-04-04T17:46:30.344771Z"
    }
   },
   "cell_type": "code",
   "source": "plot_spectra(mgf_spect, save=1, save_path= r\"/Users/carla/PycharmProjects/Mestrado/Transformer-Based-Models-for-Chemical-Fingerprint-Prediction/data/processed/plots\")",
   "id": "80ad8c0fad567672",
   "outputs": [
    {
     "name": "stdout",
     "output_type": "stream",
     "text": [
      "Plot saved as: /Transformer-Based-Models-for-Chemical-Fingerprint-Prediction/data/processed/plots\\CCMSLIB00006112554.jpg\n",
      "Plot saved as: /Transformer-Based-Models-for-Chemical-Fingerprint-Prediction/data/processed/plots\\CCMSLIB00006112555.jpg\n",
      "Plot saved as: /Transformer-Based-Models-for-Chemical-Fingerprint-Prediction/data/processed/plots\\CCMSLIB00006112556.jpg\n"
     ]
    }
   ],
   "execution_count": 6
  }
 ],
 "metadata": {
  "kernelspec": {
   "display_name": "Python 3",
   "language": "python",
   "name": "python3"
  },
  "language_info": {
   "codemirror_mode": {
    "name": "ipython",
    "version": 2
   },
   "file_extension": ".py",
   "mimetype": "text/x-python",
   "name": "python",
   "nbconvert_exporter": "python",
   "pygments_lexer": "ipython2",
   "version": "2.7.6"
  }
 },
 "nbformat": 4,
 "nbformat_minor": 5
}

{
 "cells": [
  {
   "metadata": {},
   "cell_type": "markdown",
   "source": "# How to use the functions related to the MGF in the repository in the right way?",
   "id": "6e6217d08b06109"
  },
  {
   "metadata": {},
   "cell_type": "markdown",
   "source": "First, it's important to import some of the modules that have been built.",
   "id": "902feb81dd719da3"
  },
  {
   "cell_type": "code",
   "id": "initial_id",
   "metadata": {
    "collapsed": true,
    "ExecuteTime": {
     "end_time": "2025-06-23T17:15:35.055001Z",
     "start_time": "2025-06-23T17:15:33.665268Z"
    }
   },
   "source": [
    "from src.utils import *\n",
    "from src.mgf_tools.mgf_readers import *\n",
    "from src.mgf_tools.mgf_checks import *\n",
    "from src.mgf_tools.mgf_get import * \n",
    "from src.mgf_tools.mgf_plots import *"
   ],
   "execution_count": 1,
   "outputs": []
  },
  {
   "metadata": {},
   "cell_type": "markdown",
   "source": "Then add the path of the **.mgf** file. You can also check that there are no errors with the path.",
   "id": "7ff11b5861ebd998"
  },
  {
   "metadata": {
    "ExecuteTime": {
     "end_time": "2025-06-23T17:15:35.059130Z",
     "start_time": "2025-06-23T17:15:35.056017Z"
    }
   },
   "cell_type": "code",
   "source": [
    "mgf_data = r\"/Users/carla/PycharmProjects/Mestrado/Transformer-Based-Models-for-Chemical-Fingerprint-Prediction/datasets/raw/cleaned_gnps_library.mgf\"\n",
    "\n",
    "path_check(mgf_data)"
   ],
   "id": "226796b51c299983",
   "execution_count": 2,
   "outputs": []
  },
  {
   "metadata": {},
   "cell_type": "markdown",
   "source": [
    "Then, to ensure that the iteration is taking place correctly over the spectra, you can use the information reading functions:\n",
    "\n",
    "- validate_mgf_structure\n",
    "- mgf_read_headers\n",
    "- mgf_read_all"
   ],
   "id": "c471180eb035bcad"
  },
  {
   "metadata": {
    "ExecuteTime": {
     "end_time": "2025-05-30T16:00:30.624950Z",
     "start_time": "2025-05-30T15:59:33.022908Z"
    }
   },
   "cell_type": "code",
   "source": "validate_mgf_structure(mgf_data)",
   "id": "f697ef08da0f008b",
   "execution_count": 3,
   "outputs": []
  },
  {
   "metadata": {
    "ExecuteTime": {
     "start_time": "2025-06-17T17:31:43.692639Z"
    }
   },
   "cell_type": "code",
   "source": "mgf_read_headers(mgf_data=mgf_data)",
   "id": "9fb9bdd4fc5d0e41",
   "execution_count": null,
   "outputs": []
  },
  {
   "metadata": {
    "ExecuteTime": {
     "end_time": "2025-05-19T15:48:11.768761Z",
     "start_time": "2025-05-19T15:48:11.740627Z"
    }
   },
   "cell_type": "code",
   "source": "mgf_read_all(mgf_data=mgf_data, num_spectra=1)",
   "id": "e9029015ff1c87f7",
   "execution_count": 5,
   "outputs": []
  },
  {
   "metadata": {},
   "cell_type": "markdown",
   "source": "And check if any of the spectra does not have a **valid ID**.",
   "id": "be8cafc49a747311"
  },
  {
   "metadata": {
    "ExecuteTime": {
     "end_time": "2025-05-19T15:51:02.178559Z",
     "start_time": "2025-05-19T15:48:11.771768Z"
    }
   },
   "cell_type": "code",
   "source": "check_spectrum_ids(mgf_data)",
   "id": "ebf19aa1adddc4a5",
   "execution_count": 6,
   "outputs": []
  },
  {
   "metadata": {},
   "cell_type": "markdown",
   "source": "After the above checks, you can collect information on each spectrum with the function, **mgf_get_spectra**.",
   "id": "985fe5251e32aa4c"
  },
  {
   "metadata": {
    "ExecuteTime": {
     "end_time": "2025-06-23T17:17:10.548805Z",
     "start_time": "2025-06-23T17:15:44.376701Z"
    }
   },
   "cell_type": "code",
   "source": "mgf_spect= mgf_get_spectra(mgf_data, num_spectra=3)",
   "id": "d8c730493ae21752",
   "execution_count": 3,
   "outputs": []
  },
  {
   "metadata": {},
   "cell_type": "markdown",
   "source": [
    "Once the data has been collected, it is also important to check the format of the data in the output. \n",
    "\n",
    "If it's more than 1 spectrum, it must be a dictionary. If it's only 1 spectrum, it should be a list."
   ],
   "id": "1b8e24451fd630af"
  },
  {
   "metadata": {
    "ExecuteTime": {
     "end_time": "2025-06-09T22:55:04.991274Z",
     "start_time": "2025-06-09T22:55:04.980052Z"
    }
   },
   "cell_type": "code",
   "source": "type(mgf_spect)",
   "id": "2fdae9036e20614b",
   "execution_count": 4,
   "outputs": []
  },
  {
   "metadata": {},
   "cell_type": "markdown",
   "source": [
    "After loading the data, we can do a little exploratory analysis of the data and metadata in the file.\n",
    "\n",
    "First you can check the number of compounds and type of ionisation modes using **check_mgf_data**. It is also important to check whether the number of compounds matches the number of spectra found by the **validate_mgf_structure** function."
   ],
   "id": "a00d2b6ac7dc5713"
  },
  {
   "metadata": {
    "ExecuteTime": {
     "end_time": "2025-05-19T15:53:58.909762Z",
     "start_time": "2025-05-19T15:53:58.513565Z"
    }
   },
   "cell_type": "code",
   "source": "check_mgf_data(mgf_spect)",
   "id": "8457233dda8f150a",
   "execution_count": 8,
   "outputs": []
  },
  {
   "metadata": {},
   "cell_type": "markdown",
   "source": "You can also see the distribution of spectra by compound using **plot_spectra_distribution**.",
   "id": "9d06ece73a6bcf2b"
  },
  {
   "metadata": {
    "ExecuteTime": {
     "end_time": "2025-05-19T15:58:15.955679Z",
     "start_time": "2025-05-19T15:53:58.911313Z"
    }
   },
   "cell_type": "code",
   "source": "plot_spectra_distribution(spectra=mgf_spect, top_percent=95)",
   "id": "9bdd437cceced1a3",
   "execution_count": 9,
   "outputs": []
  },
  {
   "metadata": {},
   "cell_type": "markdown",
   "source": "",
   "id": "c736069cadad75cf"
  },
  {
   "metadata": {},
   "cell_type": "markdown",
   "source": "And some information about m/z and the number of peaks in the spectra using **check_mgf_spectra**.",
   "id": "ccb83cbd5796dd8"
  },
  {
   "metadata": {
    "ExecuteTime": {
     "end_time": "2025-06-17T17:33:45.012456Z",
     "start_time": "2025-06-17T17:33:39.101298Z"
    }
   },
   "cell_type": "code",
   "source": "check_mgf_spectra(mgf_spect, percentile=95)",
   "id": "f1a134e3a96ece13",
   "execution_count": 4,
   "outputs": []
  },
  {
   "metadata": {},
   "cell_type": "markdown",
   "source": [
    "After the exploratory analysis, you can plot the spectra.\n",
    "\n",
    "If the data collected is a dictionary (1 spectrum), you should use the function **plot_spectrum** to visualize it."
   ],
   "id": "d96870334a036014"
  },
  {
   "metadata": {
    "ExecuteTime": {
     "end_time": "2025-06-09T22:55:42.456513Z",
     "start_time": "2025-06-09T22:55:41.899839Z"
    }
   },
   "cell_type": "code",
   "source": "plot_spectrum(mgf_spect)",
   "id": "20f205587e4e43c7",
   "execution_count": 5,
   "outputs": []
  },
  {
   "metadata": {},
   "cell_type": "markdown",
   "source": "If the data collected is a list (more than 1 spectrum), you should use the function **plot_spectra** to visualize it.",
   "id": "91a03ea281a2b206"
  },
  {
   "metadata": {
    "ExecuteTime": {
     "end_time": "2025-06-23T17:17:11.235087Z",
     "start_time": "2025-06-23T17:17:10.549814Z"
    }
   },
   "cell_type": "code",
   "source": "plot_spectra(mgf_spect)",
   "id": "80ad8c0fad567672",
   "execution_count": 4,
   "outputs": []
  },
  {
   "metadata": {},
   "cell_type": "markdown",
   "source": "",
   "id": "92a401de2aa4eafe"
  },
  {
   "metadata": {},
   "cell_type": "markdown",
   "source": "In addition, it is possible to isolate and obtain the SMILES of the molecules within the .mgf file.",
   "id": "47b1e9c59709fcad"
  },
  {
   "metadata": {
    "ExecuteTime": {
     "end_time": "2025-04-14T17:40:04.322986Z",
     "start_time": "2025-04-14T17:38:21.928769Z"
    }
   },
   "cell_type": "code",
   "source": "data = mgf_get_smiles(mgf_data, num_spectra=25)",
   "id": "600c7e18ac462cd4",
   "execution_count": 3,
   "outputs": []
  }
 ],
 "metadata": {
  "kernelspec": {
   "display_name": "Python 3",
   "language": "python",
   "name": "python3"
  },
  "language_info": {
   "codemirror_mode": {
    "name": "ipython",
    "version": 2
   },
   "file_extension": ".py",
   "mimetype": "text/x-python",
   "name": "python",
   "nbconvert_exporter": "python",
   "pygments_lexer": "ipython2",
   "version": "2.7.6"
  }
 },
 "nbformat": 4,
 "nbformat_minor": 5
}

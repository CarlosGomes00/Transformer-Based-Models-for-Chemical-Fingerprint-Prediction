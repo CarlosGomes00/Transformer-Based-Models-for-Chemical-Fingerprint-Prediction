{
 "cells": [
  {
   "cell_type": "code",
   "id": "initial_id",
   "metadata": {
    "collapsed": true,
    "ExecuteTime": {
     "end_time": "2025-03-28T19:54:26.175833Z",
     "start_time": "2025-03-28T19:54:24.573871Z"
    }
   },
   "source": [
    "from src.utils import path_check\n",
    "from scripts.process_mgf import *\n"
   ],
   "outputs": [],
   "execution_count": 1
  },
  {
   "metadata": {},
   "cell_type": "markdown",
   "source": "",
   "id": "95e9505ced1c9dc4"
  },
  {
   "metadata": {
    "ExecuteTime": {
     "end_time": "2025-03-28T19:54:30.766084Z",
     "start_time": "2025-03-28T19:54:30.760159Z"
    }
   },
   "cell_type": "code",
   "source": [
    "mgf_data = r\"/Users/carla/PycharmProjects/Mestrado/Transformer-Based-Models-for-Chemical-Fingerprint-Prediction/data/raw/cleaned_gnps_library.mgf\"\n",
    "\n",
    "path_check(mgf_data)"
   ],
   "id": "226796b51c299983",
   "outputs": [
    {
     "name": "stdout",
     "output_type": "stream",
     "text": [
      "File found!\n"
     ]
    }
   ],
   "execution_count": 2
  },
  {
   "metadata": {
    "ExecuteTime": {
     "end_time": "2025-03-28T17:54:59.442010Z",
     "start_time": "2025-03-28T17:54:45.507796Z"
    }
   },
   "cell_type": "code",
   "source": "mgf_read_headers(mgf_data=mgf_data, num_spectra=3)",
   "id": "9fb9bdd4fc5d0e41",
   "outputs": [
    {
     "name": "stdout",
     "output_type": "stream",
     "text": [
      "Spectrum 1 - Parameters:\n",
      "{'charge': [-1], 'ionmode': 'negative', 'smiles': 'C[C@@H]1C[C@H]2[C@@H]3CCC4=CC(=O)C=C[C@@]4([C@]3([C@H](C[C@@]2([C@]1(C(=O)CO)O)C)O)F)C', 'scans': '1', 'ms_level': '2', 'instrument_type': 'ESI-Orbitrap', 'file_name': 'birmingham_neg.mgf', 'peptide_sequence': '*..*', 'organism_name': 'BIRMINGHAM-UHPLC-MS-NEG', 'compound_name': 'Dexamethasone', 'principal_investigator': 'PI', 'data_collector': 'Data Collector', 'submit_user': 'mwang87', 'confidence': '1', 'spectrum_id': 'CCMSLIB00006112554', 'precursor_mz': '451.214', 'inchikey': 'UREBDLICKHMUKA-CXSFZGCWSA-N', 'inchi': 'InChI=1S/C22H29FO5/c1-12-8-16-15-5-4-13-9-14(25)6-7-19(13,2)21(15,23)17(26)10-20(16,3)22(12,28)18(27)11-24/h6-7,9,12,15-17,24,26,28H,4-5,8,10-11H2,1-3H3/t12-,15+,16+,17+,19+,20+,21+,22+/m1/s1', 'parent_mass': '392.19990224799994', 'adduct': '[M+CH3COO]-'}\n",
      "\n",
      "\n",
      "Spectrum 2 - Parameters:\n",
      "{'charge': [-1], 'ionmode': 'negative', 'smiles': 'C[C@@H]1C[C@H]2[C@@H]3CCC4=CC(=O)C=C[C@@]4([C@]3([C@H](C[C@@]2([C@]1(C(=O)CO)O)C)O)F)C', 'scans': '2', 'ms_level': '2', 'instrument_type': 'ESI-Orbitrap', 'file_name': 'birmingham_neg.mgf', 'peptide_sequence': '*..*', 'organism_name': 'BIRMINGHAM-UHPLC-MS-NEG', 'compound_name': 'Dexamethasone', 'principal_investigator': 'PI', 'data_collector': 'Data Collector', 'submit_user': 'mwang87', 'confidence': '1', 'spectrum_id': 'CCMSLIB00006112555', 'precursor_mz': '451.214', 'inchikey': 'UREBDLICKHMUKA-CXSFZGCWSA-N', 'inchi': 'InChI=1S/C22H29FO5/c1-12-8-16-15-5-4-13-9-14(25)6-7-19(13,2)21(15,23)17(26)10-20(16,3)22(12,28)18(27)11-24/h6-7,9,12,15-17,24,26,28H,4-5,8,10-11H2,1-3H3/t12-,15+,16+,17+,19+,20+,21+,22+/m1/s1', 'parent_mass': '392.19990224799994', 'adduct': '[M+CH3COO]-'}\n",
      "\n",
      "\n",
      "Spectrum 3 - Parameters:\n",
      "{'charge': [-1], 'ionmode': 'negative', 'smiles': 'C[C@@H]1C[C@H]2[C@@H]3CCC4=CC(=O)C=C[C@@]4([C@]3([C@H](C[C@@]2([C@]1(C(=O)CO)O)C)O)F)C', 'scans': '3', 'ms_level': '2', 'instrument_type': 'ESI-Orbitrap', 'file_name': 'birmingham_neg.mgf', 'peptide_sequence': '*..*', 'organism_name': 'BIRMINGHAM-UHPLC-MS-NEG', 'compound_name': 'Dexamethasone', 'principal_investigator': 'PI', 'data_collector': 'Data Collector', 'submit_user': 'mwang87', 'confidence': '1', 'spectrum_id': 'CCMSLIB00006112556', 'precursor_mz': '437.198', 'inchikey': 'UREBDLICKHMUKA-CXSFZGCWSA-N', 'inchi': 'InChI=1S/C22H29FO5/c1-12-8-16-15-5-4-13-9-14(25)6-7-19(13,2)21(15,23)17(26)10-20(16,3)22(12,28)18(27)11-24/h6-7,9,12,15-17,24,26,28H,4-5,8,10-11H2,1-3H3/t12-,15+,16+,17+,19+,20+,21+,22+/m1/s1', 'parent_mass': '392.19990224799994', 'adduct': '[M+FA-H]-'}\n",
      "\n",
      "\n"
     ]
    }
   ],
   "execution_count": 3
  },
  {
   "metadata": {
    "ExecuteTime": {
     "end_time": "2025-03-28T19:56:25.178874Z",
     "start_time": "2025-03-28T19:56:05.913670Z"
    }
   },
   "cell_type": "code",
   "source": "x = mgf_read_all(mgf_data=mgf_data, num_spectra=1)",
   "id": "e9029015ff1c87f7",
   "outputs": [
    {
     "name": "stdout",
     "output_type": "stream",
     "text": [
      "Spectrum 1 - Parameters:\n",
      "{'charge': [-1], 'ionmode': 'negative', 'smiles': 'C[C@@H]1C[C@H]2[C@@H]3CCC4=CC(=O)C=C[C@@]4([C@]3([C@H](C[C@@]2([C@]1(C(=O)CO)O)C)O)F)C', 'scans': '1', 'ms_level': '2', 'instrument_type': 'ESI-Orbitrap', 'file_name': 'birmingham_neg.mgf', 'peptide_sequence': '*..*', 'organism_name': 'BIRMINGHAM-UHPLC-MS-NEG', 'compound_name': 'Dexamethasone', 'principal_investigator': 'PI', 'data_collector': 'Data Collector', 'submit_user': 'mwang87', 'confidence': '1', 'spectrum_id': 'CCMSLIB00006112554', 'precursor_mz': '451.214', 'inchikey': 'UREBDLICKHMUKA-CXSFZGCWSA-N', 'inchi': 'InChI=1S/C22H29FO5/c1-12-8-16-15-5-4-13-9-14(25)6-7-19(13,2)21(15,23)17(26)10-20(16,3)22(12,28)18(27)11-24/h6-7,9,12,15-17,24,26,28H,4-5,8,10-11H2,1-3H3/t12-,15+,16+,17+,19+,20+,21+,22+/m1/s1', 'parent_mass': '392.19990224799994', 'adduct': '[M+CH3COO]-'}\n",
      "[ 57.975498  59.013699  63.378601  63.930199  74.825302  81.913803\n",
      "  83.0037    84.152298  99.044601 121.065804 123.045403 137.061096\n",
      " 149.060806 159.081802 161.061295 165.055801 169.065399 172.052597\n",
      " 173.060593 175.040497 176.047501 185.060196 186.068497 189.055298\n",
      " 189.091599 190.062805 191.071198 194.073196 201.289597 202.872894\n",
      " 203.071793 204.078903 210.172607 221.133102 222.0681   223.076599\n",
      " 236.122406 241.120605 247.111603 263.109314 264.113495 265.12381\n",
      " 274.100311 275.108887 277.087097 277.121002 279.10199  279.136902\n",
      " 289.124115 291.102692 292.110413 293.116486 305.117615 306.127594\n",
      " 307.133911 308.138702 310.121185 311.127197 311.165405 325.144714\n",
      " 326.148407 327.139587 341.173706 343.171295 345.151093 361.182404\n",
      " 362.185913 391.19101  435.073395]\n",
      "[0.00796492 0.02869403 0.00280203 0.0030087  0.0033754  0.00343218\n",
      " 0.00315384 0.0033621  0.00522059 0.01428904 0.00801251 0.00367863\n",
      " 0.01174011 0.0051155  0.00626549 0.01516626 0.00539951 0.01158362\n",
      " 0.01309802 0.00724248 0.01042911 0.00919283 0.02518402 0.00394694\n",
      " 0.00392117 0.01627964 0.00668618 0.00516025 0.00661998 0.00636758\n",
      " 0.00597607 0.01504117 0.00347837 0.00399707 0.01276773 0.01191015\n",
      " 0.00416498 0.00464476 0.00999302 0.00393378 0.00598899 0.0349372\n",
      " 0.00506638 0.00473637 0.04537697 0.0056868  0.01566959 0.00883644\n",
      " 0.01302122 0.04009282 0.22409895 0.0330059  0.00588643 0.00463867\n",
      " 0.30074667 0.02342067 0.08678349 0.00761663 0.01509899 0.25010243\n",
      " 0.01633138 0.01424751 0.0068889  0.01748473 0.0680545  1.\n",
      " 0.06729306 0.00838311 0.00382523]\n",
      "\n",
      "\n"
     ]
    }
   ],
   "execution_count": 6
  },
  {
   "metadata": {
    "ExecuteTime": {
     "end_time": "2025-03-28T19:55:47.454552Z",
     "start_time": "2025-03-28T19:54:33.323123Z"
    }
   },
   "cell_type": "code",
   "source": "mgf_spect= mgf_get_spectra(mgf_data, num_spectra=3)",
   "id": "d8c730493ae21752",
   "outputs": [],
   "execution_count": 3
  },
  {
   "metadata": {
    "ExecuteTime": {
     "end_time": "2025-03-28T19:55:51.709477Z",
     "start_time": "2025-03-28T19:55:51.206719Z"
    }
   },
   "cell_type": "code",
   "source": "plot_spectrum(mgf_spect)",
   "id": "20f205587e4e43c7",
   "outputs": [
    {
     "ename": "TypeError",
     "evalue": "Spectrum must be a dictionary",
     "output_type": "error",
     "traceback": [
      "\u001B[31m---------------------------------------------------------------------------\u001B[39m",
      "\u001B[31mTypeError\u001B[39m                                 Traceback (most recent call last)",
      "\u001B[36mCell\u001B[39m\u001B[36m \u001B[39m\u001B[32mIn[4]\u001B[39m\u001B[32m, line 1\u001B[39m\n\u001B[32m----> \u001B[39m\u001B[32m1\u001B[39m \u001B[43mplot_spectrum\u001B[49m\u001B[43m(\u001B[49m\u001B[43mmgf_spect\u001B[49m\u001B[43m)\u001B[49m\n",
      "\u001B[36mFile \u001B[39m\u001B[32m~\\PycharmProjects\\Mestrado\\Transformer-Based-Models-for-Chemical-Fingerprint-Prediction\\scripts\\process_mgf.py:111\u001B[39m, in \u001B[36mplot_spectrum\u001B[39m\u001B[34m(spectrum, title)\u001B[39m\n\u001B[32m     97\u001B[39m \u001B[38;5;250m\u001B[39m\u001B[33;03m\"\"\"\u001B[39;00m\n\u001B[32m     98\u001B[39m \u001B[33;03mPlots a spectrum based on the information in the .mgf file\u001B[39;00m\n\u001B[32m     99\u001B[39m \n\u001B[32m   (...)\u001B[39m\u001B[32m    107\u001B[39m \u001B[33;03m    MS/MS spectra\u001B[39;00m\n\u001B[32m    108\u001B[39m \u001B[33;03m\"\"\"\u001B[39;00m\n\u001B[32m    110\u001B[39m \u001B[38;5;28;01mif\u001B[39;00m \u001B[38;5;28mtype\u001B[39m(spectrum) != \u001B[38;5;28mdict\u001B[39m:\n\u001B[32m--> \u001B[39m\u001B[32m111\u001B[39m     \u001B[38;5;28;01mraise\u001B[39;00m \u001B[38;5;167;01mTypeError\u001B[39;00m(\u001B[33m\"\u001B[39m\u001B[33mSpectrum must be a dictionary\u001B[39m\u001B[33m\"\u001B[39m)\n\u001B[32m    113\u001B[39m mz_values = spectrum[\u001B[33m'\u001B[39m\u001B[33mm/z array\u001B[39m\u001B[33m'\u001B[39m]\n\u001B[32m    114\u001B[39m intensity_values = spectrum[\u001B[33m'\u001B[39m\u001B[33mintensity array\u001B[39m\u001B[33m'\u001B[39m]\n",
      "\u001B[31mTypeError\u001B[39m: Spectrum must be a dictionary"
     ]
    }
   ],
   "execution_count": 4
  },
  {
   "metadata": {
    "ExecuteTime": {
     "end_time": "2025-03-28T19:56:33.525040Z",
     "start_time": "2025-03-28T19:56:33.517775Z"
    }
   },
   "cell_type": "code",
   "source": "type(x)",
   "id": "80ad8c0fad567672",
   "outputs": [
    {
     "data": {
      "text/plain": [
       "NoneType"
      ]
     },
     "execution_count": 7,
     "metadata": {},
     "output_type": "execute_result"
    }
   ],
   "execution_count": 7
  }
 ],
 "metadata": {
  "kernelspec": {
   "display_name": "Python 3",
   "language": "python",
   "name": "python3"
  },
  "language_info": {
   "codemirror_mode": {
    "name": "ipython",
    "version": 2
   },
   "file_extension": ".py",
   "mimetype": "text/x-python",
   "name": "python",
   "nbconvert_exporter": "python",
   "pygments_lexer": "ipython2",
   "version": "2.7.6"
  }
 },
 "nbformat": 4,
 "nbformat_minor": 5
}
